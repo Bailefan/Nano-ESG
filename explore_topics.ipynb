{
 "cells": [
  {
   "cell_type": "code",
   "execution_count": 2,
   "metadata": {},
   "outputs": [
    {
     "name": "stderr",
     "output_type": "stream",
     "text": [
      "c:\\Users\\fabian.billert\\Documents\\PhD\\ESG Project\\Paper_Dataset\\src\\.venv\\lib\\site-packages\\tqdm\\auto.py:21: TqdmWarning: IProgress not found. Please update jupyter and ipywidgets. See https://ipywidgets.readthedocs.io/en/stable/user_install.html\n",
      "  from .autonotebook import tqdm as notebook_tqdm\n"
     ]
    }
   ],
   "source": [
    "%load_ext autoreload\n",
    "%autoreload 2\n",
    "\n",
    "import numpy as np\n",
    "import pandas as pd\n",
    "from bertopic import BERTopic\n",
    "from sentence_transformers import SentenceTransformer\n",
    "\n",
    "import plotly.graph_objects as go\n",
    "from company_info import company_info_list\n",
    "\n",
    "from helper_functions import filter_data\n",
    "\n",
    "# Variable used in plots later\n",
    "textfont_size = 20"
   ]
  },
  {
   "cell_type": "code",
   "execution_count": 3,
   "metadata": {},
   "outputs": [],
   "source": [
    "# LOAD DATA\n",
    "data = pd.read_json('data/full_data/nano_esg.json', lines=True)\n",
    "\n",
    "start_date = '2023-01-01'\n",
    "end_date = '2024-09-16'\n",
    "\n",
    "companies = list(data['company'].unique())\n",
    "\n",
    "sent_dict = {'positive': 1, 'negative': -1, 'neutral': 0}\n",
    "aspect_filters = ['environmental', 'social', 'governance']\n",
    "\n",
    "data['sentiment_int'] = data['sentiment'].apply(lambda x: sent_dict[x])\n",
    "\n",
    "#For plots\n",
    "aspect_colors = {'environmental': 'forestgreen', 'social': 'cornflowerblue', 'governance': 'darkmagenta'}"
   ]
  },
  {
   "cell_type": "code",
   "execution_count": 4,
   "metadata": {},
   "outputs": [],
   "source": [
    "# Set Embedding Model used for BERTopic\n",
    "sentence_model = SentenceTransformer('jinaai/jina-embeddings-v2-base-de', trust_remote_code=True)"
   ]
  },
  {
   "cell_type": "code",
   "execution_count": null,
   "metadata": {},
   "outputs": [
    {
     "name": "stdout",
     "output_type": "stream",
     "text": [
      "vw\n"
     ]
    },
    {
     "name": "stderr",
     "output_type": "stream",
     "text": [
      "2024-11-10 19:49:53,702 - BERTopic - Embedding - Transforming documents to embeddings.\n",
      "Batches: 100%|██████████| 227/227 [13:22<00:00,  3.54s/it]\n",
      "2024-11-10 20:03:16,668 - BERTopic - Embedding - Completed ✓\n",
      "2024-11-10 20:03:16,670 - BERTopic - Dimensionality - Fitting the dimensionality reduction algorithm\n",
      "2024-11-10 20:03:52,924 - BERTopic - Dimensionality - Completed ✓\n",
      "2024-11-10 20:03:52,926 - BERTopic - Cluster - Start clustering the reduced embeddings\n",
      "2024-11-10 20:03:53,181 - BERTopic - Cluster - Completed ✓\n",
      "2024-11-10 20:03:53,185 - BERTopic - Representation - Extracting topics from clusters using representation models.\n",
      "2024-11-10 20:03:53,609 - BERTopic - Representation - Completed ✓\n",
      "20it [00:04,  4.59it/s]\n"
     ]
    }
   ],
   "source": [
    "# This cell creates topics based on the german summaries + the german keywords returned by the LLM\n",
    "# In order to get english topic representations, it is possible to use the 'summary_en' field instead of 'summary'\n",
    "# In this case the topics will be created only based on the english summaries, without the LLM-provided keywords, so their quality might be worse\n",
    "summary_field = 'summary'\n",
    "# summary_field = 'summary_en'\n",
    "\n",
    "# Overwrite companies - processing all of them can take a bit of time\n",
    "companies = ['vw'] #'bayer', 'bmw', 'siemens'\n",
    "topic_aspect_filters = ['all']\n",
    "\n",
    "company_topics = {}\n",
    "for company in companies:\n",
    "    print(company)\n",
    "    company_data = data[data['company'] == company]\n",
    "    aspect_topics = {}\n",
    "    for aspect in topic_aspect_filters:\n",
    "        if aspect == 'all':\n",
    "            aspect_data = company_data\n",
    "        else:\n",
    "            aspect_data = company_data[company_data['aspect'] == aspect]\n",
    "\n",
    "        #remove company name from keywords\n",
    "        keyword_filter = company_info_list[company]['keyword_filter']\n",
    "        aspect_data['keywords'] = aspect_data['keywords'].apply(lambda x: [i for i in x if i.lower() not in [j.lower() for j in keyword_filter]])\n",
    "\n",
    "        timestamps = aspect_data['date'].to_list()\n",
    "        # Note that we only have the keywords returned by the LLM in german\n",
    "        if summary_field == 'summary':\n",
    "            articles = [i[summary_field] + ' - ' + ', '.join(i['keywords']) for id, i in aspect_data.iterrows()]\n",
    "        elif summary_field == 'summary_en':\n",
    "            articles = aspect_data[summary_field].to_list()\n",
    "\n",
    "        if not articles:\n",
    "            continue\n",
    "\n",
    "        # Create a BERTopic model\n",
    "        topic_model = BERTopic(embedding_model=sentence_model, verbose=True)\n",
    "        try:\n",
    "            topics, probs = topic_model.fit_transform(articles)\n",
    "        except Exception as e:\n",
    "            print(f'Error for {company} and {aspect}: {e}')\n",
    "            continue\n",
    "        topic_info = topic_model.get_topic_info()\n",
    "        topic_dict = {'topics': topics, 'probs': probs, 'timestamps': timestamps, 'articles': articles, 'topic_info': topic_info}\n",
    "        aspect_topics[aspect] = topic_dict\n",
    "    company_topics[company] = aspect_topics"
   ]
  },
  {
   "cell_type": "code",
   "execution_count": null,
   "metadata": {},
   "outputs": [],
   "source": [
    "# Determine Mean Relevance, Mean Sentiment and more for each topic\n",
    "\n",
    "a = 'all'\n",
    "company_articles = {}\n",
    "for c in companies:\n",
    "    topic_subset = company_topics[c][a]\n",
    "    c_data = data[data['company'] == c]\n",
    "    c_data['topics'] = topic_subset['topics']\n",
    "\n",
    "    topic_basis = 'topics'\n",
    "\n",
    "    topic_rel_score = {}\n",
    "    topic_mean_sent = {}\n",
    "    topic_aspects = {}\n",
    "    topic_dates = {}\n",
    "    num_articles_last_months = {}\n",
    "    for topic_number in topic_subset['topic_info']['Topic']:\n",
    "        topic_rel_score[topic_number] = np.mean(c_data[c_data[topic_basis] == topic_number]['relevance_score'])\n",
    "        topic_mean_sent[topic_number] = np.mean(c_data[c_data[topic_basis] == topic_number]['sentiment_int'])\n",
    "        topic_aspects[topic_number] = c_data[c_data[topic_basis] == topic_number][['aspect']].value_counts(normalize=True).to_dict()\n",
    "        topic_dates[topic_number] = pd.Timestamp(c_data[c_data[topic_basis] == topic_number]['date'].astype('int64').mean())\n",
    "        # The following determines the number of recently published articles for each topic\n",
    "        num_articles_last_months[topic_number] = c_data[(c_data[topic_basis] == topic_number) & (c_data['date'] >= '2024-08-01')]['volume'].count()\n",
    "\n",
    "    topic_subset['topic_info']['Mean_Relevance'] = topic_subset['topic_info'].apply(lambda x: topic_rel_score[x['Topic']], axis=1)\n",
    "    topic_subset['topic_info']['Mean_Sentiment'] = topic_subset['topic_info'].apply(lambda x: topic_mean_sent[x['Topic']], axis=1)\n",
    "    topic_subset['topic_info']['Aspects'] = topic_subset['topic_info'].apply(lambda x: topic_aspects[x['Topic']], axis=1)\n",
    "    topic_subset['topic_info']['Mean_Date'] = topic_subset['topic_info'].apply(lambda x: topic_dates[x['Topic']], axis=1)\n",
    "    topic_subset['topic_info']['Recent_Articles'] = topic_subset['topic_info'].apply(lambda x: num_articles_last_months[x['Topic']], axis=1)\n",
    "\n",
    "    company_topics[c][a] = topic_subset\n",
    "    company_articles[c] = c_data"
   ]
  },
  {
   "cell_type": "code",
   "execution_count": 10,
   "metadata": {},
   "outputs": [],
   "source": [
    "c = 'vw'\n",
    "a = 'all'\n",
    "topic_subset = company_topics[c][a]"
   ]
  },
  {
   "cell_type": "code",
   "execution_count": 11,
   "metadata": {},
   "outputs": [
    {
     "data": {
      "text/html": [
       "<div>\n",
       "<style scoped>\n",
       "    .dataframe tbody tr th:only-of-type {\n",
       "        vertical-align: middle;\n",
       "    }\n",
       "\n",
       "    .dataframe tbody tr th {\n",
       "        vertical-align: top;\n",
       "    }\n",
       "\n",
       "    .dataframe thead th {\n",
       "        text-align: right;\n",
       "    }\n",
       "</style>\n",
       "<table border=\"1\" class=\"dataframe\">\n",
       "  <thead>\n",
       "    <tr style=\"text-align: right;\">\n",
       "      <th></th>\n",
       "      <th>Topic</th>\n",
       "      <th>Count</th>\n",
       "      <th>Name</th>\n",
       "      <th>Representation</th>\n",
       "      <th>Representative_Docs</th>\n",
       "      <th>Mean_Relevance</th>\n",
       "      <th>Mean_Sentiment</th>\n",
       "      <th>Aspects</th>\n",
       "      <th>Mean_Date</th>\n",
       "      <th>Recent_Articles</th>\n",
       "    </tr>\n",
       "  </thead>\n",
       "  <tbody>\n",
       "    <tr>\n",
       "      <th>5</th>\n",
       "      <td>4</td>\n",
       "      <td>97</td>\n",
       "      <td>4_xinjiang_zwangsarbeit_uiguren_menschenrechts...</td>\n",
       "      <td>[xinjiang, zwangsarbeit, uiguren, menschenrech...</td>\n",
       "      <td>[Der Artikel behandelt Chinas Pläne für eine F...</td>\n",
       "      <td>8.340206</td>\n",
       "      <td>-0.659794</td>\n",
       "      <td>{('social',): 0.9072164948453608, ('governance...</td>\n",
       "      <td>2023-10-26 14:55:30.453607936</td>\n",
       "      <td>0</td>\n",
       "    </tr>\n",
       "    <tr>\n",
       "      <th>87</th>\n",
       "      <td>86</td>\n",
       "      <td>22</td>\n",
       "      <td>86_stadler_rupert_bewährungsstrafe_hatz</td>\n",
       "      <td>[stadler, rupert, bewährungsstrafe, hatz, audi...</td>\n",
       "      <td>[Der frühere Audi-Chef Rupert Stadler gestand ...</td>\n",
       "      <td>8.227273</td>\n",
       "      <td>-1.000000</td>\n",
       "      <td>{('governance',): 0.9545454545454546, ('social...</td>\n",
       "      <td>2023-06-20 21:23:45.500000000</td>\n",
       "      <td>0</td>\n",
       "    </tr>\n",
       "    <tr>\n",
       "      <th>7</th>\n",
       "      <td>6</td>\n",
       "      <td>91</td>\n",
       "      <td>6_thermofenster_abgasreinigung_eugh_abschaltei...</td>\n",
       "      <td>[thermofenster, abgasreinigung, eugh, abschalt...</td>\n",
       "      <td>[Der EuGH entschied am 21. März 2023, dass VW ...</td>\n",
       "      <td>8.208791</td>\n",
       "      <td>-0.912088</td>\n",
       "      <td>{('governance',): 0.5934065934065934, ('enviro...</td>\n",
       "      <td>2023-07-15 18:03:23.351648768</td>\n",
       "      <td>2</td>\n",
       "    </tr>\n",
       "    <tr>\n",
       "      <th>28</th>\n",
       "      <td>27</td>\n",
       "      <td>46</td>\n",
       "      <td>27_winterkorn_martin_braunschweig_dieselaffäre</td>\n",
       "      <td>[winterkorn, martin, braunschweig, dieselaffär...</td>\n",
       "      <td>[Der frühere VW-Chef Martin Winterkorn musste ...</td>\n",
       "      <td>8.173913</td>\n",
       "      <td>-0.934783</td>\n",
       "      <td>{('governance',): 1.0}</td>\n",
       "      <td>2023-10-04 07:06:54.239130368</td>\n",
       "      <td>3</td>\n",
       "    </tr>\n",
       "    <tr>\n",
       "      <th>56</th>\n",
       "      <td>55</td>\n",
       "      <td>32</td>\n",
       "      <td>55_milliarden_180_investitionen_forschung</td>\n",
       "      <td>[milliarden, 180, investitionen, forschung, eu...</td>\n",
       "      <td>[Volkswagen plant, seine Investitionen in den ...</td>\n",
       "      <td>8.062500</td>\n",
       "      <td>0.687500</td>\n",
       "      <td>{('environmental',): 0.8125, ('governance',): ...</td>\n",
       "      <td>2023-08-27 15:55:38.031249920</td>\n",
       "      <td>2</td>\n",
       "    </tr>\n",
       "    <tr>\n",
       "      <th>109</th>\n",
       "      <td>108</td>\n",
       "      <td>16</td>\n",
       "      <td>108_co2_based_kohle_scope</td>\n",
       "      <td>[co2, based, kohle, scope, klimaneutral, emiss...</td>\n",
       "      <td>[Volkswagen ist mit 493 Millionen Tonnen CO2-E...</td>\n",
       "      <td>8.000000</td>\n",
       "      <td>0.500000</td>\n",
       "      <td>{('environmental',): 0.9375, ('social',): 0.0625}</td>\n",
       "      <td>2023-08-02 17:00:32.125000192</td>\n",
       "      <td>0</td>\n",
       "    </tr>\n",
       "    <tr>\n",
       "      <th>52</th>\n",
       "      <td>51</td>\n",
       "      <td>35</td>\n",
       "      <td>51_abgasnorm_euro_luftqualität_feinstaub</td>\n",
       "      <td>[abgasnorm, euro, luftqualität, feinstaub, lem...</td>\n",
       "      <td>[VW kritisiert die EU-Pläne zur Euro 7-Abgasno...</td>\n",
       "      <td>8.000000</td>\n",
       "      <td>-0.857143</td>\n",
       "      <td>{('environmental',): 0.9142857142857143, ('soc...</td>\n",
       "      <td>2023-05-13 09:21:55.400000000</td>\n",
       "      <td>0</td>\n",
       "    </tr>\n",
       "    <tr>\n",
       "      <th>153</th>\n",
       "      <td>152</td>\n",
       "      <td>11</td>\n",
       "      <td>152_umweltbonus_förderung_bundeswirtschaftsmin...</td>\n",
       "      <td>[umweltbonus, förderung, bundeswirtschaftsmini...</td>\n",
       "      <td>[Die deutsche Regierung streicht ab dem 18. De...</td>\n",
       "      <td>8.000000</td>\n",
       "      <td>-0.363636</td>\n",
       "      <td>{('environmental',): 1.0}</td>\n",
       "      <td>2023-12-06 05:42:20.272727552</td>\n",
       "      <td>1</td>\n",
       "    </tr>\n",
       "    <tr>\n",
       "      <th>138</th>\n",
       "      <td>137</td>\n",
       "      <td>13</td>\n",
       "      <td>137_continental_staatsanwaltschaft_ermittlunge...</td>\n",
       "      <td>[continental, staatsanwaltschaft, ermittlungen...</td>\n",
       "      <td>[Die Staatsanwaltschaft Hannover ermittelt sei...</td>\n",
       "      <td>8.000000</td>\n",
       "      <td>-1.000000</td>\n",
       "      <td>{('governance',): 1.0}</td>\n",
       "      <td>2023-11-13 04:24:10.615384832</td>\n",
       "      <td>0</td>\n",
       "    </tr>\n",
       "    <tr>\n",
       "      <th>58</th>\n",
       "      <td>57</td>\n",
       "      <td>32</td>\n",
       "      <td>57_recycling_redwood_salzgitter_lithium</td>\n",
       "      <td>[recycling, redwood, salzgitter, lithium, batt...</td>\n",
       "      <td>[Volkswagen hat in Salzgitter eine Recyclingan...</td>\n",
       "      <td>7.968750</td>\n",
       "      <td>0.906250</td>\n",
       "      <td>{('environmental',): 1.0}</td>\n",
       "      <td>2023-08-13 11:12:16.968750080</td>\n",
       "      <td>1</td>\n",
       "    </tr>\n",
       "    <tr>\n",
       "      <th>40</th>\n",
       "      <td>39</td>\n",
       "      <td>40</td>\n",
       "      <td>39_dieselgate_strafen_strafe_millionen</td>\n",
       "      <td>[dieselgate, strafen, strafe, millionen, skand...</td>\n",
       "      <td>[Volkswagen (VW) wurde für irreführende Emissi...</td>\n",
       "      <td>7.925000</td>\n",
       "      <td>-0.975000</td>\n",
       "      <td>{('governance',): 0.65, ('environmental',): 0.35}</td>\n",
       "      <td>2023-09-24 19:07:10.100000000</td>\n",
       "      <td>0</td>\n",
       "    </tr>\n",
       "    <tr>\n",
       "      <th>135</th>\n",
       "      <td>134</td>\n",
       "      <td>13</td>\n",
       "      <td>134_natrium_ionen_jac_energiedichte</td>\n",
       "      <td>[natrium, ionen, jac, energiedichte, kostengün...</td>\n",
       "      <td>[Volkswagen Anhui, ein Joint Venture mit JAC, ...</td>\n",
       "      <td>7.923077</td>\n",
       "      <td>1.000000</td>\n",
       "      <td>{('environmental',): 1.0}</td>\n",
       "      <td>2023-08-07 09:00:22.153846272</td>\n",
       "      <td>0</td>\n",
       "    </tr>\n",
       "    <tr>\n",
       "      <th>141</th>\n",
       "      <td>140</td>\n",
       "      <td>12</td>\n",
       "      <td>140_umicore_polen_nysa_ionway</td>\n",
       "      <td>[umicore, polen, nysa, ionway, ungarn, batteri...</td>\n",
       "      <td>[Der Artikel behandelt die Verlagerung von VW ...</td>\n",
       "      <td>7.916667</td>\n",
       "      <td>0.416667</td>\n",
       "      <td>{('environmental',): 0.9166666666666666, ('soc...</td>\n",
       "      <td>2023-12-11 01:18:42.166666240</td>\n",
       "      <td>1</td>\n",
       "    </tr>\n",
       "    <tr>\n",
       "      <th>108</th>\n",
       "      <td>107</td>\n",
       "      <td>17</td>\n",
       "      <td>107_moia_arbeitsbedingungen_ig_metall</td>\n",
       "      <td>[moia, arbeitsbedingungen, ig, metall, tarifve...</td>\n",
       "      <td>[Die IG Metall hat einen Warnstreik bei Moia, ...</td>\n",
       "      <td>7.882353</td>\n",
       "      <td>-0.529412</td>\n",
       "      <td>{('social',): 1.0}</td>\n",
       "      <td>2023-11-13 04:39:48.588235264</td>\n",
       "      <td>0</td>\n",
       "    </tr>\n",
       "    <tr>\n",
       "      <th>9</th>\n",
       "      <td>8</td>\n",
       "      <td>80</td>\n",
       "      <td>8_salzgitter_spanien_powerco_valencia</td>\n",
       "      <td>[salzgitter, spanien, powerco, valencia, mexik...</td>\n",
       "      <td>[Volkswagen sucht weltweit nach Batterieliefer...</td>\n",
       "      <td>7.850000</td>\n",
       "      <td>0.750000</td>\n",
       "      <td>{('environmental',): 0.8875, ('social',): 0.07...</td>\n",
       "      <td>2023-10-11 06:08:19.249999872</td>\n",
       "      <td>4</td>\n",
       "    </tr>\n",
       "    <tr>\n",
       "      <th>76</th>\n",
       "      <td>75</td>\n",
       "      <td>25</td>\n",
       "      <td>75_seat_cupra_martorell_raval</td>\n",
       "      <td>[seat, cupra, martorell, raval, griffiths, mob...</td>\n",
       "      <td>[Der Artikel berichtet über die Einführung des...</td>\n",
       "      <td>7.840000</td>\n",
       "      <td>0.760000</td>\n",
       "      <td>{('environmental',): 1.0}</td>\n",
       "      <td>2023-10-22 13:44:32.080000000</td>\n",
       "      <td>1</td>\n",
       "    </tr>\n",
       "    <tr>\n",
       "      <th>150</th>\n",
       "      <td>149</td>\n",
       "      <td>11</td>\n",
       "      <td>149_fuels_blume_oliver_synthetische</td>\n",
       "      <td>[fuels, blume, oliver, synthetische, kraftstof...</td>\n",
       "      <td>[VW-CEO Oliver Blume unterstützt Berlins Block...</td>\n",
       "      <td>7.818182</td>\n",
       "      <td>0.272727</td>\n",
       "      <td>{('environmental',): 0.9090909090909091, ('gov...</td>\n",
       "      <td>2023-07-14 06:08:27.181817856</td>\n",
       "      <td>1</td>\n",
       "    </tr>\n",
       "    <tr>\n",
       "      <th>50</th>\n",
       "      <td>49</td>\n",
       "      <td>35</td>\n",
       "      <td>49_reduction_act_inflation_subventionen</td>\n",
       "      <td>[reduction, act, inflation, subventionen, usa,...</td>\n",
       "      <td>[Der Artikel behandelt die Auswirkungen des In...</td>\n",
       "      <td>7.800000</td>\n",
       "      <td>-0.285714</td>\n",
       "      <td>{('environmental',): 0.8571428571428571, ('gov...</td>\n",
       "      <td>2023-04-30 11:40:05.971428352</td>\n",
       "      <td>0</td>\n",
       "    </tr>\n",
       "    <tr>\n",
       "      <th>123</th>\n",
       "      <td>122</td>\n",
       "      <td>14</td>\n",
       "      <td>122_rückruf_türgriffe_ruft_nhtsa</td>\n",
       "      <td>[rückruf, türgriffe, ruft, nhtsa, id4, zurück,...</td>\n",
       "      <td>[Volkswagen ruft fast 80.000 ID.4 SUVs aus 202...</td>\n",
       "      <td>7.785714</td>\n",
       "      <td>-1.000000</td>\n",
       "      <td>{('governance',): 0.5714285714285714, ('enviro...</td>\n",
       "      <td>2023-10-25 21:45:29.285714176</td>\n",
       "      <td>2</td>\n",
       "    </tr>\n",
       "    <tr>\n",
       "      <th>2</th>\n",
       "      <td>1</td>\n",
       "      <td>130</td>\n",
       "      <td>1_2035_verbot_eu_fuels</td>\n",
       "      <td>[2035, verbot, eu, fuels, verbrennungsmotoren,...</td>\n",
       "      <td>[Der Artikel behandelt das EU-Verbot von Verbr...</td>\n",
       "      <td>7.761538</td>\n",
       "      <td>-0.069231</td>\n",
       "      <td>{('environmental',): 0.9615384615384616, ('gov...</td>\n",
       "      <td>2023-10-27 20:37:11.592307712</td>\n",
       "      <td>12</td>\n",
       "    </tr>\n",
       "  </tbody>\n",
       "</table>\n",
       "</div>"
      ],
      "text/plain": [
       "     Topic  Count                                               Name  \\\n",
       "5        4     97  4_xinjiang_zwangsarbeit_uiguren_menschenrechts...   \n",
       "87      86     22            86_stadler_rupert_bewährungsstrafe_hatz   \n",
       "7        6     91  6_thermofenster_abgasreinigung_eugh_abschaltei...   \n",
       "28      27     46     27_winterkorn_martin_braunschweig_dieselaffäre   \n",
       "56      55     32          55_milliarden_180_investitionen_forschung   \n",
       "109    108     16                          108_co2_based_kohle_scope   \n",
       "52      51     35           51_abgasnorm_euro_luftqualität_feinstaub   \n",
       "153    152     11  152_umweltbonus_förderung_bundeswirtschaftsmin...   \n",
       "138    137     13  137_continental_staatsanwaltschaft_ermittlunge...   \n",
       "58      57     32            57_recycling_redwood_salzgitter_lithium   \n",
       "40      39     40             39_dieselgate_strafen_strafe_millionen   \n",
       "135    134     13                134_natrium_ionen_jac_energiedichte   \n",
       "141    140     12                      140_umicore_polen_nysa_ionway   \n",
       "108    107     17              107_moia_arbeitsbedingungen_ig_metall   \n",
       "9        8     80              8_salzgitter_spanien_powerco_valencia   \n",
       "76      75     25                      75_seat_cupra_martorell_raval   \n",
       "150    149     11                149_fuels_blume_oliver_synthetische   \n",
       "50      49     35            49_reduction_act_inflation_subventionen   \n",
       "123    122     14                   122_rückruf_türgriffe_ruft_nhtsa   \n",
       "2        1    130                             1_2035_verbot_eu_fuels   \n",
       "\n",
       "                                        Representation  \\\n",
       "5    [xinjiang, zwangsarbeit, uiguren, menschenrech...   \n",
       "87   [stadler, rupert, bewährungsstrafe, hatz, audi...   \n",
       "7    [thermofenster, abgasreinigung, eugh, abschalt...   \n",
       "28   [winterkorn, martin, braunschweig, dieselaffär...   \n",
       "56   [milliarden, 180, investitionen, forschung, eu...   \n",
       "109  [co2, based, kohle, scope, klimaneutral, emiss...   \n",
       "52   [abgasnorm, euro, luftqualität, feinstaub, lem...   \n",
       "153  [umweltbonus, förderung, bundeswirtschaftsmini...   \n",
       "138  [continental, staatsanwaltschaft, ermittlungen...   \n",
       "58   [recycling, redwood, salzgitter, lithium, batt...   \n",
       "40   [dieselgate, strafen, strafe, millionen, skand...   \n",
       "135  [natrium, ionen, jac, energiedichte, kostengün...   \n",
       "141  [umicore, polen, nysa, ionway, ungarn, batteri...   \n",
       "108  [moia, arbeitsbedingungen, ig, metall, tarifve...   \n",
       "9    [salzgitter, spanien, powerco, valencia, mexik...   \n",
       "76   [seat, cupra, martorell, raval, griffiths, mob...   \n",
       "150  [fuels, blume, oliver, synthetische, kraftstof...   \n",
       "50   [reduction, act, inflation, subventionen, usa,...   \n",
       "123  [rückruf, türgriffe, ruft, nhtsa, id4, zurück,...   \n",
       "2    [2035, verbot, eu, fuels, verbrennungsmotoren,...   \n",
       "\n",
       "                                   Representative_Docs  Mean_Relevance  \\\n",
       "5    [Der Artikel behandelt Chinas Pläne für eine F...        8.340206   \n",
       "87   [Der frühere Audi-Chef Rupert Stadler gestand ...        8.227273   \n",
       "7    [Der EuGH entschied am 21. März 2023, dass VW ...        8.208791   \n",
       "28   [Der frühere VW-Chef Martin Winterkorn musste ...        8.173913   \n",
       "56   [Volkswagen plant, seine Investitionen in den ...        8.062500   \n",
       "109  [Volkswagen ist mit 493 Millionen Tonnen CO2-E...        8.000000   \n",
       "52   [VW kritisiert die EU-Pläne zur Euro 7-Abgasno...        8.000000   \n",
       "153  [Die deutsche Regierung streicht ab dem 18. De...        8.000000   \n",
       "138  [Die Staatsanwaltschaft Hannover ermittelt sei...        8.000000   \n",
       "58   [Volkswagen hat in Salzgitter eine Recyclingan...        7.968750   \n",
       "40   [Volkswagen (VW) wurde für irreführende Emissi...        7.925000   \n",
       "135  [Volkswagen Anhui, ein Joint Venture mit JAC, ...        7.923077   \n",
       "141  [Der Artikel behandelt die Verlagerung von VW ...        7.916667   \n",
       "108  [Die IG Metall hat einen Warnstreik bei Moia, ...        7.882353   \n",
       "9    [Volkswagen sucht weltweit nach Batterieliefer...        7.850000   \n",
       "76   [Der Artikel berichtet über die Einführung des...        7.840000   \n",
       "150  [VW-CEO Oliver Blume unterstützt Berlins Block...        7.818182   \n",
       "50   [Der Artikel behandelt die Auswirkungen des In...        7.800000   \n",
       "123  [Volkswagen ruft fast 80.000 ID.4 SUVs aus 202...        7.785714   \n",
       "2    [Der Artikel behandelt das EU-Verbot von Verbr...        7.761538   \n",
       "\n",
       "     Mean_Sentiment                                            Aspects  \\\n",
       "5         -0.659794  {('social',): 0.9072164948453608, ('governance...   \n",
       "87        -1.000000  {('governance',): 0.9545454545454546, ('social...   \n",
       "7         -0.912088  {('governance',): 0.5934065934065934, ('enviro...   \n",
       "28        -0.934783                             {('governance',): 1.0}   \n",
       "56         0.687500  {('environmental',): 0.8125, ('governance',): ...   \n",
       "109        0.500000  {('environmental',): 0.9375, ('social',): 0.0625}   \n",
       "52        -0.857143  {('environmental',): 0.9142857142857143, ('soc...   \n",
       "153       -0.363636                          {('environmental',): 1.0}   \n",
       "138       -1.000000                             {('governance',): 1.0}   \n",
       "58         0.906250                          {('environmental',): 1.0}   \n",
       "40        -0.975000  {('governance',): 0.65, ('environmental',): 0.35}   \n",
       "135        1.000000                          {('environmental',): 1.0}   \n",
       "141        0.416667  {('environmental',): 0.9166666666666666, ('soc...   \n",
       "108       -0.529412                                 {('social',): 1.0}   \n",
       "9          0.750000  {('environmental',): 0.8875, ('social',): 0.07...   \n",
       "76         0.760000                          {('environmental',): 1.0}   \n",
       "150        0.272727  {('environmental',): 0.9090909090909091, ('gov...   \n",
       "50        -0.285714  {('environmental',): 0.8571428571428571, ('gov...   \n",
       "123       -1.000000  {('governance',): 0.5714285714285714, ('enviro...   \n",
       "2         -0.069231  {('environmental',): 0.9615384615384616, ('gov...   \n",
       "\n",
       "                        Mean_Date  Recent_Articles  \n",
       "5   2023-10-26 14:55:30.453607936                0  \n",
       "87  2023-06-20 21:23:45.500000000                0  \n",
       "7   2023-07-15 18:03:23.351648768                2  \n",
       "28  2023-10-04 07:06:54.239130368                3  \n",
       "56  2023-08-27 15:55:38.031249920                2  \n",
       "109 2023-08-02 17:00:32.125000192                0  \n",
       "52  2023-05-13 09:21:55.400000000                0  \n",
       "153 2023-12-06 05:42:20.272727552                1  \n",
       "138 2023-11-13 04:24:10.615384832                0  \n",
       "58  2023-08-13 11:12:16.968750080                1  \n",
       "40  2023-09-24 19:07:10.100000000                0  \n",
       "135 2023-08-07 09:00:22.153846272                0  \n",
       "141 2023-12-11 01:18:42.166666240                1  \n",
       "108 2023-11-13 04:39:48.588235264                0  \n",
       "9   2023-10-11 06:08:19.249999872                4  \n",
       "76  2023-10-22 13:44:32.080000000                1  \n",
       "150 2023-07-14 06:08:27.181817856                1  \n",
       "50  2023-04-30 11:40:05.971428352                0  \n",
       "123 2023-10-25 21:45:29.285714176                2  \n",
       "2   2023-10-27 20:37:11.592307712               12  "
      ]
     },
     "execution_count": 11,
     "metadata": {},
     "output_type": "execute_result"
    }
   ],
   "source": [
    "# Show the 20 most relevant topics\n",
    "topic_subset['topic_info'].sort_values('Mean_Relevance', ascending=False).head(20)"
   ]
  },
  {
   "cell_type": "markdown",
   "metadata": {},
   "source": [
    "### Fig 4: Positive & Negative Articles per month of Topic related to forced labor in China's Xinjiang Province"
   ]
  },
  {
   "cell_type": "code",
   "execution_count": 46,
   "metadata": {},
   "outputs": [
    {
     "name": "stdout",
     "output_type": "stream",
     "text": [
      "5    4_xinjiang_zwangsarbeit_uiguren_menschenrechts...\n",
      "Name: Name, dtype: object\n",
      "aspect\n",
      "social           0.907216\n",
      "governance       0.082474\n",
      "environmental    0.010309\n",
      "Name: proportion, dtype: float64\n"
     ]
    },
    {
     "data": {
      "application/vnd.plotly.v1+json": {
       "config": {
        "plotlyServerURL": "https://plot.ly"
       },
       "data": [
        {
         "hovertemplate": "environmental Positive: %{y}<extra></extra>",
         "marker": {
          "color": "forestgreen"
         },
         "name": "Environmental",
         "offsetgroup": "1",
         "showlegend": false,
         "type": "bar",
         "x": [],
         "y": [],
         "yaxis": "y"
        },
        {
         "hovertemplate": "social Positive: %{y}<extra></extra>",
         "marker": {
          "color": "cornflowerblue"
         },
         "name": "Social",
         "offsetgroup": "1",
         "showlegend": false,
         "type": "bar",
         "x": [
          "2023-11-01T00:00:00",
          "2023-12-01T00:00:00",
          "2024-01-01T00:00:00",
          "2024-02-01T00:00:00",
          "2024-03-01T00:00:00",
          "2024-04-01T00:00:00",
          "2024-05-01T00:00:00"
         ],
         "y": [
          1,
          9,
          0,
          0,
          0,
          0,
          1
         ],
         "yaxis": "y"
        },
        {
         "hovertemplate": "governance Positive: %{y}<extra></extra>",
         "marker": {
          "color": "darkmagenta"
         },
         "name": "Governance",
         "offsetgroup": "1",
         "showlegend": false,
         "type": "bar",
         "x": [
          "2023-06-01T00:00:00"
         ],
         "y": [
          1
         ],
         "yaxis": "y"
        },
        {
         "hovertemplate": "environmental Negative: %{y}<extra></extra>",
         "marker": {
          "color": "forestgreen"
         },
         "name": "Environmental",
         "offsetgroup": "2",
         "showlegend": true,
         "type": "bar",
         "x": [
          "2024-04-01T00:00:00"
         ],
         "y": [
          -1
         ],
         "yaxis": "y"
        },
        {
         "hovertemplate": "social Negative: %{y}<extra></extra>",
         "marker": {
          "color": "cornflowerblue"
         },
         "name": "Social",
         "offsetgroup": "2",
         "showlegend": true,
         "type": "bar",
         "x": [
          "2023-01-01T00:00:00",
          "2023-02-01T00:00:00",
          "2023-03-01T00:00:00",
          "2023-04-01T00:00:00",
          "2023-05-01T00:00:00",
          "2023-06-01T00:00:00",
          "2023-07-01T00:00:00",
          "2023-08-01T00:00:00",
          "2023-09-01T00:00:00",
          "2023-10-01T00:00:00",
          "2023-11-01T00:00:00",
          "2023-12-01T00:00:00",
          "2024-01-01T00:00:00",
          "2024-02-01T00:00:00",
          "2024-03-01T00:00:00",
          "2024-04-01T00:00:00",
          "2024-05-01T00:00:00"
         ],
         "y": [
          -1,
          -3,
          -6,
          -4,
          -6,
          -5,
          -3,
          -2,
          -2,
          -2,
          -2,
          -1,
          0,
          -15,
          -5,
          -6,
          -7
         ],
         "yaxis": "y"
        },
        {
         "hovertemplate": "governance Negative: %{y}<extra></extra>",
         "marker": {
          "color": "darkmagenta"
         },
         "name": "Governance",
         "offsetgroup": "2",
         "showlegend": true,
         "type": "bar",
         "x": [
          "2023-05-01T00:00:00",
          "2023-06-01T00:00:00",
          "2023-07-01T00:00:00",
          "2023-08-01T00:00:00",
          "2023-09-01T00:00:00",
          "2023-10-01T00:00:00",
          "2023-11-01T00:00:00",
          "2023-12-01T00:00:00",
          "2024-01-01T00:00:00",
          "2024-02-01T00:00:00"
         ],
         "y": [
          -1,
          0,
          0,
          0,
          0,
          0,
          0,
          -1,
          0,
          -3
         ],
         "yaxis": "y"
        }
       ],
       "layout": {
        "bargap": 0.2,
        "barmode": "relative",
        "height": 500,
        "legend": {
         "bgcolor": "rgba(255, 255, 255, 0.8)",
         "bordercolor": "black",
         "borderwidth": 1,
         "font": {
          "size": 20
         }
        },
        "template": {
         "data": {
          "bar": [
           {
            "error_x": {
             "color": "#2a3f5f"
            },
            "error_y": {
             "color": "#2a3f5f"
            },
            "marker": {
             "line": {
              "color": "#E5ECF6",
              "width": 0.5
             },
             "pattern": {
              "fillmode": "overlay",
              "size": 10,
              "solidity": 0.2
             }
            },
            "type": "bar"
           }
          ],
          "barpolar": [
           {
            "marker": {
             "line": {
              "color": "#E5ECF6",
              "width": 0.5
             },
             "pattern": {
              "fillmode": "overlay",
              "size": 10,
              "solidity": 0.2
             }
            },
            "type": "barpolar"
           }
          ],
          "carpet": [
           {
            "aaxis": {
             "endlinecolor": "#2a3f5f",
             "gridcolor": "white",
             "linecolor": "white",
             "minorgridcolor": "white",
             "startlinecolor": "#2a3f5f"
            },
            "baxis": {
             "endlinecolor": "#2a3f5f",
             "gridcolor": "white",
             "linecolor": "white",
             "minorgridcolor": "white",
             "startlinecolor": "#2a3f5f"
            },
            "type": "carpet"
           }
          ],
          "choropleth": [
           {
            "colorbar": {
             "outlinewidth": 0,
             "ticks": ""
            },
            "type": "choropleth"
           }
          ],
          "contour": [
           {
            "colorbar": {
             "outlinewidth": 0,
             "ticks": ""
            },
            "colorscale": [
             [
              0,
              "#0d0887"
             ],
             [
              0.1111111111111111,
              "#46039f"
             ],
             [
              0.2222222222222222,
              "#7201a8"
             ],
             [
              0.3333333333333333,
              "#9c179e"
             ],
             [
              0.4444444444444444,
              "#bd3786"
             ],
             [
              0.5555555555555556,
              "#d8576b"
             ],
             [
              0.6666666666666666,
              "#ed7953"
             ],
             [
              0.7777777777777778,
              "#fb9f3a"
             ],
             [
              0.8888888888888888,
              "#fdca26"
             ],
             [
              1,
              "#f0f921"
             ]
            ],
            "type": "contour"
           }
          ],
          "contourcarpet": [
           {
            "colorbar": {
             "outlinewidth": 0,
             "ticks": ""
            },
            "type": "contourcarpet"
           }
          ],
          "heatmap": [
           {
            "colorbar": {
             "outlinewidth": 0,
             "ticks": ""
            },
            "colorscale": [
             [
              0,
              "#0d0887"
             ],
             [
              0.1111111111111111,
              "#46039f"
             ],
             [
              0.2222222222222222,
              "#7201a8"
             ],
             [
              0.3333333333333333,
              "#9c179e"
             ],
             [
              0.4444444444444444,
              "#bd3786"
             ],
             [
              0.5555555555555556,
              "#d8576b"
             ],
             [
              0.6666666666666666,
              "#ed7953"
             ],
             [
              0.7777777777777778,
              "#fb9f3a"
             ],
             [
              0.8888888888888888,
              "#fdca26"
             ],
             [
              1,
              "#f0f921"
             ]
            ],
            "type": "heatmap"
           }
          ],
          "heatmapgl": [
           {
            "colorbar": {
             "outlinewidth": 0,
             "ticks": ""
            },
            "colorscale": [
             [
              0,
              "#0d0887"
             ],
             [
              0.1111111111111111,
              "#46039f"
             ],
             [
              0.2222222222222222,
              "#7201a8"
             ],
             [
              0.3333333333333333,
              "#9c179e"
             ],
             [
              0.4444444444444444,
              "#bd3786"
             ],
             [
              0.5555555555555556,
              "#d8576b"
             ],
             [
              0.6666666666666666,
              "#ed7953"
             ],
             [
              0.7777777777777778,
              "#fb9f3a"
             ],
             [
              0.8888888888888888,
              "#fdca26"
             ],
             [
              1,
              "#f0f921"
             ]
            ],
            "type": "heatmapgl"
           }
          ],
          "histogram": [
           {
            "marker": {
             "pattern": {
              "fillmode": "overlay",
              "size": 10,
              "solidity": 0.2
             }
            },
            "type": "histogram"
           }
          ],
          "histogram2d": [
           {
            "colorbar": {
             "outlinewidth": 0,
             "ticks": ""
            },
            "colorscale": [
             [
              0,
              "#0d0887"
             ],
             [
              0.1111111111111111,
              "#46039f"
             ],
             [
              0.2222222222222222,
              "#7201a8"
             ],
             [
              0.3333333333333333,
              "#9c179e"
             ],
             [
              0.4444444444444444,
              "#bd3786"
             ],
             [
              0.5555555555555556,
              "#d8576b"
             ],
             [
              0.6666666666666666,
              "#ed7953"
             ],
             [
              0.7777777777777778,
              "#fb9f3a"
             ],
             [
              0.8888888888888888,
              "#fdca26"
             ],
             [
              1,
              "#f0f921"
             ]
            ],
            "type": "histogram2d"
           }
          ],
          "histogram2dcontour": [
           {
            "colorbar": {
             "outlinewidth": 0,
             "ticks": ""
            },
            "colorscale": [
             [
              0,
              "#0d0887"
             ],
             [
              0.1111111111111111,
              "#46039f"
             ],
             [
              0.2222222222222222,
              "#7201a8"
             ],
             [
              0.3333333333333333,
              "#9c179e"
             ],
             [
              0.4444444444444444,
              "#bd3786"
             ],
             [
              0.5555555555555556,
              "#d8576b"
             ],
             [
              0.6666666666666666,
              "#ed7953"
             ],
             [
              0.7777777777777778,
              "#fb9f3a"
             ],
             [
              0.8888888888888888,
              "#fdca26"
             ],
             [
              1,
              "#f0f921"
             ]
            ],
            "type": "histogram2dcontour"
           }
          ],
          "mesh3d": [
           {
            "colorbar": {
             "outlinewidth": 0,
             "ticks": ""
            },
            "type": "mesh3d"
           }
          ],
          "parcoords": [
           {
            "line": {
             "colorbar": {
              "outlinewidth": 0,
              "ticks": ""
             }
            },
            "type": "parcoords"
           }
          ],
          "pie": [
           {
            "automargin": true,
            "type": "pie"
           }
          ],
          "scatter": [
           {
            "fillpattern": {
             "fillmode": "overlay",
             "size": 10,
             "solidity": 0.2
            },
            "type": "scatter"
           }
          ],
          "scatter3d": [
           {
            "line": {
             "colorbar": {
              "outlinewidth": 0,
              "ticks": ""
             }
            },
            "marker": {
             "colorbar": {
              "outlinewidth": 0,
              "ticks": ""
             }
            },
            "type": "scatter3d"
           }
          ],
          "scattercarpet": [
           {
            "marker": {
             "colorbar": {
              "outlinewidth": 0,
              "ticks": ""
             }
            },
            "type": "scattercarpet"
           }
          ],
          "scattergeo": [
           {
            "marker": {
             "colorbar": {
              "outlinewidth": 0,
              "ticks": ""
             }
            },
            "type": "scattergeo"
           }
          ],
          "scattergl": [
           {
            "marker": {
             "colorbar": {
              "outlinewidth": 0,
              "ticks": ""
             }
            },
            "type": "scattergl"
           }
          ],
          "scattermapbox": [
           {
            "marker": {
             "colorbar": {
              "outlinewidth": 0,
              "ticks": ""
             }
            },
            "type": "scattermapbox"
           }
          ],
          "scatterpolar": [
           {
            "marker": {
             "colorbar": {
              "outlinewidth": 0,
              "ticks": ""
             }
            },
            "type": "scatterpolar"
           }
          ],
          "scatterpolargl": [
           {
            "marker": {
             "colorbar": {
              "outlinewidth": 0,
              "ticks": ""
             }
            },
            "type": "scatterpolargl"
           }
          ],
          "scatterternary": [
           {
            "marker": {
             "colorbar": {
              "outlinewidth": 0,
              "ticks": ""
             }
            },
            "type": "scatterternary"
           }
          ],
          "surface": [
           {
            "colorbar": {
             "outlinewidth": 0,
             "ticks": ""
            },
            "colorscale": [
             [
              0,
              "#0d0887"
             ],
             [
              0.1111111111111111,
              "#46039f"
             ],
             [
              0.2222222222222222,
              "#7201a8"
             ],
             [
              0.3333333333333333,
              "#9c179e"
             ],
             [
              0.4444444444444444,
              "#bd3786"
             ],
             [
              0.5555555555555556,
              "#d8576b"
             ],
             [
              0.6666666666666666,
              "#ed7953"
             ],
             [
              0.7777777777777778,
              "#fb9f3a"
             ],
             [
              0.8888888888888888,
              "#fdca26"
             ],
             [
              1,
              "#f0f921"
             ]
            ],
            "type": "surface"
           }
          ],
          "table": [
           {
            "cells": {
             "fill": {
              "color": "#EBF0F8"
             },
             "line": {
              "color": "white"
             }
            },
            "header": {
             "fill": {
              "color": "#C8D4E3"
             },
             "line": {
              "color": "white"
             }
            },
            "type": "table"
           }
          ]
         },
         "layout": {
          "annotationdefaults": {
           "arrowcolor": "#2a3f5f",
           "arrowhead": 0,
           "arrowwidth": 1
          },
          "autotypenumbers": "strict",
          "coloraxis": {
           "colorbar": {
            "outlinewidth": 0,
            "ticks": ""
           }
          },
          "colorscale": {
           "diverging": [
            [
             0,
             "#8e0152"
            ],
            [
             0.1,
             "#c51b7d"
            ],
            [
             0.2,
             "#de77ae"
            ],
            [
             0.3,
             "#f1b6da"
            ],
            [
             0.4,
             "#fde0ef"
            ],
            [
             0.5,
             "#f7f7f7"
            ],
            [
             0.6,
             "#e6f5d0"
            ],
            [
             0.7,
             "#b8e186"
            ],
            [
             0.8,
             "#7fbc41"
            ],
            [
             0.9,
             "#4d9221"
            ],
            [
             1,
             "#276419"
            ]
           ],
           "sequential": [
            [
             0,
             "#0d0887"
            ],
            [
             0.1111111111111111,
             "#46039f"
            ],
            [
             0.2222222222222222,
             "#7201a8"
            ],
            [
             0.3333333333333333,
             "#9c179e"
            ],
            [
             0.4444444444444444,
             "#bd3786"
            ],
            [
             0.5555555555555556,
             "#d8576b"
            ],
            [
             0.6666666666666666,
             "#ed7953"
            ],
            [
             0.7777777777777778,
             "#fb9f3a"
            ],
            [
             0.8888888888888888,
             "#fdca26"
            ],
            [
             1,
             "#f0f921"
            ]
           ],
           "sequentialminus": [
            [
             0,
             "#0d0887"
            ],
            [
             0.1111111111111111,
             "#46039f"
            ],
            [
             0.2222222222222222,
             "#7201a8"
            ],
            [
             0.3333333333333333,
             "#9c179e"
            ],
            [
             0.4444444444444444,
             "#bd3786"
            ],
            [
             0.5555555555555556,
             "#d8576b"
            ],
            [
             0.6666666666666666,
             "#ed7953"
            ],
            [
             0.7777777777777778,
             "#fb9f3a"
            ],
            [
             0.8888888888888888,
             "#fdca26"
            ],
            [
             1,
             "#f0f921"
            ]
           ]
          },
          "colorway": [
           "#636efa",
           "#EF553B",
           "#00cc96",
           "#ab63fa",
           "#FFA15A",
           "#19d3f3",
           "#FF6692",
           "#B6E880",
           "#FF97FF",
           "#FECB52"
          ],
          "font": {
           "color": "#2a3f5f"
          },
          "geo": {
           "bgcolor": "white",
           "lakecolor": "white",
           "landcolor": "#E5ECF6",
           "showlakes": true,
           "showland": true,
           "subunitcolor": "white"
          },
          "hoverlabel": {
           "align": "left"
          },
          "hovermode": "closest",
          "mapbox": {
           "style": "light"
          },
          "paper_bgcolor": "white",
          "plot_bgcolor": "#E5ECF6",
          "polar": {
           "angularaxis": {
            "gridcolor": "white",
            "linecolor": "white",
            "ticks": ""
           },
           "bgcolor": "#E5ECF6",
           "radialaxis": {
            "gridcolor": "white",
            "linecolor": "white",
            "ticks": ""
           }
          },
          "scene": {
           "xaxis": {
            "backgroundcolor": "#E5ECF6",
            "gridcolor": "white",
            "gridwidth": 2,
            "linecolor": "white",
            "showbackground": true,
            "ticks": "",
            "zerolinecolor": "white"
           },
           "yaxis": {
            "backgroundcolor": "#E5ECF6",
            "gridcolor": "white",
            "gridwidth": 2,
            "linecolor": "white",
            "showbackground": true,
            "ticks": "",
            "zerolinecolor": "white"
           },
           "zaxis": {
            "backgroundcolor": "#E5ECF6",
            "gridcolor": "white",
            "gridwidth": 2,
            "linecolor": "white",
            "showbackground": true,
            "ticks": "",
            "zerolinecolor": "white"
           }
          },
          "shapedefaults": {
           "line": {
            "color": "#2a3f5f"
           }
          },
          "ternary": {
           "aaxis": {
            "gridcolor": "white",
            "linecolor": "white",
            "ticks": ""
           },
           "baxis": {
            "gridcolor": "white",
            "linecolor": "white",
            "ticks": ""
           },
           "bgcolor": "#E5ECF6",
           "caxis": {
            "gridcolor": "white",
            "linecolor": "white",
            "ticks": ""
           }
          },
          "title": {
           "x": 0.05
          },
          "xaxis": {
           "automargin": true,
           "gridcolor": "white",
           "linecolor": "white",
           "ticks": "",
           "title": {
            "standoff": 15
           },
           "zerolinecolor": "white",
           "zerolinewidth": 2
          },
          "yaxis": {
           "automargin": true,
           "gridcolor": "white",
           "linecolor": "white",
           "ticks": "",
           "title": {
            "standoff": 15
           },
           "zerolinecolor": "white",
           "zerolinewidth": 2
          }
         }
        },
        "title": {
         "text": "Topic - ['xinjiang', 'zwangsarbeit', 'uiguren', 'menschenrechtsverletzungen', 'menschenrechte', 'unabhängige', 'china', 'prüfung', 'investoren', 'audit']"
        },
        "width": 1500,
        "xaxis": {
         "title": {
          "text": "Time"
         }
        },
        "yaxis": {
         "title": {
          "text": "Number of Neg&Pos Articles"
         }
        }
       }
      }
     },
     "metadata": {},
     "output_type": "display_data"
    }
   ],
   "source": [
    "# Select the most relevant topic containing the keyword 'xinjiang'\n",
    "# Topic determination has random elements, so the resulting graph might differ slightly from the version in the paper\n",
    "sorted_topics = topic_subset['topic_info'].sort_values('Mean_Relevance', ascending=False)\n",
    "topic_num = sorted_topics[sorted_topics['Name'].str.contains('xinjiang', case=False)]['Topic'].values[0]\n",
    "\n",
    "# Alternatively, it is possible to manually select a topic by its number after browsing the topic info above\n",
    "# topic_num = 6\n",
    "\n",
    "print(topic_subset['topic_info'][topic_subset['topic_info']['Topic'] == topic_num]['Name'])\n",
    "\n",
    "topic_data = company_articles[c][[i == topic_num for i in topic_subset['topics']]]\n",
    "print(topic_data['aspect'].value_counts(normalize=True))\n",
    "\n",
    "filter_topic_data = filter_data(topic_data, None, None)\n",
    "\n",
    "topic_aspect_data_pos = {}\n",
    "topic_aspect_data_neg = {}\n",
    "topic_aspect_data_neut = {}\n",
    "for aspect in aspect_filters:\n",
    "    topic_aspect_data_pos[aspect] = filter_topic_data[(filter_topic_data['aspect'] == aspect) & (filter_topic_data['sentiment'] == 'positive')].resample('M', on='date')['sentiment_int'].sum()\n",
    "    topic_aspect_data_neg[aspect] = filter_topic_data[(filter_topic_data['aspect'] == aspect) & (filter_topic_data['sentiment'] == 'negative')].resample('M', on='date')['sentiment_int'].sum()\n",
    "    topic_aspect_data_neut[aspect] = filter_topic_data[(filter_topic_data['aspect'] == aspect) & (filter_topic_data['sentiment'] == 'neutral')].resample('M', on='date')['sentiment_int'].sum()\n",
    "\n",
    "relevance_data = filter_topic_data.resample('M', on='date')['relevance_score'].mean()\n",
    "\n",
    "######################## FIGURE ########################\n",
    "\n",
    "# Create traces for each category (positive and negative stacked bars)\n",
    "fig = go.Figure()\n",
    "\n",
    "# Adding positive sentiment bars for each category\n",
    "for aspect_filter in aspect_filters:\n",
    "    fig.add_trace(go.Bar(\n",
    "        x=list(topic_aspect_data_pos[aspect_filter].index.to_period('M').to_timestamp()),\n",
    "        y=topic_aspect_data_pos[aspect_filter],\n",
    "        name=aspect_filter.title(),\n",
    "        offsetgroup=1,\n",
    "        # legendgroup=f'{category}',\n",
    "        marker_color=aspect_colors[aspect_filter],\n",
    "        hovertemplate=f'{aspect_filter} Positive: %{{y}}<extra></extra>',\n",
    "        showlegend=False,\n",
    "        yaxis='y1',\n",
    "    ))\n",
    "\n",
    "# Adding negative sentiment bars for each category\n",
    "for aspect_filter in aspect_filters:\n",
    "    fig.add_trace(go.Bar(\n",
    "        x=list(topic_aspect_data_neg[aspect_filter].index.to_period('M').to_timestamp()),\n",
    "        y=topic_aspect_data_neg[aspect_filter],\n",
    "        name=aspect_filter.title(),\n",
    "        offsetgroup=2,\n",
    "        # legendgroup=f'{category}',\n",
    "        marker_color=aspect_colors[aspect_filter],\n",
    "        hovertemplate=f'{aspect_filter} Negative: %{{y}}<extra></extra>',\n",
    "        showlegend=True,\n",
    "        yaxis='y1',\n",
    "    ))\n",
    "\n",
    "# Update layout for visual styling\n",
    "fig.update_layout(\n",
    "    barmode='relative',\n",
    "    title=f\"Topic - {topic_subset['topic_info'][topic_subset['topic_info']['Topic'] == topic_num]['Representation'].values[0]}\",\n",
    "    xaxis=dict(title='Time'),\n",
    "    yaxis=dict(title='Number of Neg&Pos Articles'),\n",
    "    bargap=0.2,\n",
    "    height=500,\n",
    "    width=1500,\n",
    "    # font=dict(size=textfont_size),\n",
    "    legend=dict(\n",
    "        # x=0.2,\n",
    "        # y=0.75,\n",
    "        # xanchor='right',  # Anchor the legend to the left\n",
    "        # yanchor='bottom',  # Anchor the legend to the middle\n",
    "        bgcolor='rgba(255, 255, 255, 0.8)',  # Optional: set a background color for better visibility\n",
    "        bordercolor='black',  # Optional: set border color\n",
    "        borderwidth=1,  # Optional: set border width\n",
    "        font = dict(size = textfont_size),\n",
    "    ),\n",
    ")\n",
    "\n",
    "# Show the plot\n",
    "fig.show()"
   ]
  },
  {
   "cell_type": "markdown",
   "metadata": {},
   "source": [
    "### Investigate the two months highlighted in Fig. 4 in the Paper"
   ]
  },
  {
   "cell_type": "code",
   "execution_count": null,
   "metadata": {},
   "outputs": [
    {
     "data": {
      "text/plain": [
       "array([[Timestamp('2023-12-05 17:13:47'), 'positive',\n",
       "        'Volkswagen commissioned an audit of its Xinjiang site, which found no signs of forced labor. Conducted by Loening Human Rights & Responsible Business GmbH, it included on-site interviews. Employees are well-paid; the audit was prompted by investor demands.'],\n",
       "       [Timestamp('2023-12-05 17:18:56'), 'positive',\n",
       "        \"An independent investigation at VW's Urumqi plant found no evidence of forced labor or human rights violations. The review included 197 employees, including 50 Uyghurs. VW emphasizes that the workers are well-qualified and above-average paid.\"],\n",
       "       [Timestamp('2023-12-06 06:45:55'), 'positive',\n",
       "        \"Volkswagen's auditors found no evidence of forced labor at the factory in Xinjiang. Markus Löning from Löning Human Rights & Responsible Business confirmed that there are no indications of forced labor among the employees.\"],\n",
       "       [Timestamp('2023-12-06 09:52:55'), 'positive',\n",
       "        \"An investigation found no evidence of forced labor or human rights violations at Volkswagen's plant in China. The suspicion and MSCI warning had weighed on the ESG rating and stock, potentially prompting investors to return.\"],\n",
       "       [Timestamp('2023-12-06 10:23:23'), 'positive',\n",
       "        'VW shares rose after auditors found no evidence of forced labor at a controversial plant in China.'],\n",
       "       [Timestamp('2023-12-06 10:25:07'), 'neutral',\n",
       "        'Volkswagen needs to enhance transparency in its supply chain and regularly review its activities in Xinjiang, say investors. An audit found no forced labor, but concerns persist. Improvements in complaint management and corporate governance are necessary.'],\n",
       "       [Timestamp('2023-12-06 10:25:22'), 'positive',\n",
       "        'The article states that the DAX index reached an all-time high on Wednesday, driven by Volkswagen, whose stock rose 2.7% after an inspection in Xinjiang, China, found no signs of forced labor.'],\n",
       "       [Timestamp('2023-12-06 13:08:45'), 'positive',\n",
       "        'Volkswagen shares rose by up to 3.8% after an audit found no forced labor at the Xinjiang plant. Analyst Harald Hendrikse sees potential for an improved MSCI sustainability rating, which could attract European investors back.'],\n",
       "       [Timestamp('2023-12-07 08:15:22'), 'positive',\n",
       "        \"Volkswagen's management is working to halt the company's decline. Reports indicate that auditors found no evidence of forced labor in a controversial plant, which could lead to a recovery of sustainability status and positively impact stock prices.\"],\n",
       "       [Timestamp('2023-12-12 15:25:32'), 'positive',\n",
       "        'MSCI has removed VW from an ESG warning due to a controversial site in Xinjiang. An independent review found no forced labor. Production in Urumqi has been halted, and the workforce significantly reduced.'],\n",
       "       [Timestamp('2023-12-14 14:51:31'), 'negative',\n",
       "        'Volkswagen investigated working conditions at its Xinjiang factory. The review by only two staff found no evidence of forced labor, but human rights groups and investors demand more transparency amid allegations against the Uyghur minority.'],\n",
       "       [Timestamp('2023-12-15 11:54:03'), 'neutral',\n",
       "        'The article discusses the EU supply chain law requiring companies like Volkswagen to monitor their supply chains to prevent human rights violations. However, the effectiveness of such laws is questioned, as they may lead to increased bureaucracy without achieving goals.'],\n",
       "       [Timestamp('2023-12-19 10:21:28'), 'negative',\n",
       "        'The results of an audit of Volkswagen at a controversial plant in China have caused unrest within the company. Employees and politicians deem the findings unbelievable and criticize the investigation.']],\n",
       "      dtype=object)"
      ]
     },
     "execution_count": 18,
     "metadata": {},
     "output_type": "execute_result"
    }
   ],
   "source": [
    "# For the example in the paper: Look at the positive summaries released in December 2023\n",
    "filter_topic_data[(filter_topic_data['date'] >= '2023-11-30') & (filter_topic_data['date'] <= '2023-12-31')][['date', 'sentiment', 'summary_en']].values"
   ]
  },
  {
   "cell_type": "code",
   "execution_count": 19,
   "metadata": {},
   "outputs": [
    {
     "data": {
      "text/plain": [
       "array([[Timestamp('2024-02-01 05:13:48'), 'negative',\n",
       "        \"HRW urges Volkswagen to ensure that materials from Xinjiang, potentially linked to forced labor, do not enter its supply chain. VW's audit found no signs of forced labor but was controversial. HRW recommends better mapping of supply chains.\"],\n",
       "       [Timestamp('2024-02-02 12:09:54'), 'negative',\n",
       "        'The article discusses new allegations against Volkswagen in China, which is attempting to clear its name with a controversial report for the capital market.'],\n",
       "       [Timestamp('2024-02-08 14:46:30'), 'negative',\n",
       "        \"The article discusses Human Rights Watch's allegations against VW regarding forced labor in aluminum production in Xinjiang. VW asserts no forced labor occurs in Urumqi but faces challenges in supply chain verification and mandates high sustainability standards for suppliers.\"],\n",
       "       [Timestamp('2024-02-09 14:24:16'), 'negative',\n",
       "        \"The article discusses BASF's sale of stakes in joint ventures in Xinjiang due to human rights violations. Volkswagen is also criticized for a plant in the region, as employees of a partner company are alleged to be involved in the suppression of Uighurs.\"],\n",
       "       [Timestamp('2024-02-13 16:16:49'), 'negative',\n",
       "        \"Politicians from the Ampel coalition urge VW to withdraw from Xinjiang, following BASF's decision to protest human rights violations against Uighurs. Critics accuse VW of downplaying the situation and demand the company take ethical responsibility.\"],\n",
       "       [Timestamp('2024-02-14 06:12:48'), 'negative',\n",
       "        'Volkswagen faces allegations of possible forced labor in China. Uighurs are said to have been used as forced laborers in the construction of a test track in Xinjiang. VW denies the allegations and claims to be unaware of any forced labor.'],\n",
       "       [Timestamp('2024-02-14 09:34:55'), 'negative',\n",
       "        'Volkswagen is in talks with its joint venture partner in China regarding its future in Xinjiang, following reports of forced labor in the construction of a test track. VW is evaluating various scenarios for its business activities in the region.'],\n",
       "       [Timestamp('2024-02-14 14:31:16'), 'negative',\n",
       "        'The article discusses the Indonesian presidential election, where EU critic Prabowo Subianto threatens to end trade negotiations with the EU, potentially impacting trade with European companies like Volkswagen.'],\n",
       "       [Timestamp('2024-02-14 20:56:11'), 'negative',\n",
       "        'Volkswagen (VW) aims to resolve delivery delays by the end of March for vehicles held by US customs due to a Chinese component violating anti-forced labor laws. VW takes human rights allegations seriously and may end its relationship with the supplier.'],\n",
       "       [Timestamp('2024-02-15 04:42:04'), 'negative',\n",
       "        \"The 'Ostfriesen-Zeitung' article discusses human rights violations at VW, particularly forced labor in China. Incomplete investigations could negatively impact sales and stock value, potentially leading to a lack of investment funds.\"],\n",
       "       [Timestamp('2024-02-15 16:58:35'), 'negative',\n",
       "        \"The article discusses Prime Minister Weil's trip to China to support Lower Saxony companies. VW faces criticism over human rights violations in Xinjiang, particularly at its Urumqi site, and is reviewing its business operations in the region.\"],\n",
       "       [Timestamp('2024-02-18 05:13:38'), 'negative',\n",
       "        'Volkswagen and BASF are reviewing their operations in the region where the Chinese government is cracking down on Muslim minorities.'],\n",
       "       [Timestamp('2024-02-19 08:48:20'), 'negative',\n",
       "        \"The article highlights challenges for VW, including criticism of corporate governance and lack of transformation. Ingo Speich from Deka Investment points out conflicts of interest in board appointments and VW's involvement in Xinjiang.\"],\n",
       "       [Timestamp('2024-02-22 11:14:14'), 'negative',\n",
       "        'Volkswagen is under pressure due to its business relationship with Camel Group, allegedly involved in forced labor. Camel is a supplier for VW and partners with Rimac, in which Porsche is involved. VW stated that cars made in China are not exported.'],\n",
       "       [Timestamp('2024-02-22 16:49:01'), 'negative',\n",
       "        'The U.S. has halted imports from Volkswagen over suspicions of forced labor in China, particularly concerning the Uighurs. This could signal a larger issue for the automotive industry.'],\n",
       "       [Timestamp('2024-02-22 21:01:12'), 'negative',\n",
       "        \"The article discusses VW's activities in Xinjiang, where human rights violations are alleged. Despite audits finding no forced labor, the methodology is criticized. VW is currently reviewing its future business direction in the region.\"],\n",
       "       [Timestamp('2024-02-23 12:21:08'), 'negative',\n",
       "        \"The US Congress has urged VW CEO Oliver Blume to comply with the US law against forced labor of Uighurs and to cease operations in Xinjiang, as the US government has identified a 'continuing genocide' by the Chinese Communist Party there.\"],\n",
       "       [Timestamp('2024-02-23 19:17:58'), 'negative',\n",
       "        'The article discusses Rimac, a sports car company owned by Porsche, ending its joint venture with Camel Group over forced labor allegations. Volkswagen is also reviewing its partnership in Xinjiang due to similar reports of forced labor.']],\n",
       "      dtype=object)"
      ]
     },
     "execution_count": 19,
     "metadata": {},
     "output_type": "execute_result"
    }
   ],
   "source": [
    "filter_topic_data[(filter_topic_data['date'] >= '2024-01-31') & (filter_topic_data['date'] <= '2024-02-28')][['date', 'sentiment', 'summary_en']].values"
   ]
  },
  {
   "cell_type": "code",
   "execution_count": null,
   "metadata": {},
   "outputs": [],
   "source": []
  }
 ],
 "metadata": {
  "kernelspec": {
   "display_name": ".venv",
   "language": "python",
   "name": "python3"
  },
  "language_info": {
   "codemirror_mode": {
    "name": "ipython",
    "version": 3
   },
   "file_extension": ".py",
   "mimetype": "text/x-python",
   "name": "python",
   "nbconvert_exporter": "python",
   "pygments_lexer": "ipython3",
   "version": "3.10.9"
  }
 },
 "nbformat": 4,
 "nbformat_minor": 2
}
