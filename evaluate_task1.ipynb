{
 "cells": [
  {
   "cell_type": "code",
   "execution_count": null,
   "metadata": {},
   "outputs": [],
   "source": [
    "import pandas as pd"
   ]
  },
  {
   "cell_type": "code",
   "execution_count": null,
   "metadata": {},
   "outputs": [],
   "source": [
    "task_1_dataset = pd.read_json('data/evaluation_data/task_1.json', lines=True)\n",
    "\n",
    "questions = [\"summary_accuracy\"]\n",
    "\n",
    "#Create a column for each response field\n",
    "for field in questions:\n",
    "    task_1_dataset[field] = task_1_dataset['responses'].apply(lambda x: {i['user_id']: i['value'] for i in x[field]} if x[field] else [])\n",
    "\n",
    "group_all = task_1_dataset[task_1_dataset['metadata'].apply(lambda x: 'group-all' in x.values())]"
   ]
  },
  {
   "cell_type": "code",
   "execution_count": null,
   "metadata": {},
   "outputs": [],
   "source": [
    "# This is only for summaries\n",
    "\n",
    "correct_samples_group_all = [True if all(['correct' in j for j in list(i.values())]) else False for i in group_all['summary_accuracy'].to_list()]\n",
    "correct_samples = [True if all(['correct' in j for j in list(i.values())]) else False for i in task_1_dataset['summary_accuracy'].to_list()]\n",
    "\n",
    "print(f'{len([i for i in correct_samples_group_all if i])} out of {len(correct_samples_group_all)} samples in the group annotated by everyone judged the summary to be correct.')"
   ]
  },
  {
   "cell_type": "code",
   "execution_count": null,
   "metadata": {},
   "outputs": [],
   "source": [
    "#ratio of samples where all annotators determine it is correct\n",
    "len([i for i in correct_samples if i])/len(correct_samples)"
   ]
  }
 ],
 "metadata": {
  "kernelspec": {
   "display_name": "test_env",
   "language": "python",
   "name": "python3"
  },
  "language_info": {
   "codemirror_mode": {
    "name": "ipython",
    "version": 3
   },
   "file_extension": ".py",
   "mimetype": "text/x-python",
   "name": "python",
   "nbconvert_exporter": "python",
   "pygments_lexer": "ipython3",
   "version": "3.10.15"
  }
 },
 "nbformat": 4,
 "nbformat_minor": 2
}
