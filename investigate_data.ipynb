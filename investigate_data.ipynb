{
 "cells": [
  {
   "cell_type": "code",
   "execution_count": 1,
   "metadata": {},
   "outputs": [],
   "source": [
    "%load_ext autoreload\n",
    "%autoreload 2\n",
    "\n",
    "import numpy as np\n",
    "import pandas as pd\n",
    "\n",
    "import plotly.graph_objects as go\n",
    "from plotly.subplots import make_subplots\n",
    "\n",
    "\n",
    "from helper_functions import filter_data, calculate_daily_data\n",
    "\n",
    "# Variable used in plots later\n",
    "textfont_size = 20"
   ]
  },
  {
   "cell_type": "code",
   "execution_count": 2,
   "metadata": {},
   "outputs": [],
   "source": [
    "# LOAD DATA\n",
    "data = pd.read_json('data/full_data/nano_esg.json', lines=True)\n",
    "\n",
    "start_date = '2023-01-01'\n",
    "end_date = '2024-09-16'\n",
    "\n",
    "companies = list(data['company'].unique())\n",
    "\n",
    "sent_dict = {'positive': 1, 'negative': -1, 'neutral': 0}\n",
    "aspect_filters = ['environmental', 'social', 'governance']\n",
    "\n",
    "data['sentiment_int'] = data['sentiment'].apply(lambda x: sent_dict[x])\n",
    "\n",
    "#For plots\n",
    "aspect_colors = {'environmental': 'forestgreen', 'social': 'cornflowerblue', 'governance': 'darkmagenta'}"
   ]
  },
  {
   "cell_type": "code",
   "execution_count": 3,
   "metadata": {},
   "outputs": [],
   "source": [
    "#Over whole dataset\n",
    "data_all_asp = {}\n",
    "daily_data_asp = {}\n",
    "for aspect_filter in aspect_filters:\n",
    "    all_data = filter_data(data, None, aspect_filter)\n",
    "    daily_data = calculate_daily_data(all_data.copy(), start_date, end_date, fill_edges=False)\n",
    "    daily_data_asp[aspect_filter] = daily_data\n",
    "    data_all_asp[aspect_filter] = all_data\n",
    "\n",
    "data_all_graph = data.set_index('date')"
   ]
  },
  {
   "cell_type": "markdown",
   "metadata": {},
   "source": [
    "## Section 4"
   ]
  },
  {
   "cell_type": "markdown",
   "metadata": {},
   "source": [
    "### Fig. 2: Amount of Articles per Company"
   ]
  },
  {
   "cell_type": "code",
   "execution_count": 4,
   "metadata": {},
   "outputs": [],
   "source": [
    "asp_count_per_comp = {}\n",
    "for company in companies:\n",
    "    asp_count_per_comp[company] = {}\n",
    "    for aspect_filter in aspect_filters:\n",
    "        asp_count_per_comp[company][aspect_filter] = len(data_all_asp[aspect_filter][data_all_asp[aspect_filter]['company'] == company])\n",
    "\n",
    "asp_ratio_per_comp = {}\n",
    "for company in companies:\n",
    "    asp_ratio_per_comp[company] = {i: asp_count_per_comp[company][i]/np.sum(list(asp_count_per_comp[company].values())) for i in asp_count_per_comp[company]}"
   ]
  },
  {
   "cell_type": "code",
   "execution_count": 5,
   "metadata": {},
   "outputs": [
    {
     "data": {
      "application/vnd.plotly.v1+json": {
       "config": {
        "plotlyServerURL": "https://plot.ly"
       },
       "data": [
        {
         "marker": {
          "color": "forestgreen"
         },
         "name": "Environmental",
         "type": "bar",
         "x": [
          "vw",
          "daimler",
          "bmw",
          "siemens",
          "rwe",
          "airbus",
          "bayer",
          "porsche_ag",
          "basf",
          "deutsche_bank",
          "deutsche_telekom",
          "adidas",
          "sap",
          "deutsche_post",
          "commerzbank",
          "continental",
          "rheinmetall",
          "siemens_energy",
          "vonovia",
          "eon",
          "infineon",
          "allianz",
          "daimler_truck",
          "zalando",
          "fresenius",
          "puma",
          "covestro",
          "deutsche_boerse",
          "henkel",
          "siemens_healthineers",
          "beiersdorf",
          "munich_re",
          "hellofresh",
          "fresenius_medical_care",
          "delivery_hero",
          "mtu_aero_engines",
          "qiagen",
          "heidelbergcement",
          "sartorius",
          "symrise",
          "brenntag",
          "hannover_re"
         ],
         "xaxis": "x",
         "y": [
          4412,
          3540,
          3462,
          1680,
          2104,
          1044,
          673,
          1367,
          1186,
          276,
          201,
          352,
          252,
          302,
          211,
          351,
          99,
          561,
          168,
          482,
          286,
          154,
          312,
          146,
          33,
          119,
          177,
          84,
          87,
          20,
          68,
          78,
          57,
          2,
          9,
          38,
          6,
          67,
          15,
          14,
          16,
          35
         ],
         "yaxis": "y"
        },
        {
         "marker": {
          "color": "forestgreen"
         },
         "name": "Environmental",
         "showlegend": false,
         "type": "bar",
         "x": [
          "vw",
          "daimler",
          "bmw",
          "siemens",
          "rwe",
          "airbus",
          "bayer",
          "porsche_ag",
          "basf",
          "deutsche_bank",
          "deutsche_telekom",
          "adidas",
          "sap",
          "deutsche_post",
          "commerzbank",
          "continental",
          "rheinmetall",
          "siemens_energy",
          "vonovia",
          "eon",
          "infineon",
          "allianz",
          "daimler_truck",
          "zalando",
          "fresenius",
          "puma",
          "covestro",
          "deutsche_boerse",
          "henkel",
          "siemens_healthineers",
          "beiersdorf",
          "munich_re",
          "hellofresh",
          "fresenius_medical_care",
          "delivery_hero",
          "mtu_aero_engines",
          "qiagen",
          "heidelbergcement",
          "sartorius",
          "symrise",
          "brenntag",
          "hannover_re"
         ],
         "xaxis": "x2",
         "y": [
          0.6099820268215125,
          0.6146900503559646,
          0.6724941724941725,
          0.466537073035268,
          0.8432865731462926,
          0.4436889077773056,
          0.3034265103697024,
          0.6270642201834863,
          0.6345639379347244,
          0.16,
          0.13026571613739468,
          0.24581005586592178,
          0.19295558958652373,
          0.26124567474048443,
          0.2091179385530228,
          0.36260330578512395,
          0.10237849017580145,
          0.601931330472103,
          0.19090909090909092,
          0.5987577639751552,
          0.3870094722598105,
          0.308,
          0.639344262295082,
          0.3093220338983051,
          0.07252747252747253,
          0.28674698795180725,
          0.5190615835777126,
          0.32941176470588235,
          0.38839285714285715,
          0.091324200913242,
          0.3238095238095238,
          0.5379310344827586,
          0.3958333333333333,
          0.015267175572519083,
          0.075,
          0.3392857142857143,
          0.05825242718446602,
          0.6836734693877551,
          0.15463917525773196,
          0.16279069767441862,
          0.2077922077922078,
          0.45454545454545453
         ],
         "yaxis": "y2"
        },
        {
         "marker": {
          "color": "cornflowerblue"
         },
         "name": "Social",
         "type": "bar",
         "x": [
          "vw",
          "daimler",
          "bmw",
          "siemens",
          "rwe",
          "airbus",
          "bayer",
          "porsche_ag",
          "basf",
          "deutsche_bank",
          "deutsche_telekom",
          "adidas",
          "sap",
          "deutsche_post",
          "commerzbank",
          "continental",
          "rheinmetall",
          "siemens_energy",
          "vonovia",
          "eon",
          "infineon",
          "allianz",
          "daimler_truck",
          "zalando",
          "fresenius",
          "puma",
          "covestro",
          "deutsche_boerse",
          "henkel",
          "siemens_healthineers",
          "beiersdorf",
          "munich_re",
          "hellofresh",
          "fresenius_medical_care",
          "delivery_hero",
          "mtu_aero_engines",
          "qiagen",
          "heidelbergcement",
          "sartorius",
          "symrise",
          "brenntag",
          "hannover_re"
         ],
         "xaxis": "x",
         "y": [
          1554,
          1481,
          1051,
          1036,
          237,
          614,
          928,
          441,
          337,
          412,
          837,
          856,
          626,
          679,
          311,
          372,
          496,
          106,
          500,
          183,
          242,
          183,
          119,
          196,
          242,
          252,
          80,
          23,
          79,
          131,
          105,
          16,
          58,
          38,
          59,
          20,
          71,
          10,
          51,
          24,
          13,
          17
         ],
         "yaxis": "y"
        },
        {
         "marker": {
          "color": "cornflowerblue"
         },
         "name": "Social",
         "showlegend": false,
         "type": "bar",
         "x": [
          "vw",
          "daimler",
          "bmw",
          "siemens",
          "rwe",
          "airbus",
          "bayer",
          "porsche_ag",
          "basf",
          "deutsche_bank",
          "deutsche_telekom",
          "adidas",
          "sap",
          "deutsche_post",
          "commerzbank",
          "continental",
          "rheinmetall",
          "siemens_energy",
          "vonovia",
          "eon",
          "infineon",
          "allianz",
          "daimler_truck",
          "zalando",
          "fresenius",
          "puma",
          "covestro",
          "deutsche_boerse",
          "henkel",
          "siemens_healthineers",
          "beiersdorf",
          "munich_re",
          "hellofresh",
          "fresenius_medical_care",
          "delivery_hero",
          "mtu_aero_engines",
          "qiagen",
          "heidelbergcement",
          "sartorius",
          "symrise",
          "brenntag",
          "hannover_re"
         ],
         "xaxis": "x2",
         "y": [
          0.2148486105350477,
          0.2571627018579615,
          0.20415695415695415,
          0.28769786170508194,
          0.09498997995991984,
          0.2609434764130897,
          0.41839495040577096,
          0.20229357798165137,
          0.1803103263777421,
          0.23884057971014494,
          0.542449773169151,
          0.5977653631284916,
          0.4793261868300153,
          0.5873702422145328,
          0.30822596630327054,
          0.384297520661157,
          0.5129265770423992,
          0.11373390557939914,
          0.5681818181818182,
          0.22732919254658385,
          0.3274695534506089,
          0.366,
          0.24385245901639344,
          0.4152542372881356,
          0.5318681318681319,
          0.6072289156626506,
          0.23460410557184752,
          0.09019607843137255,
          0.35267857142857145,
          0.5981735159817352,
          0.5,
          0.1103448275862069,
          0.4027777777777778,
          0.2900763358778626,
          0.49166666666666664,
          0.17857142857142858,
          0.6893203883495146,
          0.10204081632653061,
          0.5257731958762887,
          0.27906976744186046,
          0.16883116883116883,
          0.22077922077922077
         ],
         "yaxis": "y2"
        },
        {
         "marker": {
          "color": "darkmagenta"
         },
         "name": "Governance",
         "type": "bar",
         "x": [
          "vw",
          "daimler",
          "bmw",
          "siemens",
          "rwe",
          "airbus",
          "bayer",
          "porsche_ag",
          "basf",
          "deutsche_bank",
          "deutsche_telekom",
          "adidas",
          "sap",
          "deutsche_post",
          "commerzbank",
          "continental",
          "rheinmetall",
          "siemens_energy",
          "vonovia",
          "eon",
          "infineon",
          "allianz",
          "daimler_truck",
          "zalando",
          "fresenius",
          "puma",
          "covestro",
          "deutsche_boerse",
          "henkel",
          "siemens_healthineers",
          "beiersdorf",
          "munich_re",
          "hellofresh",
          "fresenius_medical_care",
          "delivery_hero",
          "mtu_aero_engines",
          "qiagen",
          "heidelbergcement",
          "sartorius",
          "symrise",
          "brenntag",
          "hannover_re"
         ],
         "xaxis": "x",
         "y": [
          1267,
          738,
          635,
          885,
          154,
          695,
          617,
          372,
          346,
          1037,
          505,
          224,
          428,
          175,
          487,
          245,
          372,
          265,
          212,
          140,
          211,
          163,
          57,
          130,
          180,
          44,
          84,
          148,
          58,
          68,
          37,
          51,
          29,
          91,
          52,
          54,
          26,
          21,
          31,
          48,
          48,
          25
         ],
         "yaxis": "y"
        },
        {
         "marker": {
          "color": "darkmagenta"
         },
         "name": "Governance",
         "showlegend": false,
         "type": "bar",
         "x": [
          "vw",
          "daimler",
          "bmw",
          "siemens",
          "rwe",
          "airbus",
          "bayer",
          "porsche_ag",
          "basf",
          "deutsche_bank",
          "deutsche_telekom",
          "adidas",
          "sap",
          "deutsche_post",
          "commerzbank",
          "continental",
          "rheinmetall",
          "siemens_energy",
          "vonovia",
          "eon",
          "infineon",
          "allianz",
          "daimler_truck",
          "zalando",
          "fresenius",
          "puma",
          "covestro",
          "deutsche_boerse",
          "henkel",
          "siemens_healthineers",
          "beiersdorf",
          "munich_re",
          "hellofresh",
          "fresenius_medical_care",
          "delivery_hero",
          "mtu_aero_engines",
          "qiagen",
          "heidelbergcement",
          "sartorius",
          "symrise",
          "brenntag",
          "hannover_re"
         ],
         "xaxis": "x2",
         "y": [
          0.1751693626434398,
          0.12814724778607398,
          0.12334887334887334,
          0.24576506525965008,
          0.06172344689378757,
          0.29536761580960474,
          0.2781785392245266,
          0.1706422018348624,
          0.18512573568753343,
          0.601159420289855,
          0.3272845106934543,
          0.1564245810055866,
          0.327718223583461,
          0.1513840830449827,
          0.48265609514370666,
          0.253099173553719,
          0.3846949327817994,
          0.2843347639484979,
          0.2409090909090909,
          0.17391304347826086,
          0.2855209742895805,
          0.326,
          0.1168032786885246,
          0.2754237288135593,
          0.3956043956043956,
          0.10602409638554217,
          0.24633431085043989,
          0.5803921568627451,
          0.25892857142857145,
          0.3105022831050228,
          0.1761904761904762,
          0.35172413793103446,
          0.2013888888888889,
          0.6946564885496184,
          0.43333333333333335,
          0.48214285714285715,
          0.2524271844660194,
          0.21428571428571427,
          0.31958762886597936,
          0.5581395348837209,
          0.6233766233766234,
          0.3246753246753247
         ],
         "yaxis": "y2"
        }
       ],
       "layout": {
        "bargap": 0.2,
        "barmode": "relative",
        "font": {
         "size": 20
        },
        "height": 1000,
        "legend": {
         "bgcolor": "rgba(255, 255, 255, 0.8)",
         "bordercolor": "black",
         "borderwidth": 1,
         "font": {
          "size": 20
         },
         "x": 0.98,
         "xanchor": "right",
         "y": 0.8,
         "yanchor": "bottom"
        },
        "template": {
         "data": {
          "bar": [
           {
            "error_x": {
             "color": "#2a3f5f"
            },
            "error_y": {
             "color": "#2a3f5f"
            },
            "marker": {
             "line": {
              "color": "#E5ECF6",
              "width": 0.5
             },
             "pattern": {
              "fillmode": "overlay",
              "size": 10,
              "solidity": 0.2
             }
            },
            "type": "bar"
           }
          ],
          "barpolar": [
           {
            "marker": {
             "line": {
              "color": "#E5ECF6",
              "width": 0.5
             },
             "pattern": {
              "fillmode": "overlay",
              "size": 10,
              "solidity": 0.2
             }
            },
            "type": "barpolar"
           }
          ],
          "carpet": [
           {
            "aaxis": {
             "endlinecolor": "#2a3f5f",
             "gridcolor": "white",
             "linecolor": "white",
             "minorgridcolor": "white",
             "startlinecolor": "#2a3f5f"
            },
            "baxis": {
             "endlinecolor": "#2a3f5f",
             "gridcolor": "white",
             "linecolor": "white",
             "minorgridcolor": "white",
             "startlinecolor": "#2a3f5f"
            },
            "type": "carpet"
           }
          ],
          "choropleth": [
           {
            "colorbar": {
             "outlinewidth": 0,
             "ticks": ""
            },
            "type": "choropleth"
           }
          ],
          "contour": [
           {
            "colorbar": {
             "outlinewidth": 0,
             "ticks": ""
            },
            "colorscale": [
             [
              0,
              "#0d0887"
             ],
             [
              0.1111111111111111,
              "#46039f"
             ],
             [
              0.2222222222222222,
              "#7201a8"
             ],
             [
              0.3333333333333333,
              "#9c179e"
             ],
             [
              0.4444444444444444,
              "#bd3786"
             ],
             [
              0.5555555555555556,
              "#d8576b"
             ],
             [
              0.6666666666666666,
              "#ed7953"
             ],
             [
              0.7777777777777778,
              "#fb9f3a"
             ],
             [
              0.8888888888888888,
              "#fdca26"
             ],
             [
              1,
              "#f0f921"
             ]
            ],
            "type": "contour"
           }
          ],
          "contourcarpet": [
           {
            "colorbar": {
             "outlinewidth": 0,
             "ticks": ""
            },
            "type": "contourcarpet"
           }
          ],
          "heatmap": [
           {
            "colorbar": {
             "outlinewidth": 0,
             "ticks": ""
            },
            "colorscale": [
             [
              0,
              "#0d0887"
             ],
             [
              0.1111111111111111,
              "#46039f"
             ],
             [
              0.2222222222222222,
              "#7201a8"
             ],
             [
              0.3333333333333333,
              "#9c179e"
             ],
             [
              0.4444444444444444,
              "#bd3786"
             ],
             [
              0.5555555555555556,
              "#d8576b"
             ],
             [
              0.6666666666666666,
              "#ed7953"
             ],
             [
              0.7777777777777778,
              "#fb9f3a"
             ],
             [
              0.8888888888888888,
              "#fdca26"
             ],
             [
              1,
              "#f0f921"
             ]
            ],
            "type": "heatmap"
           }
          ],
          "heatmapgl": [
           {
            "colorbar": {
             "outlinewidth": 0,
             "ticks": ""
            },
            "colorscale": [
             [
              0,
              "#0d0887"
             ],
             [
              0.1111111111111111,
              "#46039f"
             ],
             [
              0.2222222222222222,
              "#7201a8"
             ],
             [
              0.3333333333333333,
              "#9c179e"
             ],
             [
              0.4444444444444444,
              "#bd3786"
             ],
             [
              0.5555555555555556,
              "#d8576b"
             ],
             [
              0.6666666666666666,
              "#ed7953"
             ],
             [
              0.7777777777777778,
              "#fb9f3a"
             ],
             [
              0.8888888888888888,
              "#fdca26"
             ],
             [
              1,
              "#f0f921"
             ]
            ],
            "type": "heatmapgl"
           }
          ],
          "histogram": [
           {
            "marker": {
             "pattern": {
              "fillmode": "overlay",
              "size": 10,
              "solidity": 0.2
             }
            },
            "type": "histogram"
           }
          ],
          "histogram2d": [
           {
            "colorbar": {
             "outlinewidth": 0,
             "ticks": ""
            },
            "colorscale": [
             [
              0,
              "#0d0887"
             ],
             [
              0.1111111111111111,
              "#46039f"
             ],
             [
              0.2222222222222222,
              "#7201a8"
             ],
             [
              0.3333333333333333,
              "#9c179e"
             ],
             [
              0.4444444444444444,
              "#bd3786"
             ],
             [
              0.5555555555555556,
              "#d8576b"
             ],
             [
              0.6666666666666666,
              "#ed7953"
             ],
             [
              0.7777777777777778,
              "#fb9f3a"
             ],
             [
              0.8888888888888888,
              "#fdca26"
             ],
             [
              1,
              "#f0f921"
             ]
            ],
            "type": "histogram2d"
           }
          ],
          "histogram2dcontour": [
           {
            "colorbar": {
             "outlinewidth": 0,
             "ticks": ""
            },
            "colorscale": [
             [
              0,
              "#0d0887"
             ],
             [
              0.1111111111111111,
              "#46039f"
             ],
             [
              0.2222222222222222,
              "#7201a8"
             ],
             [
              0.3333333333333333,
              "#9c179e"
             ],
             [
              0.4444444444444444,
              "#bd3786"
             ],
             [
              0.5555555555555556,
              "#d8576b"
             ],
             [
              0.6666666666666666,
              "#ed7953"
             ],
             [
              0.7777777777777778,
              "#fb9f3a"
             ],
             [
              0.8888888888888888,
              "#fdca26"
             ],
             [
              1,
              "#f0f921"
             ]
            ],
            "type": "histogram2dcontour"
           }
          ],
          "mesh3d": [
           {
            "colorbar": {
             "outlinewidth": 0,
             "ticks": ""
            },
            "type": "mesh3d"
           }
          ],
          "parcoords": [
           {
            "line": {
             "colorbar": {
              "outlinewidth": 0,
              "ticks": ""
             }
            },
            "type": "parcoords"
           }
          ],
          "pie": [
           {
            "automargin": true,
            "type": "pie"
           }
          ],
          "scatter": [
           {
            "fillpattern": {
             "fillmode": "overlay",
             "size": 10,
             "solidity": 0.2
            },
            "type": "scatter"
           }
          ],
          "scatter3d": [
           {
            "line": {
             "colorbar": {
              "outlinewidth": 0,
              "ticks": ""
             }
            },
            "marker": {
             "colorbar": {
              "outlinewidth": 0,
              "ticks": ""
             }
            },
            "type": "scatter3d"
           }
          ],
          "scattercarpet": [
           {
            "marker": {
             "colorbar": {
              "outlinewidth": 0,
              "ticks": ""
             }
            },
            "type": "scattercarpet"
           }
          ],
          "scattergeo": [
           {
            "marker": {
             "colorbar": {
              "outlinewidth": 0,
              "ticks": ""
             }
            },
            "type": "scattergeo"
           }
          ],
          "scattergl": [
           {
            "marker": {
             "colorbar": {
              "outlinewidth": 0,
              "ticks": ""
             }
            },
            "type": "scattergl"
           }
          ],
          "scattermapbox": [
           {
            "marker": {
             "colorbar": {
              "outlinewidth": 0,
              "ticks": ""
             }
            },
            "type": "scattermapbox"
           }
          ],
          "scatterpolar": [
           {
            "marker": {
             "colorbar": {
              "outlinewidth": 0,
              "ticks": ""
             }
            },
            "type": "scatterpolar"
           }
          ],
          "scatterpolargl": [
           {
            "marker": {
             "colorbar": {
              "outlinewidth": 0,
              "ticks": ""
             }
            },
            "type": "scatterpolargl"
           }
          ],
          "scatterternary": [
           {
            "marker": {
             "colorbar": {
              "outlinewidth": 0,
              "ticks": ""
             }
            },
            "type": "scatterternary"
           }
          ],
          "surface": [
           {
            "colorbar": {
             "outlinewidth": 0,
             "ticks": ""
            },
            "colorscale": [
             [
              0,
              "#0d0887"
             ],
             [
              0.1111111111111111,
              "#46039f"
             ],
             [
              0.2222222222222222,
              "#7201a8"
             ],
             [
              0.3333333333333333,
              "#9c179e"
             ],
             [
              0.4444444444444444,
              "#bd3786"
             ],
             [
              0.5555555555555556,
              "#d8576b"
             ],
             [
              0.6666666666666666,
              "#ed7953"
             ],
             [
              0.7777777777777778,
              "#fb9f3a"
             ],
             [
              0.8888888888888888,
              "#fdca26"
             ],
             [
              1,
              "#f0f921"
             ]
            ],
            "type": "surface"
           }
          ],
          "table": [
           {
            "cells": {
             "fill": {
              "color": "#EBF0F8"
             },
             "line": {
              "color": "white"
             }
            },
            "header": {
             "fill": {
              "color": "#C8D4E3"
             },
             "line": {
              "color": "white"
             }
            },
            "type": "table"
           }
          ]
         },
         "layout": {
          "annotationdefaults": {
           "arrowcolor": "#2a3f5f",
           "arrowhead": 0,
           "arrowwidth": 1
          },
          "autotypenumbers": "strict",
          "coloraxis": {
           "colorbar": {
            "outlinewidth": 0,
            "ticks": ""
           }
          },
          "colorscale": {
           "diverging": [
            [
             0,
             "#8e0152"
            ],
            [
             0.1,
             "#c51b7d"
            ],
            [
             0.2,
             "#de77ae"
            ],
            [
             0.3,
             "#f1b6da"
            ],
            [
             0.4,
             "#fde0ef"
            ],
            [
             0.5,
             "#f7f7f7"
            ],
            [
             0.6,
             "#e6f5d0"
            ],
            [
             0.7,
             "#b8e186"
            ],
            [
             0.8,
             "#7fbc41"
            ],
            [
             0.9,
             "#4d9221"
            ],
            [
             1,
             "#276419"
            ]
           ],
           "sequential": [
            [
             0,
             "#0d0887"
            ],
            [
             0.1111111111111111,
             "#46039f"
            ],
            [
             0.2222222222222222,
             "#7201a8"
            ],
            [
             0.3333333333333333,
             "#9c179e"
            ],
            [
             0.4444444444444444,
             "#bd3786"
            ],
            [
             0.5555555555555556,
             "#d8576b"
            ],
            [
             0.6666666666666666,
             "#ed7953"
            ],
            [
             0.7777777777777778,
             "#fb9f3a"
            ],
            [
             0.8888888888888888,
             "#fdca26"
            ],
            [
             1,
             "#f0f921"
            ]
           ],
           "sequentialminus": [
            [
             0,
             "#0d0887"
            ],
            [
             0.1111111111111111,
             "#46039f"
            ],
            [
             0.2222222222222222,
             "#7201a8"
            ],
            [
             0.3333333333333333,
             "#9c179e"
            ],
            [
             0.4444444444444444,
             "#bd3786"
            ],
            [
             0.5555555555555556,
             "#d8576b"
            ],
            [
             0.6666666666666666,
             "#ed7953"
            ],
            [
             0.7777777777777778,
             "#fb9f3a"
            ],
            [
             0.8888888888888888,
             "#fdca26"
            ],
            [
             1,
             "#f0f921"
            ]
           ]
          },
          "colorway": [
           "#636efa",
           "#EF553B",
           "#00cc96",
           "#ab63fa",
           "#FFA15A",
           "#19d3f3",
           "#FF6692",
           "#B6E880",
           "#FF97FF",
           "#FECB52"
          ],
          "font": {
           "color": "#2a3f5f"
          },
          "geo": {
           "bgcolor": "white",
           "lakecolor": "white",
           "landcolor": "#E5ECF6",
           "showlakes": true,
           "showland": true,
           "subunitcolor": "white"
          },
          "hoverlabel": {
           "align": "left"
          },
          "hovermode": "closest",
          "mapbox": {
           "style": "light"
          },
          "paper_bgcolor": "white",
          "plot_bgcolor": "#E5ECF6",
          "polar": {
           "angularaxis": {
            "gridcolor": "white",
            "linecolor": "white",
            "ticks": ""
           },
           "bgcolor": "#E5ECF6",
           "radialaxis": {
            "gridcolor": "white",
            "linecolor": "white",
            "ticks": ""
           }
          },
          "scene": {
           "xaxis": {
            "backgroundcolor": "#E5ECF6",
            "gridcolor": "white",
            "gridwidth": 2,
            "linecolor": "white",
            "showbackground": true,
            "ticks": "",
            "zerolinecolor": "white"
           },
           "yaxis": {
            "backgroundcolor": "#E5ECF6",
            "gridcolor": "white",
            "gridwidth": 2,
            "linecolor": "white",
            "showbackground": true,
            "ticks": "",
            "zerolinecolor": "white"
           },
           "zaxis": {
            "backgroundcolor": "#E5ECF6",
            "gridcolor": "white",
            "gridwidth": 2,
            "linecolor": "white",
            "showbackground": true,
            "ticks": "",
            "zerolinecolor": "white"
           }
          },
          "shapedefaults": {
           "line": {
            "color": "#2a3f5f"
           }
          },
          "ternary": {
           "aaxis": {
            "gridcolor": "white",
            "linecolor": "white",
            "ticks": ""
           },
           "baxis": {
            "gridcolor": "white",
            "linecolor": "white",
            "ticks": ""
           },
           "bgcolor": "#E5ECF6",
           "caxis": {
            "gridcolor": "white",
            "linecolor": "white",
            "ticks": ""
           }
          },
          "title": {
           "x": 0.05
          },
          "xaxis": {
           "automargin": true,
           "gridcolor": "white",
           "linecolor": "white",
           "ticks": "",
           "title": {
            "standoff": 15
           },
           "zerolinecolor": "white",
           "zerolinewidth": 2
          },
          "yaxis": {
           "automargin": true,
           "gridcolor": "white",
           "linecolor": "white",
           "ticks": "",
           "title": {
            "standoff": 15
           },
           "zerolinecolor": "white",
           "zerolinewidth": 2
          }
         }
        },
        "title": {
         "text": "Amount of Articles per Company"
        },
        "width": 1500,
        "xaxis": {
         "anchor": "y",
         "domain": [
          0,
          1
         ],
         "matches": "x2",
         "showticklabels": false
        },
        "xaxis2": {
         "anchor": "y2",
         "domain": [
          0,
          1
         ],
         "tickangle": 45
        },
        "yaxis": {
         "anchor": "x",
         "domain": [
          0.34340000000000004,
          1
         ],
         "title": {
          "text": "Number of Articles"
         }
        },
        "yaxis2": {
         "anchor": "x2",
         "domain": [
          0,
          0.3234
         ],
         "title": {
          "text": "Ratio of Aspects"
         }
        }
       }
      }
     },
     "metadata": {},
     "output_type": "display_data"
    }
   ],
   "source": [
    "#sort pos dict\n",
    "asp_count_per_comp = dict(sorted(asp_count_per_comp.items(), key=lambda x: sum(x[1].values()), reverse=True))\n",
    "\n",
    "# Create traces for each category (positive and negative stacked bars)\n",
    "fig = make_subplots(\n",
    "    rows=2, cols=1, \n",
    "    shared_xaxes=True, \n",
    "    row_heights=[0.67, 0.33],  # The ratio for subplot heights\n",
    "    vertical_spacing=0.02      # Adjust space between the plots\n",
    ")\n",
    "\n",
    "# Adding bars for each category\n",
    "for aspect_filter in aspect_filters:\n",
    "    fig.add_trace(go.Bar(\n",
    "        x=list(asp_count_per_comp.keys()),\n",
    "        y=[asp_count_per_comp[company][aspect_filter] for company in asp_count_per_comp],\n",
    "        name=aspect_filter.title(),\n",
    "        # offsetgroup=1,\n",
    "        # legendgroup=f'{category}',\n",
    "        marker_color=aspect_colors[aspect_filter],\n",
    "        # hovertemplate=f'{aspect_filter} Positive: %{{y}}<extra></extra>',\n",
    "    ), row=1, col=1)\n",
    "\n",
    "    fig.add_trace(go.Bar(\n",
    "        x=list(asp_count_per_comp.keys()),\n",
    "        y=[asp_ratio_per_comp[company][aspect_filter] for company in asp_count_per_comp],\n",
    "        name=aspect_filter.title(),\n",
    "        marker_color=aspect_colors[aspect_filter],\n",
    "        showlegend=False,\n",
    "    ), row=2, col=1)\n",
    "\n",
    "# Update layout for visual styling\n",
    "fig.update_layout(\n",
    "    barmode='relative',\n",
    "    title='Amount of Articles per Company',\n",
    "    bargap=0.2,\n",
    "    # plot_bgcolor='rgba(0,0,0,0)',\n",
    "    height=1000,\n",
    "    width=1500,\n",
    "    font=dict(size=textfont_size),\n",
    "    # xaxis=dict(showline=True, linewidth=1, linecolor='black', mirror=True, tickangle=45),  # Black line on x-axis\n",
    "    xaxis2=dict(tickangle=45),  # Black line on x-axis\n",
    "    yaxis1=dict(title='Number of Articles'),  # Black line on y-axis\n",
    "    yaxis2=dict(title='Ratio of Aspects'),  # Black line on y-axis\n",
    "    legend=dict(\n",
    "        x=0.98,  # Position it 10% from the left side of the first subplot\n",
    "        y=0.8,  # Position it vertically centered\n",
    "        xanchor='right',  # Anchor the legend to the left\n",
    "        yanchor='bottom',  # Anchor the legend to the middle\n",
    "        bgcolor='rgba(255, 255, 255, 0.8)',  # Optional: set a background color for better visibility\n",
    "        bordercolor='black',  # Optional: set border color\n",
    "        borderwidth=1,  # Optional: set border width\n",
    "        font = dict(size = textfont_size),\n",
    "    ),\n",
    ")\n",
    "\n",
    "# Show the plot\n",
    "fig.show()"
   ]
  },
  {
   "cell_type": "markdown",
   "metadata": {},
   "source": [
    "### Table 1: Number & Ratio of Articles"
   ]
  },
  {
   "cell_type": "code",
   "execution_count": 6,
   "metadata": {},
   "outputs": [],
   "source": [
    "sent_count_per_comp = {}\n",
    "sent_ratio_per_comp = {}\n",
    "for company in companies:\n",
    "    sent_count_per_comp[company] = {\n",
    "        'positive': len(data_all_graph[(data_all_graph['company'] == company) & (data_all_graph['sentiment'] == 'positive')]),\n",
    "        'negative': len(data_all_graph[(data_all_graph['company'] == company) & (data_all_graph['sentiment'] == 'negative')]),\n",
    "        'neutral': len(data_all_graph[(data_all_graph['company'] == company) & (data_all_graph['sentiment'] == 'neutral')]),\n",
    "    }\n",
    "for company in companies:\n",
    "    sent_ratio_per_comp[company] = {\n",
    "        'positive': sent_count_per_comp[company]['positive']/np.sum(list(sent_count_per_comp[company].values())),\n",
    "        'negative': sent_count_per_comp[company]['negative']/np.sum(list(sent_count_per_comp[company].values())),\n",
    "        'neutral': sent_count_per_comp[company]['neutral']/np.sum(list(sent_count_per_comp[company].values())),\n",
    "    }"
   ]
  },
  {
   "cell_type": "code",
   "execution_count": 7,
   "metadata": {},
   "outputs": [
    {
     "data": {
      "text/plain": [
       "positive    27304\n",
       "negative    17668\n",
       "neutral      6115\n",
       "dtype: int64"
      ]
     },
     "execution_count": 7,
     "metadata": {},
     "output_type": "execute_result"
    }
   ],
   "source": [
    "# Total number of articles per ESG-sentiment\n",
    "pd.DataFrame(sent_count_per_comp).sum(axis=1)"
   ]
  },
  {
   "cell_type": "code",
   "execution_count": 8,
   "metadata": {},
   "outputs": [
    {
     "data": {
      "text/plain": [
       "positive    0.543615\n",
       "negative    0.327408\n",
       "neutral     0.128978\n",
       "dtype: float64"
      ]
     },
     "execution_count": 8,
     "metadata": {},
     "output_type": "execute_result"
    }
   ],
   "source": [
    "# Company-Average ratio of articles per ESG-sentiment\n",
    "pd.DataFrame(sent_ratio_per_comp).mean(axis=1)"
   ]
  },
  {
   "cell_type": "code",
   "execution_count": 9,
   "metadata": {},
   "outputs": [
    {
     "data": {
      "text/plain": [
       "environmental    24546\n",
       "social           15086\n",
       "governance       11455\n",
       "dtype: int64"
      ]
     },
     "execution_count": 9,
     "metadata": {},
     "output_type": "execute_result"
    }
   ],
   "source": [
    "# Total number of articles per ESG-aspect\n",
    "pd.DataFrame(asp_count_per_comp).sum(axis=1)"
   ]
  },
  {
   "cell_type": "code",
   "execution_count": 10,
   "metadata": {},
   "outputs": [
    {
     "data": {
      "text/plain": [
       "environmental    0.357421\n",
       "social           0.343043\n",
       "governance       0.299536\n",
       "dtype: float64"
      ]
     },
     "execution_count": 10,
     "metadata": {},
     "output_type": "execute_result"
    }
   ],
   "source": [
    "# Company-Average ratio of articles per ESG-aspect\n",
    "pd.DataFrame(asp_ratio_per_comp).mean(axis=1)"
   ]
  },
  {
   "cell_type": "markdown",
   "metadata": {},
   "source": [
    "## Section 6.1"
   ]
  },
  {
   "cell_type": "markdown",
   "metadata": {},
   "source": [
    "### Table 2: Distribution of relevance scores"
   ]
  },
  {
   "cell_type": "code",
   "execution_count": 11,
   "metadata": {},
   "outputs": [
    {
     "data": {
      "text/plain": [
       "relevance_score\n",
       "2         2\n",
       "3       122\n",
       "4       983\n",
       "5      1380\n",
       "6     10465\n",
       "7     18219\n",
       "8     17113\n",
       "9      2780\n",
       "10       23\n",
       "Name: count, dtype: int64"
      ]
     },
     "execution_count": 11,
     "metadata": {},
     "output_type": "execute_result"
    }
   ],
   "source": [
    "data['relevance_score'].value_counts().sort_index()"
   ]
  },
  {
   "cell_type": "markdown",
   "metadata": {},
   "source": [
    "### Fig 3 - left: Weekly Count of Articles per Aspect and in Total"
   ]
  },
  {
   "cell_type": "code",
   "execution_count": 12,
   "metadata": {},
   "outputs": [
    {
     "data": {
      "application/vnd.plotly.v1+json": {
       "config": {
        "plotlyServerURL": "https://plot.ly"
       },
       "data": [
        {
         "line": {
          "color": "forestgreen"
         },
         "mode": "lines+markers",
         "name": "Environmental",
         "type": "scatter",
         "x": [
          "2023-01-01T00:00:00",
          "2023-01-08T00:00:00",
          "2023-01-15T00:00:00",
          "2023-01-22T00:00:00",
          "2023-01-29T00:00:00",
          "2023-02-05T00:00:00",
          "2023-02-12T00:00:00",
          "2023-02-19T00:00:00",
          "2023-02-26T00:00:00",
          "2023-03-05T00:00:00",
          "2023-03-12T00:00:00",
          "2023-03-19T00:00:00",
          "2023-03-26T00:00:00",
          "2023-04-02T00:00:00",
          "2023-04-09T00:00:00",
          "2023-04-16T00:00:00",
          "2023-04-23T00:00:00",
          "2023-04-30T00:00:00",
          "2023-05-07T00:00:00",
          "2023-05-14T00:00:00",
          "2023-05-21T00:00:00",
          "2023-05-28T00:00:00",
          "2023-06-04T00:00:00",
          "2023-06-11T00:00:00",
          "2023-06-18T00:00:00",
          "2023-06-25T00:00:00",
          "2023-07-02T00:00:00",
          "2023-07-09T00:00:00",
          "2023-07-16T00:00:00",
          "2023-07-23T00:00:00",
          "2023-07-30T00:00:00",
          "2023-08-06T00:00:00",
          "2023-08-13T00:00:00",
          "2023-08-20T00:00:00",
          "2023-08-27T00:00:00",
          "2023-09-03T00:00:00",
          "2023-09-10T00:00:00",
          "2023-09-17T00:00:00",
          "2023-09-24T00:00:00",
          "2023-10-01T00:00:00",
          "2023-10-08T00:00:00",
          "2023-10-15T00:00:00",
          "2023-10-22T00:00:00",
          "2023-10-29T00:00:00",
          "2023-11-05T00:00:00",
          "2023-11-12T00:00:00",
          "2023-11-19T00:00:00",
          "2023-11-26T00:00:00",
          "2023-12-03T00:00:00",
          "2023-12-10T00:00:00",
          "2023-12-17T00:00:00",
          "2023-12-24T00:00:00",
          "2023-12-31T00:00:00",
          "2024-01-07T00:00:00",
          "2024-01-14T00:00:00",
          "2024-01-21T00:00:00",
          "2024-01-28T00:00:00",
          "2024-02-04T00:00:00",
          "2024-02-11T00:00:00",
          "2024-02-18T00:00:00",
          "2024-02-25T00:00:00",
          "2024-03-03T00:00:00",
          "2024-03-10T00:00:00",
          "2024-03-17T00:00:00",
          "2024-03-24T00:00:00",
          "2024-03-31T00:00:00",
          "2024-04-07T00:00:00",
          "2024-04-14T00:00:00",
          "2024-04-21T00:00:00",
          "2024-04-28T00:00:00",
          "2024-05-05T00:00:00",
          "2024-05-12T00:00:00",
          "2024-05-19T00:00:00",
          "2024-05-26T00:00:00",
          "2024-06-02T00:00:00",
          "2024-06-09T00:00:00",
          "2024-06-16T00:00:00",
          "2024-06-23T00:00:00",
          "2024-06-30T00:00:00",
          "2024-07-07T00:00:00",
          "2024-07-14T00:00:00",
          "2024-07-21T00:00:00",
          "2024-07-28T00:00:00",
          "2024-08-04T00:00:00",
          "2024-08-11T00:00:00",
          "2024-08-18T00:00:00",
          "2024-08-25T00:00:00",
          "2024-09-01T00:00:00",
          "2024-09-08T00:00:00",
          "2024-09-15T00:00:00",
          "2024-09-22T00:00:00"
         ],
         "y": [
          38,
          369,
          556,
          442,
          367,
          395,
          370,
          322,
          364,
          406,
          359,
          345,
          323,
          332,
          302,
          346,
          403,
          336,
          308,
          308,
          287,
          316,
          262,
          270,
          342,
          291,
          292,
          256,
          287,
          287,
          341,
          311,
          266,
          267,
          269,
          349,
          431,
          347,
          313,
          289,
          236,
          272,
          291,
          258,
          239,
          310,
          314,
          326,
          321,
          285,
          253,
          289,
          203,
          175,
          209,
          239,
          221,
          205,
          242,
          207,
          224,
          248,
          219,
          227,
          267,
          187,
          199,
          214,
          211,
          250,
          216,
          205,
          229,
          209,
          215,
          260,
          190,
          207,
          167,
          204,
          211,
          209,
          237,
          187,
          170,
          193,
          189,
          167,
          210,
          213,
          53
         ]
        },
        {
         "line": {
          "color": "darkmagenta"
         },
         "mode": "lines+markers",
         "name": "Governance",
         "type": "scatter",
         "x": [
          "2023-01-01T00:00:00",
          "2023-01-08T00:00:00",
          "2023-01-15T00:00:00",
          "2023-01-22T00:00:00",
          "2023-01-29T00:00:00",
          "2023-02-05T00:00:00",
          "2023-02-12T00:00:00",
          "2023-02-19T00:00:00",
          "2023-02-26T00:00:00",
          "2023-03-05T00:00:00",
          "2023-03-12T00:00:00",
          "2023-03-19T00:00:00",
          "2023-03-26T00:00:00",
          "2023-04-02T00:00:00",
          "2023-04-09T00:00:00",
          "2023-04-16T00:00:00",
          "2023-04-23T00:00:00",
          "2023-04-30T00:00:00",
          "2023-05-07T00:00:00",
          "2023-05-14T00:00:00",
          "2023-05-21T00:00:00",
          "2023-05-28T00:00:00",
          "2023-06-04T00:00:00",
          "2023-06-11T00:00:00",
          "2023-06-18T00:00:00",
          "2023-06-25T00:00:00",
          "2023-07-02T00:00:00",
          "2023-07-09T00:00:00",
          "2023-07-16T00:00:00",
          "2023-07-23T00:00:00",
          "2023-07-30T00:00:00",
          "2023-08-06T00:00:00",
          "2023-08-13T00:00:00",
          "2023-08-20T00:00:00",
          "2023-08-27T00:00:00",
          "2023-09-03T00:00:00",
          "2023-09-10T00:00:00",
          "2023-09-17T00:00:00",
          "2023-09-24T00:00:00",
          "2023-10-01T00:00:00",
          "2023-10-08T00:00:00",
          "2023-10-15T00:00:00",
          "2023-10-22T00:00:00",
          "2023-10-29T00:00:00",
          "2023-11-05T00:00:00",
          "2023-11-12T00:00:00",
          "2023-11-19T00:00:00",
          "2023-11-26T00:00:00",
          "2023-12-03T00:00:00",
          "2023-12-10T00:00:00",
          "2023-12-17T00:00:00",
          "2023-12-24T00:00:00",
          "2023-12-31T00:00:00",
          "2024-01-07T00:00:00",
          "2024-01-14T00:00:00",
          "2024-01-21T00:00:00",
          "2024-01-28T00:00:00",
          "2024-02-04T00:00:00",
          "2024-02-11T00:00:00",
          "2024-02-18T00:00:00",
          "2024-02-25T00:00:00",
          "2024-03-03T00:00:00",
          "2024-03-10T00:00:00",
          "2024-03-17T00:00:00",
          "2024-03-24T00:00:00",
          "2024-03-31T00:00:00",
          "2024-04-07T00:00:00",
          "2024-04-14T00:00:00",
          "2024-04-21T00:00:00",
          "2024-04-28T00:00:00",
          "2024-05-05T00:00:00",
          "2024-05-12T00:00:00",
          "2024-05-19T00:00:00",
          "2024-05-26T00:00:00",
          "2024-06-02T00:00:00",
          "2024-06-09T00:00:00",
          "2024-06-16T00:00:00",
          "2024-06-23T00:00:00",
          "2024-06-30T00:00:00",
          "2024-07-07T00:00:00",
          "2024-07-14T00:00:00",
          "2024-07-21T00:00:00",
          "2024-07-28T00:00:00",
          "2024-08-04T00:00:00",
          "2024-08-11T00:00:00",
          "2024-08-18T00:00:00",
          "2024-08-25T00:00:00",
          "2024-09-01T00:00:00",
          "2024-09-08T00:00:00",
          "2024-09-15T00:00:00",
          "2024-09-22T00:00:00"
         ],
         "y": [
          30,
          155,
          144,
          153,
          157,
          153,
          184,
          140,
          175,
          155,
          185,
          155,
          186,
          159,
          149,
          122,
          166,
          168,
          156,
          174,
          131,
          130,
          127,
          113,
          149,
          152,
          214,
          125,
          148,
          141,
          142,
          122,
          129,
          146,
          119,
          118,
          154,
          172,
          136,
          160,
          101,
          114,
          132,
          172,
          116,
          168,
          163,
          172,
          141,
          188,
          142,
          112,
          94,
          54,
          118,
          113,
          94,
          85,
          124,
          94,
          123,
          110,
          91,
          118,
          112,
          121,
          111,
          121,
          127,
          140,
          125,
          85,
          137,
          83,
          81,
          105,
          102,
          94,
          131,
          96,
          93,
          80,
          82,
          81,
          78,
          59,
          76,
          76,
          92,
          116,
          18
         ]
        },
        {
         "line": {
          "color": "cornflowerblue"
         },
         "mode": "lines+markers",
         "name": "Social",
         "type": "scatter",
         "x": [
          "2023-01-01T00:00:00",
          "2023-01-08T00:00:00",
          "2023-01-15T00:00:00",
          "2023-01-22T00:00:00",
          "2023-01-29T00:00:00",
          "2023-02-05T00:00:00",
          "2023-02-12T00:00:00",
          "2023-02-19T00:00:00",
          "2023-02-26T00:00:00",
          "2023-03-05T00:00:00",
          "2023-03-12T00:00:00",
          "2023-03-19T00:00:00",
          "2023-03-26T00:00:00",
          "2023-04-02T00:00:00",
          "2023-04-09T00:00:00",
          "2023-04-16T00:00:00",
          "2023-04-23T00:00:00",
          "2023-04-30T00:00:00",
          "2023-05-07T00:00:00",
          "2023-05-14T00:00:00",
          "2023-05-21T00:00:00",
          "2023-05-28T00:00:00",
          "2023-06-04T00:00:00",
          "2023-06-11T00:00:00",
          "2023-06-18T00:00:00",
          "2023-06-25T00:00:00",
          "2023-07-02T00:00:00",
          "2023-07-09T00:00:00",
          "2023-07-16T00:00:00",
          "2023-07-23T00:00:00",
          "2023-07-30T00:00:00",
          "2023-08-06T00:00:00",
          "2023-08-13T00:00:00",
          "2023-08-20T00:00:00",
          "2023-08-27T00:00:00",
          "2023-09-03T00:00:00",
          "2023-09-10T00:00:00",
          "2023-09-17T00:00:00",
          "2023-09-24T00:00:00",
          "2023-10-01T00:00:00",
          "2023-10-08T00:00:00",
          "2023-10-15T00:00:00",
          "2023-10-22T00:00:00",
          "2023-10-29T00:00:00",
          "2023-11-05T00:00:00",
          "2023-11-12T00:00:00",
          "2023-11-19T00:00:00",
          "2023-11-26T00:00:00",
          "2023-12-03T00:00:00",
          "2023-12-10T00:00:00",
          "2023-12-17T00:00:00",
          "2023-12-24T00:00:00",
          "2023-12-31T00:00:00",
          "2024-01-07T00:00:00",
          "2024-01-14T00:00:00",
          "2024-01-21T00:00:00",
          "2024-01-28T00:00:00",
          "2024-02-04T00:00:00",
          "2024-02-11T00:00:00",
          "2024-02-18T00:00:00",
          "2024-02-25T00:00:00",
          "2024-03-03T00:00:00",
          "2024-03-10T00:00:00",
          "2024-03-17T00:00:00",
          "2024-03-24T00:00:00",
          "2024-03-31T00:00:00",
          "2024-04-07T00:00:00",
          "2024-04-14T00:00:00",
          "2024-04-21T00:00:00",
          "2024-04-28T00:00:00",
          "2024-05-05T00:00:00",
          "2024-05-12T00:00:00",
          "2024-05-19T00:00:00",
          "2024-05-26T00:00:00",
          "2024-06-02T00:00:00",
          "2024-06-09T00:00:00",
          "2024-06-16T00:00:00",
          "2024-06-23T00:00:00",
          "2024-06-30T00:00:00",
          "2024-07-07T00:00:00",
          "2024-07-14T00:00:00",
          "2024-07-21T00:00:00",
          "2024-07-28T00:00:00",
          "2024-08-04T00:00:00",
          "2024-08-11T00:00:00",
          "2024-08-18T00:00:00",
          "2024-08-25T00:00:00",
          "2024-09-01T00:00:00",
          "2024-09-08T00:00:00",
          "2024-09-15T00:00:00",
          "2024-09-22T00:00:00"
         ],
         "y": [
          23,
          143,
          176,
          211,
          241,
          219,
          205,
          171,
          199,
          240,
          214,
          181,
          163,
          163,
          119,
          134,
          157,
          179,
          156,
          179,
          136,
          162,
          170,
          127,
          170,
          187,
          188,
          152,
          168,
          155,
          180,
          140,
          145,
          160,
          136,
          155,
          164,
          197,
          206,
          157,
          152,
          139,
          201,
          171,
          163,
          186,
          205,
          170,
          166,
          215,
          154,
          172,
          109,
          114,
          142,
          181,
          170,
          211,
          163,
          203,
          227,
          204,
          193,
          160,
          178,
          147,
          156,
          166,
          198,
          209,
          143,
          159,
          200,
          135,
          159,
          198,
          170,
          169,
          162,
          145,
          151,
          143,
          134,
          147,
          132,
          117,
          116,
          127,
          196,
          198,
          32
         ]
        },
        {
         "mode": "lines+markers",
         "name": "Total",
         "type": "scatter",
         "x": [
          "2023-01-01T00:00:00",
          "2023-01-08T00:00:00",
          "2023-01-15T00:00:00",
          "2023-01-22T00:00:00",
          "2023-01-29T00:00:00",
          "2023-02-05T00:00:00",
          "2023-02-12T00:00:00",
          "2023-02-19T00:00:00",
          "2023-02-26T00:00:00",
          "2023-03-05T00:00:00",
          "2023-03-12T00:00:00",
          "2023-03-19T00:00:00",
          "2023-03-26T00:00:00",
          "2023-04-02T00:00:00",
          "2023-04-09T00:00:00",
          "2023-04-16T00:00:00",
          "2023-04-23T00:00:00",
          "2023-04-30T00:00:00",
          "2023-05-07T00:00:00",
          "2023-05-14T00:00:00",
          "2023-05-21T00:00:00",
          "2023-05-28T00:00:00",
          "2023-06-04T00:00:00",
          "2023-06-11T00:00:00",
          "2023-06-18T00:00:00",
          "2023-06-25T00:00:00",
          "2023-07-02T00:00:00",
          "2023-07-09T00:00:00",
          "2023-07-16T00:00:00",
          "2023-07-23T00:00:00",
          "2023-07-30T00:00:00",
          "2023-08-06T00:00:00",
          "2023-08-13T00:00:00",
          "2023-08-20T00:00:00",
          "2023-08-27T00:00:00",
          "2023-09-03T00:00:00",
          "2023-09-10T00:00:00",
          "2023-09-17T00:00:00",
          "2023-09-24T00:00:00",
          "2023-10-01T00:00:00",
          "2023-10-08T00:00:00",
          "2023-10-15T00:00:00",
          "2023-10-22T00:00:00",
          "2023-10-29T00:00:00",
          "2023-11-05T00:00:00",
          "2023-11-12T00:00:00",
          "2023-11-19T00:00:00",
          "2023-11-26T00:00:00",
          "2023-12-03T00:00:00",
          "2023-12-10T00:00:00",
          "2023-12-17T00:00:00",
          "2023-12-24T00:00:00",
          "2023-12-31T00:00:00",
          "2024-01-07T00:00:00",
          "2024-01-14T00:00:00",
          "2024-01-21T00:00:00",
          "2024-01-28T00:00:00",
          "2024-02-04T00:00:00",
          "2024-02-11T00:00:00",
          "2024-02-18T00:00:00",
          "2024-02-25T00:00:00",
          "2024-03-03T00:00:00",
          "2024-03-10T00:00:00",
          "2024-03-17T00:00:00",
          "2024-03-24T00:00:00",
          "2024-03-31T00:00:00",
          "2024-04-07T00:00:00",
          "2024-04-14T00:00:00",
          "2024-04-21T00:00:00",
          "2024-04-28T00:00:00",
          "2024-05-05T00:00:00",
          "2024-05-12T00:00:00",
          "2024-05-19T00:00:00",
          "2024-05-26T00:00:00",
          "2024-06-02T00:00:00",
          "2024-06-09T00:00:00",
          "2024-06-16T00:00:00",
          "2024-06-23T00:00:00",
          "2024-06-30T00:00:00",
          "2024-07-07T00:00:00",
          "2024-07-14T00:00:00",
          "2024-07-21T00:00:00",
          "2024-07-28T00:00:00",
          "2024-08-04T00:00:00",
          "2024-08-11T00:00:00",
          "2024-08-18T00:00:00",
          "2024-08-25T00:00:00",
          "2024-09-01T00:00:00",
          "2024-09-08T00:00:00",
          "2024-09-15T00:00:00",
          "2024-09-22T00:00:00"
         ],
         "y": [
          91,
          667,
          876,
          806,
          765,
          767,
          759,
          633,
          738,
          801,
          758,
          681,
          672,
          654,
          570,
          602,
          726,
          683,
          620,
          661,
          554,
          608,
          559,
          510,
          661,
          630,
          694,
          533,
          603,
          583,
          663,
          573,
          540,
          573,
          524,
          622,
          749,
          716,
          655,
          606,
          489,
          525,
          624,
          601,
          518,
          664,
          682,
          668,
          628,
          688,
          549,
          573,
          406,
          343,
          469,
          533,
          485,
          501,
          529,
          504,
          574,
          562,
          503,
          505,
          557,
          455,
          466,
          501,
          536,
          599,
          484,
          449,
          566,
          427,
          455,
          563,
          462,
          470,
          460,
          445,
          455,
          432,
          453,
          415,
          380,
          369,
          381,
          370,
          498,
          527,
          103
         ]
        }
       ],
       "layout": {
        "font": {
         "size": 20
        },
        "height": 800,
        "legend": {
         "bgcolor": "rgba(255, 255, 255, 0.8)",
         "bordercolor": "black",
         "borderwidth": 1,
         "font": {
          "size": 17
         },
         "x": 0.98,
         "xanchor": "right",
         "y": 0.78,
         "yanchor": "bottom"
        },
        "template": {
         "data": {
          "bar": [
           {
            "error_x": {
             "color": "#2a3f5f"
            },
            "error_y": {
             "color": "#2a3f5f"
            },
            "marker": {
             "line": {
              "color": "#E5ECF6",
              "width": 0.5
             },
             "pattern": {
              "fillmode": "overlay",
              "size": 10,
              "solidity": 0.2
             }
            },
            "type": "bar"
           }
          ],
          "barpolar": [
           {
            "marker": {
             "line": {
              "color": "#E5ECF6",
              "width": 0.5
             },
             "pattern": {
              "fillmode": "overlay",
              "size": 10,
              "solidity": 0.2
             }
            },
            "type": "barpolar"
           }
          ],
          "carpet": [
           {
            "aaxis": {
             "endlinecolor": "#2a3f5f",
             "gridcolor": "white",
             "linecolor": "white",
             "minorgridcolor": "white",
             "startlinecolor": "#2a3f5f"
            },
            "baxis": {
             "endlinecolor": "#2a3f5f",
             "gridcolor": "white",
             "linecolor": "white",
             "minorgridcolor": "white",
             "startlinecolor": "#2a3f5f"
            },
            "type": "carpet"
           }
          ],
          "choropleth": [
           {
            "colorbar": {
             "outlinewidth": 0,
             "ticks": ""
            },
            "type": "choropleth"
           }
          ],
          "contour": [
           {
            "colorbar": {
             "outlinewidth": 0,
             "ticks": ""
            },
            "colorscale": [
             [
              0,
              "#0d0887"
             ],
             [
              0.1111111111111111,
              "#46039f"
             ],
             [
              0.2222222222222222,
              "#7201a8"
             ],
             [
              0.3333333333333333,
              "#9c179e"
             ],
             [
              0.4444444444444444,
              "#bd3786"
             ],
             [
              0.5555555555555556,
              "#d8576b"
             ],
             [
              0.6666666666666666,
              "#ed7953"
             ],
             [
              0.7777777777777778,
              "#fb9f3a"
             ],
             [
              0.8888888888888888,
              "#fdca26"
             ],
             [
              1,
              "#f0f921"
             ]
            ],
            "type": "contour"
           }
          ],
          "contourcarpet": [
           {
            "colorbar": {
             "outlinewidth": 0,
             "ticks": ""
            },
            "type": "contourcarpet"
           }
          ],
          "heatmap": [
           {
            "colorbar": {
             "outlinewidth": 0,
             "ticks": ""
            },
            "colorscale": [
             [
              0,
              "#0d0887"
             ],
             [
              0.1111111111111111,
              "#46039f"
             ],
             [
              0.2222222222222222,
              "#7201a8"
             ],
             [
              0.3333333333333333,
              "#9c179e"
             ],
             [
              0.4444444444444444,
              "#bd3786"
             ],
             [
              0.5555555555555556,
              "#d8576b"
             ],
             [
              0.6666666666666666,
              "#ed7953"
             ],
             [
              0.7777777777777778,
              "#fb9f3a"
             ],
             [
              0.8888888888888888,
              "#fdca26"
             ],
             [
              1,
              "#f0f921"
             ]
            ],
            "type": "heatmap"
           }
          ],
          "heatmapgl": [
           {
            "colorbar": {
             "outlinewidth": 0,
             "ticks": ""
            },
            "colorscale": [
             [
              0,
              "#0d0887"
             ],
             [
              0.1111111111111111,
              "#46039f"
             ],
             [
              0.2222222222222222,
              "#7201a8"
             ],
             [
              0.3333333333333333,
              "#9c179e"
             ],
             [
              0.4444444444444444,
              "#bd3786"
             ],
             [
              0.5555555555555556,
              "#d8576b"
             ],
             [
              0.6666666666666666,
              "#ed7953"
             ],
             [
              0.7777777777777778,
              "#fb9f3a"
             ],
             [
              0.8888888888888888,
              "#fdca26"
             ],
             [
              1,
              "#f0f921"
             ]
            ],
            "type": "heatmapgl"
           }
          ],
          "histogram": [
           {
            "marker": {
             "pattern": {
              "fillmode": "overlay",
              "size": 10,
              "solidity": 0.2
             }
            },
            "type": "histogram"
           }
          ],
          "histogram2d": [
           {
            "colorbar": {
             "outlinewidth": 0,
             "ticks": ""
            },
            "colorscale": [
             [
              0,
              "#0d0887"
             ],
             [
              0.1111111111111111,
              "#46039f"
             ],
             [
              0.2222222222222222,
              "#7201a8"
             ],
             [
              0.3333333333333333,
              "#9c179e"
             ],
             [
              0.4444444444444444,
              "#bd3786"
             ],
             [
              0.5555555555555556,
              "#d8576b"
             ],
             [
              0.6666666666666666,
              "#ed7953"
             ],
             [
              0.7777777777777778,
              "#fb9f3a"
             ],
             [
              0.8888888888888888,
              "#fdca26"
             ],
             [
              1,
              "#f0f921"
             ]
            ],
            "type": "histogram2d"
           }
          ],
          "histogram2dcontour": [
           {
            "colorbar": {
             "outlinewidth": 0,
             "ticks": ""
            },
            "colorscale": [
             [
              0,
              "#0d0887"
             ],
             [
              0.1111111111111111,
              "#46039f"
             ],
             [
              0.2222222222222222,
              "#7201a8"
             ],
             [
              0.3333333333333333,
              "#9c179e"
             ],
             [
              0.4444444444444444,
              "#bd3786"
             ],
             [
              0.5555555555555556,
              "#d8576b"
             ],
             [
              0.6666666666666666,
              "#ed7953"
             ],
             [
              0.7777777777777778,
              "#fb9f3a"
             ],
             [
              0.8888888888888888,
              "#fdca26"
             ],
             [
              1,
              "#f0f921"
             ]
            ],
            "type": "histogram2dcontour"
           }
          ],
          "mesh3d": [
           {
            "colorbar": {
             "outlinewidth": 0,
             "ticks": ""
            },
            "type": "mesh3d"
           }
          ],
          "parcoords": [
           {
            "line": {
             "colorbar": {
              "outlinewidth": 0,
              "ticks": ""
             }
            },
            "type": "parcoords"
           }
          ],
          "pie": [
           {
            "automargin": true,
            "type": "pie"
           }
          ],
          "scatter": [
           {
            "fillpattern": {
             "fillmode": "overlay",
             "size": 10,
             "solidity": 0.2
            },
            "type": "scatter"
           }
          ],
          "scatter3d": [
           {
            "line": {
             "colorbar": {
              "outlinewidth": 0,
              "ticks": ""
             }
            },
            "marker": {
             "colorbar": {
              "outlinewidth": 0,
              "ticks": ""
             }
            },
            "type": "scatter3d"
           }
          ],
          "scattercarpet": [
           {
            "marker": {
             "colorbar": {
              "outlinewidth": 0,
              "ticks": ""
             }
            },
            "type": "scattercarpet"
           }
          ],
          "scattergeo": [
           {
            "marker": {
             "colorbar": {
              "outlinewidth": 0,
              "ticks": ""
             }
            },
            "type": "scattergeo"
           }
          ],
          "scattergl": [
           {
            "marker": {
             "colorbar": {
              "outlinewidth": 0,
              "ticks": ""
             }
            },
            "type": "scattergl"
           }
          ],
          "scattermapbox": [
           {
            "marker": {
             "colorbar": {
              "outlinewidth": 0,
              "ticks": ""
             }
            },
            "type": "scattermapbox"
           }
          ],
          "scatterpolar": [
           {
            "marker": {
             "colorbar": {
              "outlinewidth": 0,
              "ticks": ""
             }
            },
            "type": "scatterpolar"
           }
          ],
          "scatterpolargl": [
           {
            "marker": {
             "colorbar": {
              "outlinewidth": 0,
              "ticks": ""
             }
            },
            "type": "scatterpolargl"
           }
          ],
          "scatterternary": [
           {
            "marker": {
             "colorbar": {
              "outlinewidth": 0,
              "ticks": ""
             }
            },
            "type": "scatterternary"
           }
          ],
          "surface": [
           {
            "colorbar": {
             "outlinewidth": 0,
             "ticks": ""
            },
            "colorscale": [
             [
              0,
              "#0d0887"
             ],
             [
              0.1111111111111111,
              "#46039f"
             ],
             [
              0.2222222222222222,
              "#7201a8"
             ],
             [
              0.3333333333333333,
              "#9c179e"
             ],
             [
              0.4444444444444444,
              "#bd3786"
             ],
             [
              0.5555555555555556,
              "#d8576b"
             ],
             [
              0.6666666666666666,
              "#ed7953"
             ],
             [
              0.7777777777777778,
              "#fb9f3a"
             ],
             [
              0.8888888888888888,
              "#fdca26"
             ],
             [
              1,
              "#f0f921"
             ]
            ],
            "type": "surface"
           }
          ],
          "table": [
           {
            "cells": {
             "fill": {
              "color": "#EBF0F8"
             },
             "line": {
              "color": "white"
             }
            },
            "header": {
             "fill": {
              "color": "#C8D4E3"
             },
             "line": {
              "color": "white"
             }
            },
            "type": "table"
           }
          ]
         },
         "layout": {
          "annotationdefaults": {
           "arrowcolor": "#2a3f5f",
           "arrowhead": 0,
           "arrowwidth": 1
          },
          "autotypenumbers": "strict",
          "coloraxis": {
           "colorbar": {
            "outlinewidth": 0,
            "ticks": ""
           }
          },
          "colorscale": {
           "diverging": [
            [
             0,
             "#8e0152"
            ],
            [
             0.1,
             "#c51b7d"
            ],
            [
             0.2,
             "#de77ae"
            ],
            [
             0.3,
             "#f1b6da"
            ],
            [
             0.4,
             "#fde0ef"
            ],
            [
             0.5,
             "#f7f7f7"
            ],
            [
             0.6,
             "#e6f5d0"
            ],
            [
             0.7,
             "#b8e186"
            ],
            [
             0.8,
             "#7fbc41"
            ],
            [
             0.9,
             "#4d9221"
            ],
            [
             1,
             "#276419"
            ]
           ],
           "sequential": [
            [
             0,
             "#0d0887"
            ],
            [
             0.1111111111111111,
             "#46039f"
            ],
            [
             0.2222222222222222,
             "#7201a8"
            ],
            [
             0.3333333333333333,
             "#9c179e"
            ],
            [
             0.4444444444444444,
             "#bd3786"
            ],
            [
             0.5555555555555556,
             "#d8576b"
            ],
            [
             0.6666666666666666,
             "#ed7953"
            ],
            [
             0.7777777777777778,
             "#fb9f3a"
            ],
            [
             0.8888888888888888,
             "#fdca26"
            ],
            [
             1,
             "#f0f921"
            ]
           ],
           "sequentialminus": [
            [
             0,
             "#0d0887"
            ],
            [
             0.1111111111111111,
             "#46039f"
            ],
            [
             0.2222222222222222,
             "#7201a8"
            ],
            [
             0.3333333333333333,
             "#9c179e"
            ],
            [
             0.4444444444444444,
             "#bd3786"
            ],
            [
             0.5555555555555556,
             "#d8576b"
            ],
            [
             0.6666666666666666,
             "#ed7953"
            ],
            [
             0.7777777777777778,
             "#fb9f3a"
            ],
            [
             0.8888888888888888,
             "#fdca26"
            ],
            [
             1,
             "#f0f921"
            ]
           ]
          },
          "colorway": [
           "#636efa",
           "#EF553B",
           "#00cc96",
           "#ab63fa",
           "#FFA15A",
           "#19d3f3",
           "#FF6692",
           "#B6E880",
           "#FF97FF",
           "#FECB52"
          ],
          "font": {
           "color": "#2a3f5f"
          },
          "geo": {
           "bgcolor": "white",
           "lakecolor": "white",
           "landcolor": "#E5ECF6",
           "showlakes": true,
           "showland": true,
           "subunitcolor": "white"
          },
          "hoverlabel": {
           "align": "left"
          },
          "hovermode": "closest",
          "mapbox": {
           "style": "light"
          },
          "paper_bgcolor": "white",
          "plot_bgcolor": "#E5ECF6",
          "polar": {
           "angularaxis": {
            "gridcolor": "white",
            "linecolor": "white",
            "ticks": ""
           },
           "bgcolor": "#E5ECF6",
           "radialaxis": {
            "gridcolor": "white",
            "linecolor": "white",
            "ticks": ""
           }
          },
          "scene": {
           "xaxis": {
            "backgroundcolor": "#E5ECF6",
            "gridcolor": "white",
            "gridwidth": 2,
            "linecolor": "white",
            "showbackground": true,
            "ticks": "",
            "zerolinecolor": "white"
           },
           "yaxis": {
            "backgroundcolor": "#E5ECF6",
            "gridcolor": "white",
            "gridwidth": 2,
            "linecolor": "white",
            "showbackground": true,
            "ticks": "",
            "zerolinecolor": "white"
           },
           "zaxis": {
            "backgroundcolor": "#E5ECF6",
            "gridcolor": "white",
            "gridwidth": 2,
            "linecolor": "white",
            "showbackground": true,
            "ticks": "",
            "zerolinecolor": "white"
           }
          },
          "shapedefaults": {
           "line": {
            "color": "#2a3f5f"
           }
          },
          "ternary": {
           "aaxis": {
            "gridcolor": "white",
            "linecolor": "white",
            "ticks": ""
           },
           "baxis": {
            "gridcolor": "white",
            "linecolor": "white",
            "ticks": ""
           },
           "bgcolor": "#E5ECF6",
           "caxis": {
            "gridcolor": "white",
            "linecolor": "white",
            "ticks": ""
           }
          },
          "title": {
           "x": 0.05
          },
          "xaxis": {
           "automargin": true,
           "gridcolor": "white",
           "linecolor": "white",
           "ticks": "",
           "title": {
            "standoff": 15
           },
           "zerolinecolor": "white",
           "zerolinewidth": 2
          },
          "yaxis": {
           "automargin": true,
           "gridcolor": "white",
           "linecolor": "white",
           "ticks": "",
           "title": {
            "standoff": 15
           },
           "zerolinecolor": "white",
           "zerolinewidth": 2
          }
         }
        },
        "title": {
         "text": "Weekly Number of Articles"
        },
        "width": 800,
        "xaxis": {
         "linecolor": "black",
         "linewidth": 1,
         "mirror": true,
         "showline": true,
         "tickformat": "%Y-%m-%d",
         "title": {
          "text": "Week"
         }
        },
        "yaxis": {
         "linecolor": "black",
         "linewidth": 1,
         "mirror": true,
         "showline": true,
         "title": {
          "text": "Count"
         }
        }
       }
      }
     },
     "metadata": {},
     "output_type": "display_data"
    }
   ],
   "source": [
    "counts = data_all_graph.groupby('aspect').resample('W').size().unstack(fill_value=0).T#.rolling(60, min_periods=1).mean()\n",
    "\n",
    "# Create the figure\n",
    "fig = go.Figure()\n",
    "\n",
    "# Add a line for each aspect\n",
    "for aspect in counts.columns:\n",
    "    fig.add_trace(go.Scatter(\n",
    "        x=counts.index, \n",
    "        y=counts[aspect], \n",
    "        mode='lines+markers',\n",
    "        name=aspect.title(),\n",
    "        line=dict(color=aspect_colors[aspect]),\n",
    "    ))\n",
    "\n",
    "fig.add_trace(go.Scatter(\n",
    "    x=counts.index, \n",
    "    y=counts.sum(axis=1), \n",
    "    mode='lines+markers',\n",
    "    name='Total'\n",
    "))\n",
    "\n",
    "# Update layout with titles\n",
    "fig.update_layout(\n",
    "    title='Weekly Number of Articles',\n",
    "    xaxis_title='Week',\n",
    "    yaxis_title='Count',\n",
    "    xaxis_tickformat='%Y-%m-%d',\n",
    "    width=800,\n",
    "    height=800,\n",
    "    font=dict(size=textfont_size),\n",
    "    xaxis=dict(showline=True, linewidth=1, linecolor='black', mirror=True),  # Black line on x-axis\n",
    "    yaxis=dict(showline=True, linewidth=1, linecolor='black', mirror=True),  # Black line on y-axis\n",
    "    legend=dict(\n",
    "        x=0.98,  # Position it 10% from the left side of the first subplot\n",
    "        y=0.78,  # Position it vertically centered\n",
    "        xanchor='right',  # Anchor the legend to the left\n",
    "        yanchor='bottom',  # Anchor the legend to the middle\n",
    "        bgcolor='rgba(255, 255, 255, 0.8)',  # Optional: set a background color for better visibility\n",
    "        bordercolor='black',  # Optional: set border color\n",
    "        borderwidth=1,  # Optional: set border width\n",
    "        font = dict(size = textfont_size-3),\n",
    "    ),\n",
    ")\n",
    "\n",
    "# Show the plot\n",
    "fig.show()"
   ]
  },
  {
   "cell_type": "markdown",
   "metadata": {},
   "source": [
    "### Fig. 3 - right: Moving Average of the Daily Sentiment"
   ]
  },
  {
   "cell_type": "code",
   "execution_count": 13,
   "metadata": {},
   "outputs": [
    {
     "data": {
      "application/vnd.plotly.v1+json": {
       "config": {
        "plotlyServerURL": "https://plot.ly"
       },
       "data": [
        {
         "line": {
          "color": "forestgreen"
         },
         "mode": "lines",
         "name": "Environmental",
         "type": "scatter",
         "x": [
          "2023-01-01T00:00:00",
          "2023-01-02T00:00:00",
          "2023-01-03T00:00:00",
          "2023-01-04T00:00:00",
          "2023-01-05T00:00:00",
          "2023-01-06T00:00:00",
          "2023-01-07T00:00:00",
          "2023-01-08T00:00:00",
          "2023-01-09T00:00:00",
          "2023-01-10T00:00:00",
          "2023-01-11T00:00:00",
          "2023-01-12T00:00:00",
          "2023-01-13T00:00:00",
          "2023-01-14T00:00:00",
          "2023-01-15T00:00:00",
          "2023-01-16T00:00:00",
          "2023-01-17T00:00:00",
          "2023-01-18T00:00:00",
          "2023-01-19T00:00:00",
          "2023-01-20T00:00:00",
          "2023-01-21T00:00:00",
          "2023-01-22T00:00:00",
          "2023-01-23T00:00:00",
          "2023-01-24T00:00:00",
          "2023-01-25T00:00:00",
          "2023-01-26T00:00:00",
          "2023-01-27T00:00:00",
          "2023-01-28T00:00:00",
          "2023-01-29T00:00:00",
          "2023-01-30T00:00:00",
          "2023-01-31T00:00:00",
          "2023-02-01T00:00:00",
          "2023-02-02T00:00:00",
          "2023-02-03T00:00:00",
          "2023-02-04T00:00:00",
          "2023-02-05T00:00:00",
          "2023-02-06T00:00:00",
          "2023-02-07T00:00:00",
          "2023-02-08T00:00:00",
          "2023-02-09T00:00:00",
          "2023-02-10T00:00:00",
          "2023-02-11T00:00:00",
          "2023-02-12T00:00:00",
          "2023-02-13T00:00:00",
          "2023-02-14T00:00:00",
          "2023-02-15T00:00:00",
          "2023-02-16T00:00:00",
          "2023-02-17T00:00:00",
          "2023-02-18T00:00:00",
          "2023-02-19T00:00:00",
          "2023-02-20T00:00:00",
          "2023-02-21T00:00:00",
          "2023-02-22T00:00:00",
          "2023-02-23T00:00:00",
          "2023-02-24T00:00:00",
          "2023-02-25T00:00:00",
          "2023-02-26T00:00:00",
          "2023-02-27T00:00:00",
          "2023-02-28T00:00:00",
          "2023-03-01T00:00:00",
          "2023-03-02T00:00:00",
          "2023-03-03T00:00:00",
          "2023-03-04T00:00:00",
          "2023-03-05T00:00:00",
          "2023-03-06T00:00:00",
          "2023-03-07T00:00:00",
          "2023-03-08T00:00:00",
          "2023-03-09T00:00:00",
          "2023-03-10T00:00:00",
          "2023-03-11T00:00:00",
          "2023-03-12T00:00:00",
          "2023-03-13T00:00:00",
          "2023-03-14T00:00:00",
          "2023-03-15T00:00:00",
          "2023-03-16T00:00:00",
          "2023-03-17T00:00:00",
          "2023-03-18T00:00:00",
          "2023-03-19T00:00:00",
          "2023-03-20T00:00:00",
          "2023-03-21T00:00:00",
          "2023-03-22T00:00:00",
          "2023-03-23T00:00:00",
          "2023-03-24T00:00:00",
          "2023-03-25T00:00:00",
          "2023-03-26T00:00:00",
          "2023-03-27T00:00:00",
          "2023-03-28T00:00:00",
          "2023-03-29T00:00:00",
          "2023-03-30T00:00:00",
          "2023-03-31T00:00:00",
          "2023-04-01T00:00:00",
          "2023-04-02T00:00:00",
          "2023-04-03T00:00:00",
          "2023-04-04T00:00:00",
          "2023-04-05T00:00:00",
          "2023-04-06T00:00:00",
          "2023-04-07T00:00:00",
          "2023-04-08T00:00:00",
          "2023-04-09T00:00:00",
          "2023-04-10T00:00:00",
          "2023-04-11T00:00:00",
          "2023-04-12T00:00:00",
          "2023-04-13T00:00:00",
          "2023-04-14T00:00:00",
          "2023-04-15T00:00:00",
          "2023-04-16T00:00:00",
          "2023-04-17T00:00:00",
          "2023-04-18T00:00:00",
          "2023-04-19T00:00:00",
          "2023-04-20T00:00:00",
          "2023-04-21T00:00:00",
          "2023-04-22T00:00:00",
          "2023-04-23T00:00:00",
          "2023-04-24T00:00:00",
          "2023-04-25T00:00:00",
          "2023-04-26T00:00:00",
          "2023-04-27T00:00:00",
          "2023-04-28T00:00:00",
          "2023-04-29T00:00:00",
          "2023-04-30T00:00:00",
          "2023-05-01T00:00:00",
          "2023-05-02T00:00:00",
          "2023-05-03T00:00:00",
          "2023-05-04T00:00:00",
          "2023-05-05T00:00:00",
          "2023-05-06T00:00:00",
          "2023-05-07T00:00:00",
          "2023-05-08T00:00:00",
          "2023-05-09T00:00:00",
          "2023-05-10T00:00:00",
          "2023-05-11T00:00:00",
          "2023-05-12T00:00:00",
          "2023-05-13T00:00:00",
          "2023-05-14T00:00:00",
          "2023-05-15T00:00:00",
          "2023-05-16T00:00:00",
          "2023-05-17T00:00:00",
          "2023-05-18T00:00:00",
          "2023-05-19T00:00:00",
          "2023-05-20T00:00:00",
          "2023-05-21T00:00:00",
          "2023-05-22T00:00:00",
          "2023-05-23T00:00:00",
          "2023-05-24T00:00:00",
          "2023-05-25T00:00:00",
          "2023-05-26T00:00:00",
          "2023-05-27T00:00:00",
          "2023-05-28T00:00:00",
          "2023-05-29T00:00:00",
          "2023-05-30T00:00:00",
          "2023-05-31T00:00:00",
          "2023-06-01T00:00:00",
          "2023-06-02T00:00:00",
          "2023-06-03T00:00:00",
          "2023-06-04T00:00:00",
          "2023-06-05T00:00:00",
          "2023-06-06T00:00:00",
          "2023-06-07T00:00:00",
          "2023-06-08T00:00:00",
          "2023-06-09T00:00:00",
          "2023-06-10T00:00:00",
          "2023-06-11T00:00:00",
          "2023-06-12T00:00:00",
          "2023-06-13T00:00:00",
          "2023-06-14T00:00:00",
          "2023-06-15T00:00:00",
          "2023-06-16T00:00:00",
          "2023-06-17T00:00:00",
          "2023-06-18T00:00:00",
          "2023-06-19T00:00:00",
          "2023-06-20T00:00:00",
          "2023-06-21T00:00:00",
          "2023-06-22T00:00:00",
          "2023-06-23T00:00:00",
          "2023-06-24T00:00:00",
          "2023-06-25T00:00:00",
          "2023-06-26T00:00:00",
          "2023-06-27T00:00:00",
          "2023-06-28T00:00:00",
          "2023-06-29T00:00:00",
          "2023-06-30T00:00:00",
          "2023-07-01T00:00:00",
          "2023-07-02T00:00:00",
          "2023-07-03T00:00:00",
          "2023-07-04T00:00:00",
          "2023-07-05T00:00:00",
          "2023-07-06T00:00:00",
          "2023-07-07T00:00:00",
          "2023-07-08T00:00:00",
          "2023-07-09T00:00:00",
          "2023-07-10T00:00:00",
          "2023-07-11T00:00:00",
          "2023-07-12T00:00:00",
          "2023-07-13T00:00:00",
          "2023-07-14T00:00:00",
          "2023-07-15T00:00:00",
          "2023-07-16T00:00:00",
          "2023-07-17T00:00:00",
          "2023-07-18T00:00:00",
          "2023-07-19T00:00:00",
          "2023-07-20T00:00:00",
          "2023-07-21T00:00:00",
          "2023-07-22T00:00:00",
          "2023-07-23T00:00:00",
          "2023-07-24T00:00:00",
          "2023-07-25T00:00:00",
          "2023-07-26T00:00:00",
          "2023-07-27T00:00:00",
          "2023-07-28T00:00:00",
          "2023-07-29T00:00:00",
          "2023-07-30T00:00:00",
          "2023-07-31T00:00:00",
          "2023-08-01T00:00:00",
          "2023-08-02T00:00:00",
          "2023-08-03T00:00:00",
          "2023-08-04T00:00:00",
          "2023-08-05T00:00:00",
          "2023-08-06T00:00:00",
          "2023-08-07T00:00:00",
          "2023-08-08T00:00:00",
          "2023-08-09T00:00:00",
          "2023-08-10T00:00:00",
          "2023-08-11T00:00:00",
          "2023-08-12T00:00:00",
          "2023-08-13T00:00:00",
          "2023-08-14T00:00:00",
          "2023-08-15T00:00:00",
          "2023-08-16T00:00:00",
          "2023-08-17T00:00:00",
          "2023-08-18T00:00:00",
          "2023-08-19T00:00:00",
          "2023-08-20T00:00:00",
          "2023-08-21T00:00:00",
          "2023-08-22T00:00:00",
          "2023-08-23T00:00:00",
          "2023-08-24T00:00:00",
          "2023-08-25T00:00:00",
          "2023-08-26T00:00:00",
          "2023-08-27T00:00:00",
          "2023-08-28T00:00:00",
          "2023-08-29T00:00:00",
          "2023-08-30T00:00:00",
          "2023-08-31T00:00:00",
          "2023-09-01T00:00:00",
          "2023-09-02T00:00:00",
          "2023-09-03T00:00:00",
          "2023-09-04T00:00:00",
          "2023-09-05T00:00:00",
          "2023-09-06T00:00:00",
          "2023-09-07T00:00:00",
          "2023-09-08T00:00:00",
          "2023-09-09T00:00:00",
          "2023-09-10T00:00:00",
          "2023-09-11T00:00:00",
          "2023-09-12T00:00:00",
          "2023-09-13T00:00:00",
          "2023-09-14T00:00:00",
          "2023-09-15T00:00:00",
          "2023-09-16T00:00:00",
          "2023-09-17T00:00:00",
          "2023-09-18T00:00:00",
          "2023-09-19T00:00:00",
          "2023-09-20T00:00:00",
          "2023-09-21T00:00:00",
          "2023-09-22T00:00:00",
          "2023-09-23T00:00:00",
          "2023-09-24T00:00:00",
          "2023-09-25T00:00:00",
          "2023-09-26T00:00:00",
          "2023-09-27T00:00:00",
          "2023-09-28T00:00:00",
          "2023-09-29T00:00:00",
          "2023-09-30T00:00:00",
          "2023-10-01T00:00:00",
          "2023-10-02T00:00:00",
          "2023-10-03T00:00:00",
          "2023-10-04T00:00:00",
          "2023-10-05T00:00:00",
          "2023-10-06T00:00:00",
          "2023-10-07T00:00:00",
          "2023-10-08T00:00:00",
          "2023-10-09T00:00:00",
          "2023-10-10T00:00:00",
          "2023-10-11T00:00:00",
          "2023-10-12T00:00:00",
          "2023-10-13T00:00:00",
          "2023-10-14T00:00:00",
          "2023-10-15T00:00:00",
          "2023-10-16T00:00:00",
          "2023-10-17T00:00:00",
          "2023-10-18T00:00:00",
          "2023-10-19T00:00:00",
          "2023-10-20T00:00:00",
          "2023-10-21T00:00:00",
          "2023-10-22T00:00:00",
          "2023-10-23T00:00:00",
          "2023-10-24T00:00:00",
          "2023-10-25T00:00:00",
          "2023-10-26T00:00:00",
          "2023-10-27T00:00:00",
          "2023-10-28T00:00:00",
          "2023-10-29T00:00:00",
          "2023-10-30T00:00:00",
          "2023-10-31T00:00:00",
          "2023-11-01T00:00:00",
          "2023-11-02T00:00:00",
          "2023-11-03T00:00:00",
          "2023-11-04T00:00:00",
          "2023-11-05T00:00:00",
          "2023-11-06T00:00:00",
          "2023-11-07T00:00:00",
          "2023-11-08T00:00:00",
          "2023-11-09T00:00:00",
          "2023-11-10T00:00:00",
          "2023-11-11T00:00:00",
          "2023-11-12T00:00:00",
          "2023-11-13T00:00:00",
          "2023-11-14T00:00:00",
          "2023-11-15T00:00:00",
          "2023-11-16T00:00:00",
          "2023-11-17T00:00:00",
          "2023-11-18T00:00:00",
          "2023-11-19T00:00:00",
          "2023-11-20T00:00:00",
          "2023-11-21T00:00:00",
          "2023-11-22T00:00:00",
          "2023-11-23T00:00:00",
          "2023-11-24T00:00:00",
          "2023-11-25T00:00:00",
          "2023-11-26T00:00:00",
          "2023-11-27T00:00:00",
          "2023-11-28T00:00:00",
          "2023-11-29T00:00:00",
          "2023-11-30T00:00:00",
          "2023-12-01T00:00:00",
          "2023-12-02T00:00:00",
          "2023-12-03T00:00:00",
          "2023-12-04T00:00:00",
          "2023-12-05T00:00:00",
          "2023-12-06T00:00:00",
          "2023-12-07T00:00:00",
          "2023-12-08T00:00:00",
          "2023-12-09T00:00:00",
          "2023-12-10T00:00:00",
          "2023-12-11T00:00:00",
          "2023-12-12T00:00:00",
          "2023-12-13T00:00:00",
          "2023-12-14T00:00:00",
          "2023-12-15T00:00:00",
          "2023-12-16T00:00:00",
          "2023-12-17T00:00:00",
          "2023-12-18T00:00:00",
          "2023-12-19T00:00:00",
          "2023-12-20T00:00:00",
          "2023-12-21T00:00:00",
          "2023-12-22T00:00:00",
          "2023-12-23T00:00:00",
          "2023-12-24T00:00:00",
          "2023-12-25T00:00:00",
          "2023-12-26T00:00:00",
          "2023-12-27T00:00:00",
          "2023-12-28T00:00:00",
          "2023-12-29T00:00:00",
          "2023-12-30T00:00:00",
          "2023-12-31T00:00:00",
          "2024-01-01T00:00:00",
          "2024-01-02T00:00:00",
          "2024-01-03T00:00:00",
          "2024-01-04T00:00:00",
          "2024-01-05T00:00:00",
          "2024-01-06T00:00:00",
          "2024-01-07T00:00:00",
          "2024-01-08T00:00:00",
          "2024-01-09T00:00:00",
          "2024-01-10T00:00:00",
          "2024-01-11T00:00:00",
          "2024-01-12T00:00:00",
          "2024-01-13T00:00:00",
          "2024-01-14T00:00:00",
          "2024-01-15T00:00:00",
          "2024-01-16T00:00:00",
          "2024-01-17T00:00:00",
          "2024-01-18T00:00:00",
          "2024-01-19T00:00:00",
          "2024-01-20T00:00:00",
          "2024-01-21T00:00:00",
          "2024-01-22T00:00:00",
          "2024-01-23T00:00:00",
          "2024-01-24T00:00:00",
          "2024-01-25T00:00:00",
          "2024-01-26T00:00:00",
          "2024-01-27T00:00:00",
          "2024-01-28T00:00:00",
          "2024-01-29T00:00:00",
          "2024-01-30T00:00:00",
          "2024-01-31T00:00:00",
          "2024-02-01T00:00:00",
          "2024-02-02T00:00:00",
          "2024-02-03T00:00:00",
          "2024-02-04T00:00:00",
          "2024-02-05T00:00:00",
          "2024-02-06T00:00:00",
          "2024-02-07T00:00:00",
          "2024-02-08T00:00:00",
          "2024-02-09T00:00:00",
          "2024-02-10T00:00:00",
          "2024-02-11T00:00:00",
          "2024-02-12T00:00:00",
          "2024-02-13T00:00:00",
          "2024-02-14T00:00:00",
          "2024-02-15T00:00:00",
          "2024-02-16T00:00:00",
          "2024-02-17T00:00:00",
          "2024-02-18T00:00:00",
          "2024-02-19T00:00:00",
          "2024-02-20T00:00:00",
          "2024-02-21T00:00:00",
          "2024-02-22T00:00:00",
          "2024-02-23T00:00:00",
          "2024-02-24T00:00:00",
          "2024-02-25T00:00:00",
          "2024-02-26T00:00:00",
          "2024-02-27T00:00:00",
          "2024-02-28T00:00:00",
          "2024-02-29T00:00:00",
          "2024-03-01T00:00:00",
          "2024-03-02T00:00:00",
          "2024-03-03T00:00:00",
          "2024-03-04T00:00:00",
          "2024-03-05T00:00:00",
          "2024-03-06T00:00:00",
          "2024-03-07T00:00:00",
          "2024-03-08T00:00:00",
          "2024-03-09T00:00:00",
          "2024-03-10T00:00:00",
          "2024-03-11T00:00:00",
          "2024-03-12T00:00:00",
          "2024-03-13T00:00:00",
          "2024-03-14T00:00:00",
          "2024-03-15T00:00:00",
          "2024-03-16T00:00:00",
          "2024-03-17T00:00:00",
          "2024-03-18T00:00:00",
          "2024-03-19T00:00:00",
          "2024-03-20T00:00:00",
          "2024-03-21T00:00:00",
          "2024-03-22T00:00:00",
          "2024-03-23T00:00:00",
          "2024-03-24T00:00:00",
          "2024-03-25T00:00:00",
          "2024-03-26T00:00:00",
          "2024-03-27T00:00:00",
          "2024-03-28T00:00:00",
          "2024-03-29T00:00:00",
          "2024-03-30T00:00:00",
          "2024-03-31T00:00:00",
          "2024-04-01T00:00:00",
          "2024-04-02T00:00:00",
          "2024-04-03T00:00:00",
          "2024-04-04T00:00:00",
          "2024-04-05T00:00:00",
          "2024-04-06T00:00:00",
          "2024-04-07T00:00:00",
          "2024-04-08T00:00:00",
          "2024-04-09T00:00:00",
          "2024-04-10T00:00:00",
          "2024-04-11T00:00:00",
          "2024-04-12T00:00:00",
          "2024-04-13T00:00:00",
          "2024-04-14T00:00:00",
          "2024-04-15T00:00:00",
          "2024-04-16T00:00:00",
          "2024-04-17T00:00:00",
          "2024-04-18T00:00:00",
          "2024-04-19T00:00:00",
          "2024-04-20T00:00:00",
          "2024-04-21T00:00:00",
          "2024-04-22T00:00:00",
          "2024-04-23T00:00:00",
          "2024-04-24T00:00:00",
          "2024-04-25T00:00:00",
          "2024-04-26T00:00:00",
          "2024-04-27T00:00:00",
          "2024-04-28T00:00:00",
          "2024-04-29T00:00:00",
          "2024-04-30T00:00:00",
          "2024-05-01T00:00:00",
          "2024-05-02T00:00:00",
          "2024-05-03T00:00:00",
          "2024-05-04T00:00:00",
          "2024-05-05T00:00:00",
          "2024-05-06T00:00:00",
          "2024-05-07T00:00:00",
          "2024-05-08T00:00:00",
          "2024-05-09T00:00:00",
          "2024-05-10T00:00:00",
          "2024-05-11T00:00:00",
          "2024-05-12T00:00:00",
          "2024-05-13T00:00:00",
          "2024-05-14T00:00:00",
          "2024-05-15T00:00:00",
          "2024-05-16T00:00:00",
          "2024-05-17T00:00:00",
          "2024-05-18T00:00:00",
          "2024-05-19T00:00:00",
          "2024-05-20T00:00:00",
          "2024-05-21T00:00:00",
          "2024-05-22T00:00:00",
          "2024-05-23T00:00:00",
          "2024-05-24T00:00:00",
          "2024-05-25T00:00:00",
          "2024-05-26T00:00:00",
          "2024-05-27T00:00:00",
          "2024-05-28T00:00:00",
          "2024-05-29T00:00:00",
          "2024-05-30T00:00:00",
          "2024-05-31T00:00:00",
          "2024-06-01T00:00:00",
          "2024-06-02T00:00:00",
          "2024-06-03T00:00:00",
          "2024-06-04T00:00:00",
          "2024-06-05T00:00:00",
          "2024-06-06T00:00:00",
          "2024-06-07T00:00:00",
          "2024-06-08T00:00:00",
          "2024-06-09T00:00:00",
          "2024-06-10T00:00:00",
          "2024-06-11T00:00:00",
          "2024-06-12T00:00:00",
          "2024-06-13T00:00:00",
          "2024-06-14T00:00:00",
          "2024-06-15T00:00:00",
          "2024-06-16T00:00:00",
          "2024-06-17T00:00:00",
          "2024-06-18T00:00:00",
          "2024-06-19T00:00:00",
          "2024-06-20T00:00:00",
          "2024-06-21T00:00:00",
          "2024-06-22T00:00:00",
          "2024-06-23T00:00:00",
          "2024-06-24T00:00:00",
          "2024-06-25T00:00:00",
          "2024-06-26T00:00:00",
          "2024-06-27T00:00:00",
          "2024-06-28T00:00:00",
          "2024-06-29T00:00:00",
          "2024-06-30T00:00:00",
          "2024-07-01T00:00:00",
          "2024-07-02T00:00:00",
          "2024-07-03T00:00:00",
          "2024-07-04T00:00:00",
          "2024-07-05T00:00:00",
          "2024-07-06T00:00:00",
          "2024-07-07T00:00:00",
          "2024-07-08T00:00:00",
          "2024-07-09T00:00:00",
          "2024-07-10T00:00:00",
          "2024-07-11T00:00:00",
          "2024-07-12T00:00:00",
          "2024-07-13T00:00:00",
          "2024-07-14T00:00:00",
          "2024-07-15T00:00:00",
          "2024-07-16T00:00:00",
          "2024-07-17T00:00:00",
          "2024-07-18T00:00:00",
          "2024-07-19T00:00:00",
          "2024-07-20T00:00:00",
          "2024-07-21T00:00:00",
          "2024-07-22T00:00:00",
          "2024-07-23T00:00:00",
          "2024-07-24T00:00:00",
          "2024-07-25T00:00:00",
          "2024-07-26T00:00:00",
          "2024-07-27T00:00:00",
          "2024-07-28T00:00:00",
          "2024-07-29T00:00:00",
          "2024-07-30T00:00:00",
          "2024-07-31T00:00:00",
          "2024-08-01T00:00:00",
          "2024-08-02T00:00:00",
          "2024-08-03T00:00:00",
          "2024-08-04T00:00:00",
          "2024-08-05T00:00:00",
          "2024-08-06T00:00:00",
          "2024-08-07T00:00:00",
          "2024-08-08T00:00:00",
          "2024-08-09T00:00:00",
          "2024-08-10T00:00:00",
          "2024-08-11T00:00:00",
          "2024-08-12T00:00:00",
          "2024-08-13T00:00:00",
          "2024-08-14T00:00:00",
          "2024-08-15T00:00:00",
          "2024-08-16T00:00:00",
          "2024-08-17T00:00:00",
          "2024-08-18T00:00:00",
          "2024-08-19T00:00:00",
          "2024-08-20T00:00:00",
          "2024-08-21T00:00:00",
          "2024-08-22T00:00:00",
          "2024-08-23T00:00:00",
          "2024-08-24T00:00:00",
          "2024-08-25T00:00:00",
          "2024-08-26T00:00:00",
          "2024-08-27T00:00:00",
          "2024-08-28T00:00:00",
          "2024-08-29T00:00:00",
          "2024-08-30T00:00:00",
          "2024-08-31T00:00:00",
          "2024-09-01T00:00:00",
          "2024-09-02T00:00:00",
          "2024-09-03T00:00:00",
          "2024-09-04T00:00:00",
          "2024-09-05T00:00:00",
          "2024-09-06T00:00:00",
          "2024-09-07T00:00:00",
          "2024-09-08T00:00:00",
          "2024-09-09T00:00:00",
          "2024-09-10T00:00:00",
          "2024-09-11T00:00:00",
          "2024-09-12T00:00:00",
          "2024-09-13T00:00:00",
          "2024-09-14T00:00:00",
          "2024-09-15T00:00:00",
          "2024-09-16T00:00:00"
         ],
         "y": [
          null,
          0.4289970208540218,
          0.46024043814510546,
          0.4778333898333189,
          0.4793255353960669,
          0.48434360654074754,
          0.44491356751111694,
          0.41516144053774456,
          0.3928419153986301,
          0.3700866494786018,
          0.352374929704071,
          0.34080061440101633,
          0.3389754264264541,
          0.3147628959674217,
          0.29854060766483165,
          0.2820877020387209,
          0.273337445056051,
          0.25434685640377425,
          0.2478524103273851,
          0.2505913687583843,
          0.24500765278576278,
          0.2601867307691851,
          0.2636568729096553,
          0.2707871119007385,
          0.2696330467795477,
          0.26467119882648815,
          0.2669768239411766,
          0.27133082626073773,
          0.27515917505093546,
          0.28801101207304713,
          0.2786250471607664,
          0.28563186795977435,
          0.2797018784090951,
          0.2650062565706161,
          0.2488297859823808,
          0.24018198724024248,
          0.23799944755770275,
          0.23547448053301837,
          0.24023638529492317,
          0.24060909636282138,
          0.2450235822206062,
          0.2631948336735314,
          0.25139116008123996,
          0.25139116008123996,
          0.2539121684846013,
          0.2636447888054569,
          0.27659164870883857,
          0.2916952665521825,
          0.3027148025717184,
          0.3018863425327321,
          0.2962924728009313,
          0.2899295505699808,
          0.2947420505699808,
          0.29483263028012574,
          0.30158292896590827,
          0.31118114325162255,
          0.31361704068752,
          0.3167460317475455,
          0.3185107376298985,
          0.31159109477275565,
          0.30768698518371457,
          0.30702188346227477,
          0.3060539463781852,
          0.30972916005339896,
          0.31216818444364286,
          0.3207660680415264,
          0.33146310047768934,
          0.3400996458595366,
          0.3457706415305323,
          0.34922162192268913,
          0.3528541005551677,
          0.35544553211211655,
          0.3733467666800178,
          0.3886801000133511,
          0.3989296543805525,
          0.39827697372787185,
          0.38783011382449023,
          0.38305557801547163,
          0.3776709626308563,
          0.38346546681245725,
          0.4021290163935989,
          0.4003048041216254,
          0.3959645263438476,
          0.40713876876809,
          0.41137157300089433,
          0.4085286447848318,
          0.41347488134397153,
          0.4134085683466241,
          0.4193288719519372,
          0.42372156063118244,
          0.4159590035535568,
          0.41000662260117593,
          0.4209617882931837,
          0.431982196456449,
          0.45009111727168455,
          0.44935037653094384,
          0.45731486275629957,
          0.4463900660083321,
          0.43992541954368564,
          0.4427132983315644,
          0.44434165082198596,
          0.42740813657503884,
          0.41665544840299584,
          0.4119281756757231,
          0.40877666052420797,
          0.4137583455058929,
          0.419571102707539,
          0.4206649106422813,
          0.42480632478369545,
          0.41683589467616855,
          0.414075868743039,
          0.41592772059489086,
          0.4119653022942373,
          0.4034299487588837,
          0.40184264717158213,
          0.4150912191266217,
          0.4134783159008153,
          0.4132718839147223,
          0.39522272876879294,
          0.38905920675621436,
          0.40118041887742645,
          0.41569289053275527,
          0.40902622386608856,
          0.40827036596737354,
          0.3972462302857036,
          0.3824446429841163,
          0.36124344178291506,
          0.3743774997539296,
          0.38530028694790325,
          0.3872141625459894,
          0.3883635878333457,
          0.39847094578045233,
          0.4101008269349514,
          0.4058439726780972,
          0.40495508378920825,
          0.40375207627041126,
          0.39946945089550717,
          0.3977370733566781,
          0.3955004211200258,
          0.3866627018217802,
          0.3797517407160264,
          0.38925254586900543,
          0.3918260752807701,
          0.38623176003529214,
          0.3738028891158552,
          0.3614572101035095,
          0.3400286386749381,
          0.3353205407465012,
          0.3560165114424719,
          0.3683242037501641,
          0.3739519093778698,
          0.3719574752405785,
          0.37497211779010475,
          0.365183758001745,
          0.36677105958904654,
          0.3876043929223799,
          0.40132419968566496,
          0.40418590442651486,
          0.40256016938673617,
          0.4014038695462258,
          0.412514980657337,
          0.3914623490783896,
          0.3905851560959335,
          0.39625780767022434,
          0.40459114100355775,
          0.41188938661759283,
          0.4183807967409642,
          0.42347338933355677,
          0.42638344224360974,
          0.4401169948751887,
          0.4550808751641463,
          0.45580551284530574,
          0.4602824631999157,
          0.45341646098507626,
          0.4740260400852214,
          0.4727914721839868,
          0.4807279801204948,
          0.48240225713723756,
          0.4706348578698382,
          0.45428344971515144,
          0.4551619829466258,
          0.46359632638096926,
          0.46091838416814335,
          0.4756802889300481,
          0.4698722081219673,
          0.46085753306955635,
          0.44800192383713555,
          0.44817679604590605,
          0.4435581064648105,
          0.44919783710454114,
          0.4396740275807316,
          0.4520923282343263,
          0.44846913982852926,
          0.4506549321782561,
          0.4437891040860128,
          0.4352762835731923,
          0.43618331305165037,
          0.436295925664263,
          0.43021126957960687,
          0.42775591243674976,
          0.41736719554648494,
          0.40484545641605013,
          0.40500560283563375,
          0.4175276486910129,
          0.40484958601295024,
          0.4035085898443679,
          0.41091599725177524,
          0.4140726381094286,
          0.41757792911471964,
          0.42593537045191027,
          0.41711184104014554,
          0.40072295215125664,
          0.4059418073701118,
          0.3992912827534856,
          0.40756849936403555,
          0.40872876828617827,
          0.4206423485330918,
          0.3957217136124569,
          0.3910433510393575,
          0.3878026102986167,
          0.38127703710637684,
          0.3876993161629271,
          0.3886909256213557,
          0.39323327534813163,
          0.4034616765397901,
          0.4031411637192772,
          0.39163973254571494,
          0.3940597996716644,
          0.4003623206800678,
          0.4069675434143227,
          0.41121590942739455,
          0.4082415504530356,
          0.4119377870121754,
          0.40298716972822485,
          0.40669087343192856,
          0.40510789299232375,
          0.41547826336269417,
          0.40578623437718686,
          0.40843173702268953,
          0.4062075637712994,
          0.4117882575872874,
          0.4159549242539541,
          0.40358455388358366,
          0.39737793564306706,
          0.38771925735693785,
          0.38302886061982255,
          0.37924098183194377,
          0.4023735119524257,
          0.40112155577089204,
          0.40275199055350075,
          0.40769026215843895,
          0.4072404870459952,
          0.4072404870459952,
          0.40044017258058645,
          0.3905220439256157,
          0.39468871059228233,
          0.40590852374229114,
          0.3988360430087042,
          0.40047002993680875,
          0.3991558124935591,
          0.3936002569380035,
          0.4066626662268279,
          0.3945793328934945,
          0.3929126662268278,
          0.38590783530895345,
          0.39438736747269615,
          0.37676831985364856,
          0.3927405420758708,
          0.3860494553847841,
          0.3879342621203371,
          0.3792163134023883,
          0.3826885356246105,
          0.36913298006905504,
          0.37437107530715025,
          0.3834124696426623,
          0.37953215173709887,
          0.3808200305249777,
          0.38069403635220816,
          0.378107608695358,
          0.37332060825618363,
          0.3683206082561836,
          0.3730067267354055,
          0.375952771091579,
          0.37511419666809886,
          0.3735247428074586,
          0.3620868343107266,
          0.3488763888422166,
          0.3409161898372414,
          0.3503364796923139,
          0.3528549982108325,
          0.35684805376638806,
          0.3537804116151879,
          0.3533637449485213,
          0.360422568477933,
          0.36252543861149367,
          0.3674803935664486,
          0.3765653608867101,
          0.37165083097218016,
          0.3692149335362827,
          0.36387305319440244,
          0.3749841643055135,
          0.36595638652773577,
          0.3900304606018098,
          0.391534220000306,
          0.39220762067370674,
          0.4065859578209226,
          0.4119721366827112,
          0.39801321978261783,
          0.4007404925098905,
          0.4133811851505832,
          0.4206539124233105,
          0.41394062571002377,
          0.4114331778450783,
          0.4077294741413747,
          0.4138903565734436,
          0.42741159840350895,
          0.44520608461904776,
          0.4650259044388676,
          0.45282783680601735,
          0.44429953491922486,
          0.4430318462399796,
          0.42951143807671427,
          0.43784477141004763,
          0.43824357499927996,
          0.4401774992539133,
          0.42798983989644257,
          0.42043265035395894,
          0.42157733899864763,
          0.4278273389986476,
          0.4253853365566451,
          0.41837678954809815,
          0.4201444663157749,
          0.4093182554895641,
          0.41526791224013615,
          0.41632081414049565,
          0.40614537554400443,
          0.39583495425797344,
          0.4043514377744569,
          0.4089713208153926,
          0.3901617970058688,
          0.3835031048208608,
          0.38473206104981705,
          0.37859171017262405,
          0.40007319165410554,
          0.4014007529816669,
          0.39202575298166686,
          0.38219514197138255,
          0.3762642110404516,
          0.376661036437277,
          0.3616060049907361,
          0.32184360107738885,
          0.33202878626257404,
          0.33323492661345117,
          0.33256092522580133,
          0.336362295088815,
          0.3401227772691085,
          0.351928332824664,
          0.34776166615799736,
          0.36651166615799735,
          0.3760354756818069,
          0.3789917351086546,
          0.3827796138965333,
          0.3870531181700377,
          0.37781398773525504,
          0.3747913888651985,
          0.3766961507699605,
          0.3756018746756843,
          0.3885139625877722,
          0.39096725027854384,
          0.399117433428727,
          0.39308673167434105,
          0.3897798533674628,
          0.39954175812936754,
          0.38639360998121935,
          0.38578754937515874,
          0.39641254937515874,
          0.40273438845561854,
          0.3986494211353571,
          0.4010303735163095,
          0.4249274323398389,
          0.46503775542888537,
          0.4611025702437002,
          0.4579056891520823,
          0.46067161297063763,
          0.46400494630397104,
          0.4174771685261932,
          0.4212406093864083,
          0.42490361304941193,
          0.40529576991215704,
          0.4055814841978714,
          0.41102266066845955,
          0.3988004384462373,
          0.39239018203598086,
          0.387033039178838,
          0.3920330391788381,
          0.3945936860791076,
          0.40518537532933346,
          0.38743645758041567,
          0.37512519161061314,
          0.3638004052858268,
          0.3602531079885295,
          0.3639854117208332,
          0.3490647768001983,
          0.3526573693927909,
          0.3470881638235853,
          0.35089768763310913,
          0.34332193005735157,
          0.3501846751553908,
          0.34601800848872416,
          0.3384719597662048,
          0.34701483533035693,
          0.3593623963059667,
          0.35788091482448525,
          0.35192110886467926,
          0.3533099977535682,
          0.4077815424690153,
          0.40375355134425,
          0.4061752037659024,
          0.4141888440046066,
          0.39902217733794,
          0.3948555106712733,
          0.4034191963081296,
          0.41595887884781224,
          0.42232953521846855,
          0.4141477170366504,
          0.41371739595091717,
          0.4040516326266173,
          0.4188243598993446,
          0.43693827213090386,
          0.45177055724620785,
          0.4730678545435051,
          0.4764784079540585,
          0.49730380477945535,
          0.49701809049374107,
          0.5066277001033507,
          0.5015681762938269,
          0.5056555617765611,
          0.4944152516990418,
          0.49770472538325233,
          0.5155106920264283,
          0.49903341929915557,
          0.5040469694346569,
          0.5231684164630807,
          0.533899660527658,
          0.5276194672909431,
          0.5244299738575473,
          0.5226945241220975,
          0.5245463759739494,
          0.5194739122058334,
          0.5406405788725,
          0.5407920940240152,
          0.5440232801820307,
          0.543575100910322,
          0.5528686049406681,
          0.5623324744045376,
          0.5585537969416495,
          0.5594797228675754,
          0.5596340438552297,
          0.5587708054781181,
          0.5596792611035547,
          0.5500936755179692,
          0.5353317707560644,
          0.5215881810124746,
          0.5115149209392146,
          0.5004038098281034,
          0.4902559603657378,
          0.49721655468098336,
          0.5116100179116558,
          0.5187372108941121,
          0.49916356748325924,
          0.5059216975645601,
          0.4876677293105919,
          0.47147025889035526,
          0.4671492712360343,
          0.45984921755916897,
          0.441900499610451,
          0.4577893884993399,
          0.4602338329437844,
          0.4620856847956362,
          0.4566105074906717,
          0.46060792850936927,
          0.46390884215511047,
          0.4653094023792001,
          0.46842831076126645,
          0.4761938785268342,
          0.47574138983905134,
          0.4772119780743455,
          0.47434026578234334,
          0.45151467903590986,
          0.44410727162850244,
          0.439692857214088,
          0.44907557326347075,
          0.45977154395944136,
          0.4600995105664778,
          0.4597026851696524,
          0.46166964032307495,
          0.46274287264630726,
          0.4595897194931541,
          0.4588952750487097,
          0.46357007179667714,
          0.4687437598971945,
          0.46774708215633065,
          0.4670453277703658,
          0.464267549992588,
          0.4530614721198435,
          0.4723597177338785,
          0.4546246749988358,
          0.44292097129513214,
          0.4463322773380171,
          0.43881980032199397,
          0.4333072277881449,
          0.4071003312364207,
          0.40017392431001386,
          0.40123212536821484,
          0.39635117298726247,
          0.4001526935955058,
          0.39764043869354493,
          0.4009530680931309,
          0.4142660762232122,
          0.42708658904372504,
          0.4324199223770584,
          0.43009602985708745,
          0.43210661186766947,
          0.4433171067990946,
          0.43445467293666074,
          0.4368485302085668,
          0.42316329071687575,
          0.4179549573835424,
          0.40936909879768374,
          0.4148794872349014,
          0.4102393357197499,
          0.4308788706034709,
          0.43183125155585184,
          0.4346090293336296,
          0.44929434401894425,
          0.45221832062713146,
          0.453812222221033,
          0.45890481481362566,
          0.4436416569188888,
          0.44981449642506166,
          0.45932628093684613,
          0.4951596142701795,
          0.5002797814593122,
          0.4899623211418519,
          0.47773113834615294,
          0.49005162209520814,
          0.4869266220952081,
          0.48081336598195196,
          0.46831336598195195,
          0.4640787117472978,
          0.4604570901256761,
          0.46211621531421304,
          0.47248658568458346,
          0.47530709850509634,
          0.49123302443102224,
          0.4927999759979738,
          0.49788570689015627,
          0.5086495957790452,
          0.5086884458178952,
          0.5106827478121972,
          0.5183532023576517,
          0.49926405507083005,
          0.4946557601399545,
          0.49882242680662114,
          0.5011156290998234,
          0.4930348210190153,
          0.49737040660460097,
          0.4891187726176728,
          0.4935632170621173,
          0.47883257733147755,
          0.4670879379552592,
          0.451115715733037,
          0.4453326697560255,
          0.4532274065981307,
          0.44752380678513404,
          0.4282645475258748,
          0.4396534364147637,
          0.4477615445228718,
          0.4614367581980855,
          0.4658138625751898,
          0.4791021508634781,
          0.44943182119314845,
          0.42109848785981513,
          0.40066370525111944,
          0.3909319044848359,
          0.3962601459832902,
          0.4080065077296519,
          0.419117618840763,
          0.4285193282424725,
          0.419117618840763,
          0.40650764816627627,
          0.423096795453098,
          0.4315146141934973,
          0.4212873414662246,
          0.4202062603851436,
          0.41939817957706277,
          0.4239815129103961,
          0.4204838976480749,
          0.42113749241931675,
          0.43983023378647673,
          0.44660854319636506,
          0.4485656139034358,
          0.43710728057010245,
          0.41684695233014774,
          0.43617062382773225,
          0.4399206238277323,
          0.4424206238277323,
          0.43414871555582396,
          0.4185127175668848,
          0.3986053101594774,
          0.38733080035555584,
          0.4099498479746035,
          0.4195331813079368,
          0.4378467517954203,
          0.4488483938315451,
          0.45840200250905866,
          0.45309064719770337,
          0.43439146020583347,
          0.431106203795577,
          0.4337205828805443,
          0.4476409548654325,
          0.43949280671728436,
          0.4174759999945952,
          0.42353660605520127,
          0.4196372349860189
         ]
        },
        {
         "line": {
          "color": "forestgreen",
          "dash": "dash"
         },
         "mode": "lines",
         "showlegend": false,
         "type": "scatter",
         "x": [
          "2023-01-01",
          "2024-09-16"
         ],
         "y": [
          0.4131019310681985,
          0.4131019310681985
         ]
        },
        {
         "line": {
          "color": "cornflowerblue"
         },
         "mode": "lines",
         "name": "Social",
         "type": "scatter",
         "x": [
          "2023-01-01T00:00:00",
          "2023-01-02T00:00:00",
          "2023-01-03T00:00:00",
          "2023-01-04T00:00:00",
          "2023-01-05T00:00:00",
          "2023-01-06T00:00:00",
          "2023-01-07T00:00:00",
          "2023-01-08T00:00:00",
          "2023-01-09T00:00:00",
          "2023-01-10T00:00:00",
          "2023-01-11T00:00:00",
          "2023-01-12T00:00:00",
          "2023-01-13T00:00:00",
          "2023-01-14T00:00:00",
          "2023-01-15T00:00:00",
          "2023-01-16T00:00:00",
          "2023-01-17T00:00:00",
          "2023-01-18T00:00:00",
          "2023-01-19T00:00:00",
          "2023-01-20T00:00:00",
          "2023-01-21T00:00:00",
          "2023-01-22T00:00:00",
          "2023-01-23T00:00:00",
          "2023-01-24T00:00:00",
          "2023-01-25T00:00:00",
          "2023-01-26T00:00:00",
          "2023-01-27T00:00:00",
          "2023-01-28T00:00:00",
          "2023-01-29T00:00:00",
          "2023-01-30T00:00:00",
          "2023-01-31T00:00:00",
          "2023-02-01T00:00:00",
          "2023-02-02T00:00:00",
          "2023-02-03T00:00:00",
          "2023-02-04T00:00:00",
          "2023-02-05T00:00:00",
          "2023-02-06T00:00:00",
          "2023-02-07T00:00:00",
          "2023-02-08T00:00:00",
          "2023-02-09T00:00:00",
          "2023-02-10T00:00:00",
          "2023-02-11T00:00:00",
          "2023-02-12T00:00:00",
          "2023-02-13T00:00:00",
          "2023-02-14T00:00:00",
          "2023-02-15T00:00:00",
          "2023-02-16T00:00:00",
          "2023-02-17T00:00:00",
          "2023-02-18T00:00:00",
          "2023-02-19T00:00:00",
          "2023-02-20T00:00:00",
          "2023-02-21T00:00:00",
          "2023-02-22T00:00:00",
          "2023-02-23T00:00:00",
          "2023-02-24T00:00:00",
          "2023-02-25T00:00:00",
          "2023-02-26T00:00:00",
          "2023-02-27T00:00:00",
          "2023-02-28T00:00:00",
          "2023-03-01T00:00:00",
          "2023-03-02T00:00:00",
          "2023-03-03T00:00:00",
          "2023-03-04T00:00:00",
          "2023-03-05T00:00:00",
          "2023-03-06T00:00:00",
          "2023-03-07T00:00:00",
          "2023-03-08T00:00:00",
          "2023-03-09T00:00:00",
          "2023-03-10T00:00:00",
          "2023-03-11T00:00:00",
          "2023-03-12T00:00:00",
          "2023-03-13T00:00:00",
          "2023-03-14T00:00:00",
          "2023-03-15T00:00:00",
          "2023-03-16T00:00:00",
          "2023-03-17T00:00:00",
          "2023-03-18T00:00:00",
          "2023-03-19T00:00:00",
          "2023-03-20T00:00:00",
          "2023-03-21T00:00:00",
          "2023-03-22T00:00:00",
          "2023-03-23T00:00:00",
          "2023-03-24T00:00:00",
          "2023-03-25T00:00:00",
          "2023-03-26T00:00:00",
          "2023-03-27T00:00:00",
          "2023-03-28T00:00:00",
          "2023-03-29T00:00:00",
          "2023-03-30T00:00:00",
          "2023-03-31T00:00:00",
          "2023-04-01T00:00:00",
          "2023-04-02T00:00:00",
          "2023-04-03T00:00:00",
          "2023-04-04T00:00:00",
          "2023-04-05T00:00:00",
          "2023-04-06T00:00:00",
          "2023-04-07T00:00:00",
          "2023-04-08T00:00:00",
          "2023-04-09T00:00:00",
          "2023-04-10T00:00:00",
          "2023-04-11T00:00:00",
          "2023-04-12T00:00:00",
          "2023-04-13T00:00:00",
          "2023-04-14T00:00:00",
          "2023-04-15T00:00:00",
          "2023-04-16T00:00:00",
          "2023-04-17T00:00:00",
          "2023-04-18T00:00:00",
          "2023-04-19T00:00:00",
          "2023-04-20T00:00:00",
          "2023-04-21T00:00:00",
          "2023-04-22T00:00:00",
          "2023-04-23T00:00:00",
          "2023-04-24T00:00:00",
          "2023-04-25T00:00:00",
          "2023-04-26T00:00:00",
          "2023-04-27T00:00:00",
          "2023-04-28T00:00:00",
          "2023-04-29T00:00:00",
          "2023-04-30T00:00:00",
          "2023-05-01T00:00:00",
          "2023-05-02T00:00:00",
          "2023-05-03T00:00:00",
          "2023-05-04T00:00:00",
          "2023-05-05T00:00:00",
          "2023-05-06T00:00:00",
          "2023-05-07T00:00:00",
          "2023-05-08T00:00:00",
          "2023-05-09T00:00:00",
          "2023-05-10T00:00:00",
          "2023-05-11T00:00:00",
          "2023-05-12T00:00:00",
          "2023-05-13T00:00:00",
          "2023-05-14T00:00:00",
          "2023-05-15T00:00:00",
          "2023-05-16T00:00:00",
          "2023-05-17T00:00:00",
          "2023-05-18T00:00:00",
          "2023-05-19T00:00:00",
          "2023-05-20T00:00:00",
          "2023-05-21T00:00:00",
          "2023-05-22T00:00:00",
          "2023-05-23T00:00:00",
          "2023-05-24T00:00:00",
          "2023-05-25T00:00:00",
          "2023-05-26T00:00:00",
          "2023-05-27T00:00:00",
          "2023-05-28T00:00:00",
          "2023-05-29T00:00:00",
          "2023-05-30T00:00:00",
          "2023-05-31T00:00:00",
          "2023-06-01T00:00:00",
          "2023-06-02T00:00:00",
          "2023-06-03T00:00:00",
          "2023-06-04T00:00:00",
          "2023-06-05T00:00:00",
          "2023-06-06T00:00:00",
          "2023-06-07T00:00:00",
          "2023-06-08T00:00:00",
          "2023-06-09T00:00:00",
          "2023-06-10T00:00:00",
          "2023-06-11T00:00:00",
          "2023-06-12T00:00:00",
          "2023-06-13T00:00:00",
          "2023-06-14T00:00:00",
          "2023-06-15T00:00:00",
          "2023-06-16T00:00:00",
          "2023-06-17T00:00:00",
          "2023-06-18T00:00:00",
          "2023-06-19T00:00:00",
          "2023-06-20T00:00:00",
          "2023-06-21T00:00:00",
          "2023-06-22T00:00:00",
          "2023-06-23T00:00:00",
          "2023-06-24T00:00:00",
          "2023-06-25T00:00:00",
          "2023-06-26T00:00:00",
          "2023-06-27T00:00:00",
          "2023-06-28T00:00:00",
          "2023-06-29T00:00:00",
          "2023-06-30T00:00:00",
          "2023-07-01T00:00:00",
          "2023-07-02T00:00:00",
          "2023-07-03T00:00:00",
          "2023-07-04T00:00:00",
          "2023-07-05T00:00:00",
          "2023-07-06T00:00:00",
          "2023-07-07T00:00:00",
          "2023-07-08T00:00:00",
          "2023-07-09T00:00:00",
          "2023-07-10T00:00:00",
          "2023-07-11T00:00:00",
          "2023-07-12T00:00:00",
          "2023-07-13T00:00:00",
          "2023-07-14T00:00:00",
          "2023-07-15T00:00:00",
          "2023-07-16T00:00:00",
          "2023-07-17T00:00:00",
          "2023-07-18T00:00:00",
          "2023-07-19T00:00:00",
          "2023-07-20T00:00:00",
          "2023-07-21T00:00:00",
          "2023-07-22T00:00:00",
          "2023-07-23T00:00:00",
          "2023-07-24T00:00:00",
          "2023-07-25T00:00:00",
          "2023-07-26T00:00:00",
          "2023-07-27T00:00:00",
          "2023-07-28T00:00:00",
          "2023-07-29T00:00:00",
          "2023-07-30T00:00:00",
          "2023-07-31T00:00:00",
          "2023-08-01T00:00:00",
          "2023-08-02T00:00:00",
          "2023-08-03T00:00:00",
          "2023-08-04T00:00:00",
          "2023-08-05T00:00:00",
          "2023-08-06T00:00:00",
          "2023-08-07T00:00:00",
          "2023-08-08T00:00:00",
          "2023-08-09T00:00:00",
          "2023-08-10T00:00:00",
          "2023-08-11T00:00:00",
          "2023-08-12T00:00:00",
          "2023-08-13T00:00:00",
          "2023-08-14T00:00:00",
          "2023-08-15T00:00:00",
          "2023-08-16T00:00:00",
          "2023-08-17T00:00:00",
          "2023-08-18T00:00:00",
          "2023-08-19T00:00:00",
          "2023-08-20T00:00:00",
          "2023-08-21T00:00:00",
          "2023-08-22T00:00:00",
          "2023-08-23T00:00:00",
          "2023-08-24T00:00:00",
          "2023-08-25T00:00:00",
          "2023-08-26T00:00:00",
          "2023-08-27T00:00:00",
          "2023-08-28T00:00:00",
          "2023-08-29T00:00:00",
          "2023-08-30T00:00:00",
          "2023-08-31T00:00:00",
          "2023-09-01T00:00:00",
          "2023-09-02T00:00:00",
          "2023-09-03T00:00:00",
          "2023-09-04T00:00:00",
          "2023-09-05T00:00:00",
          "2023-09-06T00:00:00",
          "2023-09-07T00:00:00",
          "2023-09-08T00:00:00",
          "2023-09-09T00:00:00",
          "2023-09-10T00:00:00",
          "2023-09-11T00:00:00",
          "2023-09-12T00:00:00",
          "2023-09-13T00:00:00",
          "2023-09-14T00:00:00",
          "2023-09-15T00:00:00",
          "2023-09-16T00:00:00",
          "2023-09-17T00:00:00",
          "2023-09-18T00:00:00",
          "2023-09-19T00:00:00",
          "2023-09-20T00:00:00",
          "2023-09-21T00:00:00",
          "2023-09-22T00:00:00",
          "2023-09-23T00:00:00",
          "2023-09-24T00:00:00",
          "2023-09-25T00:00:00",
          "2023-09-26T00:00:00",
          "2023-09-27T00:00:00",
          "2023-09-28T00:00:00",
          "2023-09-29T00:00:00",
          "2023-09-30T00:00:00",
          "2023-10-01T00:00:00",
          "2023-10-02T00:00:00",
          "2023-10-03T00:00:00",
          "2023-10-04T00:00:00",
          "2023-10-05T00:00:00",
          "2023-10-06T00:00:00",
          "2023-10-07T00:00:00",
          "2023-10-08T00:00:00",
          "2023-10-09T00:00:00",
          "2023-10-10T00:00:00",
          "2023-10-11T00:00:00",
          "2023-10-12T00:00:00",
          "2023-10-13T00:00:00",
          "2023-10-14T00:00:00",
          "2023-10-15T00:00:00",
          "2023-10-16T00:00:00",
          "2023-10-17T00:00:00",
          "2023-10-18T00:00:00",
          "2023-10-19T00:00:00",
          "2023-10-20T00:00:00",
          "2023-10-21T00:00:00",
          "2023-10-22T00:00:00",
          "2023-10-23T00:00:00",
          "2023-10-24T00:00:00",
          "2023-10-25T00:00:00",
          "2023-10-26T00:00:00",
          "2023-10-27T00:00:00",
          "2023-10-28T00:00:00",
          "2023-10-29T00:00:00",
          "2023-10-30T00:00:00",
          "2023-10-31T00:00:00",
          "2023-11-01T00:00:00",
          "2023-11-02T00:00:00",
          "2023-11-03T00:00:00",
          "2023-11-04T00:00:00",
          "2023-11-05T00:00:00",
          "2023-11-06T00:00:00",
          "2023-11-07T00:00:00",
          "2023-11-08T00:00:00",
          "2023-11-09T00:00:00",
          "2023-11-10T00:00:00",
          "2023-11-11T00:00:00",
          "2023-11-12T00:00:00",
          "2023-11-13T00:00:00",
          "2023-11-14T00:00:00",
          "2023-11-15T00:00:00",
          "2023-11-16T00:00:00",
          "2023-11-17T00:00:00",
          "2023-11-18T00:00:00",
          "2023-11-19T00:00:00",
          "2023-11-20T00:00:00",
          "2023-11-21T00:00:00",
          "2023-11-22T00:00:00",
          "2023-11-23T00:00:00",
          "2023-11-24T00:00:00",
          "2023-11-25T00:00:00",
          "2023-11-26T00:00:00",
          "2023-11-27T00:00:00",
          "2023-11-28T00:00:00",
          "2023-11-29T00:00:00",
          "2023-11-30T00:00:00",
          "2023-12-01T00:00:00",
          "2023-12-02T00:00:00",
          "2023-12-03T00:00:00",
          "2023-12-04T00:00:00",
          "2023-12-05T00:00:00",
          "2023-12-06T00:00:00",
          "2023-12-07T00:00:00",
          "2023-12-08T00:00:00",
          "2023-12-09T00:00:00",
          "2023-12-10T00:00:00",
          "2023-12-11T00:00:00",
          "2023-12-12T00:00:00",
          "2023-12-13T00:00:00",
          "2023-12-14T00:00:00",
          "2023-12-15T00:00:00",
          "2023-12-16T00:00:00",
          "2023-12-17T00:00:00",
          "2023-12-18T00:00:00",
          "2023-12-19T00:00:00",
          "2023-12-20T00:00:00",
          "2023-12-21T00:00:00",
          "2023-12-22T00:00:00",
          "2023-12-23T00:00:00",
          "2023-12-24T00:00:00",
          "2023-12-25T00:00:00",
          "2023-12-26T00:00:00",
          "2023-12-27T00:00:00",
          "2023-12-28T00:00:00",
          "2023-12-29T00:00:00",
          "2023-12-30T00:00:00",
          "2023-12-31T00:00:00",
          "2024-01-01T00:00:00",
          "2024-01-02T00:00:00",
          "2024-01-03T00:00:00",
          "2024-01-04T00:00:00",
          "2024-01-05T00:00:00",
          "2024-01-06T00:00:00",
          "2024-01-07T00:00:00",
          "2024-01-08T00:00:00",
          "2024-01-09T00:00:00",
          "2024-01-10T00:00:00",
          "2024-01-11T00:00:00",
          "2024-01-12T00:00:00",
          "2024-01-13T00:00:00",
          "2024-01-14T00:00:00",
          "2024-01-15T00:00:00",
          "2024-01-16T00:00:00",
          "2024-01-17T00:00:00",
          "2024-01-18T00:00:00",
          "2024-01-19T00:00:00",
          "2024-01-20T00:00:00",
          "2024-01-21T00:00:00",
          "2024-01-22T00:00:00",
          "2024-01-23T00:00:00",
          "2024-01-24T00:00:00",
          "2024-01-25T00:00:00",
          "2024-01-26T00:00:00",
          "2024-01-27T00:00:00",
          "2024-01-28T00:00:00",
          "2024-01-29T00:00:00",
          "2024-01-30T00:00:00",
          "2024-01-31T00:00:00",
          "2024-02-01T00:00:00",
          "2024-02-02T00:00:00",
          "2024-02-03T00:00:00",
          "2024-02-04T00:00:00",
          "2024-02-05T00:00:00",
          "2024-02-06T00:00:00",
          "2024-02-07T00:00:00",
          "2024-02-08T00:00:00",
          "2024-02-09T00:00:00",
          "2024-02-10T00:00:00",
          "2024-02-11T00:00:00",
          "2024-02-12T00:00:00",
          "2024-02-13T00:00:00",
          "2024-02-14T00:00:00",
          "2024-02-15T00:00:00",
          "2024-02-16T00:00:00",
          "2024-02-17T00:00:00",
          "2024-02-18T00:00:00",
          "2024-02-19T00:00:00",
          "2024-02-20T00:00:00",
          "2024-02-21T00:00:00",
          "2024-02-22T00:00:00",
          "2024-02-23T00:00:00",
          "2024-02-24T00:00:00",
          "2024-02-25T00:00:00",
          "2024-02-26T00:00:00",
          "2024-02-27T00:00:00",
          "2024-02-28T00:00:00",
          "2024-02-29T00:00:00",
          "2024-03-01T00:00:00",
          "2024-03-02T00:00:00",
          "2024-03-03T00:00:00",
          "2024-03-04T00:00:00",
          "2024-03-05T00:00:00",
          "2024-03-06T00:00:00",
          "2024-03-07T00:00:00",
          "2024-03-08T00:00:00",
          "2024-03-09T00:00:00",
          "2024-03-10T00:00:00",
          "2024-03-11T00:00:00",
          "2024-03-12T00:00:00",
          "2024-03-13T00:00:00",
          "2024-03-14T00:00:00",
          "2024-03-15T00:00:00",
          "2024-03-16T00:00:00",
          "2024-03-17T00:00:00",
          "2024-03-18T00:00:00",
          "2024-03-19T00:00:00",
          "2024-03-20T00:00:00",
          "2024-03-21T00:00:00",
          "2024-03-22T00:00:00",
          "2024-03-23T00:00:00",
          "2024-03-24T00:00:00",
          "2024-03-25T00:00:00",
          "2024-03-26T00:00:00",
          "2024-03-27T00:00:00",
          "2024-03-28T00:00:00",
          "2024-03-29T00:00:00",
          "2024-03-30T00:00:00",
          "2024-03-31T00:00:00",
          "2024-04-01T00:00:00",
          "2024-04-02T00:00:00",
          "2024-04-03T00:00:00",
          "2024-04-04T00:00:00",
          "2024-04-05T00:00:00",
          "2024-04-06T00:00:00",
          "2024-04-07T00:00:00",
          "2024-04-08T00:00:00",
          "2024-04-09T00:00:00",
          "2024-04-10T00:00:00",
          "2024-04-11T00:00:00",
          "2024-04-12T00:00:00",
          "2024-04-13T00:00:00",
          "2024-04-14T00:00:00",
          "2024-04-15T00:00:00",
          "2024-04-16T00:00:00",
          "2024-04-17T00:00:00",
          "2024-04-18T00:00:00",
          "2024-04-19T00:00:00",
          "2024-04-20T00:00:00",
          "2024-04-21T00:00:00",
          "2024-04-22T00:00:00",
          "2024-04-23T00:00:00",
          "2024-04-24T00:00:00",
          "2024-04-25T00:00:00",
          "2024-04-26T00:00:00",
          "2024-04-27T00:00:00",
          "2024-04-28T00:00:00",
          "2024-04-29T00:00:00",
          "2024-04-30T00:00:00",
          "2024-05-01T00:00:00",
          "2024-05-02T00:00:00",
          "2024-05-03T00:00:00",
          "2024-05-04T00:00:00",
          "2024-05-05T00:00:00",
          "2024-05-06T00:00:00",
          "2024-05-07T00:00:00",
          "2024-05-08T00:00:00",
          "2024-05-09T00:00:00",
          "2024-05-10T00:00:00",
          "2024-05-11T00:00:00",
          "2024-05-12T00:00:00",
          "2024-05-13T00:00:00",
          "2024-05-14T00:00:00",
          "2024-05-15T00:00:00",
          "2024-05-16T00:00:00",
          "2024-05-17T00:00:00",
          "2024-05-18T00:00:00",
          "2024-05-19T00:00:00",
          "2024-05-20T00:00:00",
          "2024-05-21T00:00:00",
          "2024-05-22T00:00:00",
          "2024-05-23T00:00:00",
          "2024-05-24T00:00:00",
          "2024-05-25T00:00:00",
          "2024-05-26T00:00:00",
          "2024-05-27T00:00:00",
          "2024-05-28T00:00:00",
          "2024-05-29T00:00:00",
          "2024-05-30T00:00:00",
          "2024-05-31T00:00:00",
          "2024-06-01T00:00:00",
          "2024-06-02T00:00:00",
          "2024-06-03T00:00:00",
          "2024-06-04T00:00:00",
          "2024-06-05T00:00:00",
          "2024-06-06T00:00:00",
          "2024-06-07T00:00:00",
          "2024-06-08T00:00:00",
          "2024-06-09T00:00:00",
          "2024-06-10T00:00:00",
          "2024-06-11T00:00:00",
          "2024-06-12T00:00:00",
          "2024-06-13T00:00:00",
          "2024-06-14T00:00:00",
          "2024-06-15T00:00:00",
          "2024-06-16T00:00:00",
          "2024-06-17T00:00:00",
          "2024-06-18T00:00:00",
          "2024-06-19T00:00:00",
          "2024-06-20T00:00:00",
          "2024-06-21T00:00:00",
          "2024-06-22T00:00:00",
          "2024-06-23T00:00:00",
          "2024-06-24T00:00:00",
          "2024-06-25T00:00:00",
          "2024-06-26T00:00:00",
          "2024-06-27T00:00:00",
          "2024-06-28T00:00:00",
          "2024-06-29T00:00:00",
          "2024-06-30T00:00:00",
          "2024-07-01T00:00:00",
          "2024-07-02T00:00:00",
          "2024-07-03T00:00:00",
          "2024-07-04T00:00:00",
          "2024-07-05T00:00:00",
          "2024-07-06T00:00:00",
          "2024-07-07T00:00:00",
          "2024-07-08T00:00:00",
          "2024-07-09T00:00:00",
          "2024-07-10T00:00:00",
          "2024-07-11T00:00:00",
          "2024-07-12T00:00:00",
          "2024-07-13T00:00:00",
          "2024-07-14T00:00:00",
          "2024-07-15T00:00:00",
          "2024-07-16T00:00:00",
          "2024-07-17T00:00:00",
          "2024-07-18T00:00:00",
          "2024-07-19T00:00:00",
          "2024-07-20T00:00:00",
          "2024-07-21T00:00:00",
          "2024-07-22T00:00:00",
          "2024-07-23T00:00:00",
          "2024-07-24T00:00:00",
          "2024-07-25T00:00:00",
          "2024-07-26T00:00:00",
          "2024-07-27T00:00:00",
          "2024-07-28T00:00:00",
          "2024-07-29T00:00:00",
          "2024-07-30T00:00:00",
          "2024-07-31T00:00:00",
          "2024-08-01T00:00:00",
          "2024-08-02T00:00:00",
          "2024-08-03T00:00:00",
          "2024-08-04T00:00:00",
          "2024-08-05T00:00:00",
          "2024-08-06T00:00:00",
          "2024-08-07T00:00:00",
          "2024-08-08T00:00:00",
          "2024-08-09T00:00:00",
          "2024-08-10T00:00:00",
          "2024-08-11T00:00:00",
          "2024-08-12T00:00:00",
          "2024-08-13T00:00:00",
          "2024-08-14T00:00:00",
          "2024-08-15T00:00:00",
          "2024-08-16T00:00:00",
          "2024-08-17T00:00:00",
          "2024-08-18T00:00:00",
          "2024-08-19T00:00:00",
          "2024-08-20T00:00:00",
          "2024-08-21T00:00:00",
          "2024-08-22T00:00:00",
          "2024-08-23T00:00:00",
          "2024-08-24T00:00:00",
          "2024-08-25T00:00:00",
          "2024-08-26T00:00:00",
          "2024-08-27T00:00:00",
          "2024-08-28T00:00:00",
          "2024-08-29T00:00:00",
          "2024-08-30T00:00:00",
          "2024-08-31T00:00:00",
          "2024-09-01T00:00:00",
          "2024-09-02T00:00:00",
          "2024-09-03T00:00:00",
          "2024-09-04T00:00:00",
          "2024-09-05T00:00:00",
          "2024-09-06T00:00:00",
          "2024-09-07T00:00:00",
          "2024-09-08T00:00:00",
          "2024-09-09T00:00:00",
          "2024-09-10T00:00:00",
          "2024-09-11T00:00:00",
          "2024-09-12T00:00:00",
          "2024-09-13T00:00:00",
          "2024-09-14T00:00:00",
          "2024-09-15T00:00:00",
          "2024-09-16T00:00:00"
         ],
         "y": [
          null,
          0.16018306636155608,
          0.16055215176791912,
          0.19541411382593932,
          0.18133129106075146,
          0.18814644625432994,
          0.18724240847773732,
          0.18883710741802018,
          0.17182346056204967,
          0.16892682879155899,
          0.15983943683245175,
          0.15662049386409085,
          0.1650855840796736,
          0.20884931220096675,
          0.16714824694312455,
          0.15170148150917925,
          0.1307114999422743,
          0.12703397933616228,
          0.13219008568689058,
          0.1227234385454032,
          0.14509816016669794,
          0.11902226976951037,
          0.11263965900658478,
          0.11389872083369139,
          0.10153789395156324,
          0.07722442707273544,
          0.07965526839808386,
          0.09268345325688246,
          0.08948747211009342,
          0.10363418600271992,
          0.09633413232585465,
          0.09929843964587885,
          0.10344590508366686,
          0.09041560205336382,
          0.09365634279410458,
          0.08416560205336383,
          0.07169473958250136,
          0.06584108104591599,
          0.07131727152210647,
          0.08126124911314288,
          0.07896239853843025,
          0.07677384634987806,
          0.07899606857210027,
          0.048903475979507685,
          0.07784612830925679,
          0.09598898545211393,
          0.11393770340083188,
          0.11349656747582498,
          0.09647275795201546,
          0.0942108531901107,
          0.06969586200845286,
          0.08493395724654809,
          0.08260785065214882,
          0.07294398510593034,
          0.07944805014658073,
          0.09713512497651271,
          0.10348433132571906,
          0.09810347877505518,
          0.10066758133915775,
          0.09127604694762335,
          0.08869467769958744,
          0.10627130605207788,
          0.11274749652826836,
          0.12577779955857138,
          0.11122753500830682,
          0.11929377432454615,
          0.1353531535418201,
          0.12748886336045676,
          0.1245259003974938,
          0.1098200180445526,
          0.1298200180445526,
          0.1253014995260341,
          0.12356538841492298,
          0.13919038841492298,
          0.1311541688337119,
          0.12456686724641029,
          0.13140447408401712,
          0.1266647693443124,
          0.13814936318184742,
          0.1538102827220773,
          0.17384996526175983,
          0.1803049917167863,
          0.19660050249798106,
          0.20566912994896142,
          0.19900246328229476,
          0.20629412994896146,
          0.2110560347108662,
          0.21345002943596258,
          0.2175525935385267,
          0.2204811649670981,
          0.21698466147059464,
          0.20170688369281684,
          0.19404021702615015,
          0.19673862972456288,
          0.20388148686742003,
          0.20395918694512008,
          0.19153228636032477,
          0.19858356841160682,
          0.19964176946980788,
          0.19964176946980788,
          0.17805446788250628,
          0.18072113454917293,
          0.16334613454917293,
          0.14744335677139517,
          0.13340826905209693,
          0.128440948790659,
          0.11975149010120036,
          0.1365072833275818,
          0.1552361541862701,
          0.14887010644091203,
          0.13492566199646758,
          0.12381455088535646,
          0.11077107262448689,
          0.11030810966152393,
          0.13411763347104774,
          0.1279753920917374,
          0.12201228612863142,
          0.11453215522634065,
          0.11374784150085045,
          0.11217208392509287,
          0.09748676923977818,
          0.11121225943585662,
          0.10764083086442805,
          0.1042016774252746,
          0.10676577998937717,
          0.10546707869067588,
          0.12036606858966575,
          0.13599106858966575,
          0.13927514083925527,
          0.13927514083925527,
          0.14086244242655685,
          0.1500578447254074,
          0.15630345876049515,
          0.1425660850231214,
          0.15412908342822507,
          0.15798529257855184,
          0.1532305378237971,
          0.1304141385368096,
          0.09568939564509756,
          0.09056119051689243,
          0.0892278571835591,
          0.08948328502519384,
          0.09989995169186051,
          0.0961962479881568,
          0.09922882944179089,
          0.09314113254949628,
          0.0865645559729197,
          0.08697863464786795,
          0.09498517059558037,
          0.09279081322880921,
          0.11602313646113244,
          0.11026866075780763,
          0.11358756407671096,
          0.10194735243649931,
          0.08271658320573008,
          0.07573245622160309,
          0.06694457743372431,
          0.046557672671819546,
          0.0308193879680176,
          0.039461363276659576,
          0.022794696609992907,
          0.005265960977809001,
          0.009319197517433927,
          0.03932897268849942,
          0.03882392218344891,
          0.037352450711977445,
          0.038908552268079,
          0.043237556597083324,
          0.06333325037698763,
          0.07555547259920985,
          0.07285276989650716,
          0.08741215686968723,
          0.0779758823598833,
          0.08730921569321665,
          0.06969787966082798,
          0.06908059571021069,
          0.07809294138922304,
          0.07610881440509606,
          0.07576159218287383,
          0.07854245981357462,
          0.0771087680573022,
          0.0728414572682523,
          0.06732475175154677,
          0.07672324799214827,
          0.10264917391807421,
          0.10790169917059945,
          0.11074120534343895,
          0.12130021155461909,
          0.12029686707301374,
          0.11906229917177917,
          0.14197896583844585,
          0.16578848964796966,
          0.16348963907325703,
          0.1656401767076656,
          0.15534977266726155,
          0.1577391185348683,
          0.15167851247426223,
          0.16437692517267494,
          0.16448915861824173,
          0.1650874492165323,
          0.17064729477637788,
          0.17420285033193342,
          0.19140427635688886,
          0.1987376096902222,
          0.19884017379278632,
          0.2073369058189301,
          0.21797973255371084,
          0.22108430771710952,
          0.21908110258890443,
          0.21773701656739905,
          0.199726263879227,
          0.18704820120116433,
          0.19648409863706176,
          0.19899036430122216,
          0.20706443837529626,
          0.21474842105927888,
          0.2019089148864394,
          0.1980725977508895,
          0.2101015832581359,
          0.20124490048840965,
          0.2047988220570371,
          0.1999892982475133,
          0.21732263158084664,
          0.1962012798143336,
          0.19942097678403056,
          0.19585352973832262,
          0.19955723344202633,
          0.20384294772774061,
          0.20686551052041835,
          0.1910146946696025,
          0.18815755181245963,
          0.18460199625690413,
          0.17118208283699066,
          0.16605387770878555,
          0.1760308892030384,
          0.16975637939911686,
          0.15973083661495338,
          0.14778787761317083,
          0.15140093122622444,
          0.13473426455955778,
          0.1430675978928911,
          0.16474036956566276,
          0.1644520812773745,
          0.16426160508689833,
          0.14389796872326197,
          0.14799849782379104,
          0.16895087877617201,
          0.17532342779577986,
          0.18341866589101793,
          0.20272508411047963,
          0.19292116254185218,
          0.18892116254185218,
          0.17899523661592628,
          0.20027950790019755,
          0.2193098109305006,
          0.22630281792350757,
          0.2352975269182166,
          0.23204966367035332,
          0.2287366143126792,
          0.23176691734298224,
          0.24129072686679176,
          0.23017961575568066,
          0.2240571667760888,
          0.23751870523762728,
          0.23396593616761682,
          0.23313260283428347,
          0.21794741764909834,
          0.253174690376371,
          0.23431947152115215,
          0.24778100998269062,
          0.26357048366690117,
          0.2518821719785895,
          0.23831860841502592,
          0.22481860841502593,
          0.25165843525485276,
          0.2435102871067046,
          0.22922457282099032,
          0.22579320027197072,
          0.2219836764624469,
          0.2096820891608596,
          0.19539637487514533,
          0.18103740051617095,
          0.1750792684710824,
          0.17103886443067837,
          0.16556518022015204,
          0.15477730143227325,
          0.16430111095608274,
          0.1753267519817238,
          0.17814005121446033,
          0.1859831884693623,
          0.18291099184877863,
          0.1967998807376675,
          0.20186412865905828,
          0.17894746199239162,
          0.19449423406090283,
          0.21199423406090284,
          0.22393867850534727,
          0.2086609007275695,
          0.227179419246088,
          0.23602970874153878,
          0.22209208690918011,
          0.23060579542288864,
          0.23662431394140715,
          0.24439458421167742,
          0.22858506040215362,
          0.22343354525063844,
          0.22020773879902553,
          0.2208613335702674,
          0.22990895261788644,
          0.23041400312293694,
          0.24112828883722265,
          0.2533251010340348,
          0.2555795293754197,
          0.2443290939870533,
          0.2400527781975796,
          0.2387194448642463,
          0.2121493965550675,
          0.1939037825199798,
          0.17751582265375906,
          0.18395839968457137,
          0.1908401201146789,
          0.1858401201146789,
          0.17102530529986412,
          0.17663427965883846,
          0.1566262281290478,
          0.16273733924015893,
          0.16968178368460335,
          0.17662622812904782,
          0.17696292846574815,
          0.16904503990269829,
          0.1690979499556083,
          0.15790747376513214,
          0.15707414043179882,
          0.16180387016152856,
          0.15713720349486188,
          0.14173316309082148,
          0.1479892725727374,
          0.1491003836838485,
          0.1379892725727374,
          0.1343978023146005,
          0.13715622275594777,
          0.14976883536856037,
          0.13837282397254896,
          0.14618891592657196,
          0.13993891592657196,
          0.1514331688001352,
          0.15994766155375836,
          0.16414565654122706,
          0.18136177375734427,
          0.17989657229214281,
          0.17906323895880946,
          0.17017435006992057,
          0.18588316233045699,
          0.1781908546381493,
          0.17846318579283338,
          0.15509717272093795,
          0.14369366394900812,
          0.12286033061567479,
          0.10215325990860408,
          0.10164820940355358,
          0.1092672570226012,
          0.12560059035593454,
          0.13241218455883308,
          0.12920705635370486,
          0.11846631561296413,
          0.14235520450185302,
          0.13291464506129358,
          0.1429146450612936,
          0.149359089505738,
          0.1357788425921578,
          0.10742518405557243,
          0.08614140027178863,
          0.0954210095513979,
          0.08976444389483225,
          0.09734020147058983,
          0.08317928193035994,
          0.07734594859702662,
          0.04639356764464566,
          0.04798086923194724,
          0.044049245300323316,
          0.056946070697148715,
          0.059976373727451744,
          0.05537867257802645,
          0.05537867257802645,
          0.061587822904823834,
          0.052688878711762,
          0.06712269051399485,
          0.07481499820630254,
          0.0877779611692655,
          0.08991471330601764,
          0.07694262792013914,
          0.07207988282209993,
          0.0690778124287252,
          0.06932595138654157,
          0.08625716831775851,
          0.0894354628914019,
          0.0998139732699123,
          0.07388804734398638,
          0.0702213806773197,
          0.09244360289954193,
          0.12875312670906572,
          0.1417433227874971,
          0.13370440829696972,
          0.13824986284242424,
          0.12650743860000002,
          0.14432562041818184,
          0.13690137799393937,
          0.1582977743903358,
          0.15443304009081887,
          0.13175104775365415,
          0.11067521001114973,
          0.11058608345143495,
          0.1208424937078452,
          0.10545787832322981,
          0.1043467672121187,
          0.12504606791141942,
          0.101645394510746,
          0.091338707733471,
          0.07374611514087841,
          0.06605380744857071,
          0.05969816174201222,
          0.05886859914774374,
          0.06454625482539941,
          0.07280627437574155,
          0.06858549515496233,
          0.05641730159141993,
          0.05850965368377203,
          0.06610224627636462,
          0.06284137671114723,
          0.051730265600036116,
          0.0379207417905123,
          0.032943366224901446,
          0.051740658140472934,
          0.0545184359182507,
          0.08461102851084329,
          0.07586976976958455,
          0.09405158795140274,
          0.10078019155500634,
          0.10927455548415287,
          0.13640099226576208,
          0.1532921258235623,
          0.13368428268630742,
          0.13403393303595776,
          0.17203759603962077,
          0.16817794691681373,
          0.157442016180883,
          0.18059016432903116,
          0.1804267656362207,
          0.1906119508214059,
          0.21159960514239357,
          0.23041253572003,
          0.22143817674567104,
          0.22073887604637032,
          0.20154695685445112,
          0.20906443937193364,
          0.20388767169516597,
          0.1978270656345599,
          0.2019628681036957,
          0.20263753077236135,
          0.20402641966125026,
          0.21249488812971873,
          0.2086487342835649,
          0.19630305527121922,
          0.17130305527121922,
          0.16871046267862658,
          0.1585965025646665,
          0.15545797442613835,
          0.15878458732936415,
          0.16526606881084568,
          0.15669464023941707,
          0.14408466956493024,
          0.17257929322084425,
          0.17493619557774662,
          0.1610890777832604,
          0.16328206023940076,
          0.18002809198543251,
          0.16391698087432138,
          0.17336142531876583,
          0.1812561621608711,
          0.16767591524729084,
          0.15866690623828184,
          0.157217630875963,
          0.15759641875475086,
          0.1520408631991953,
          0.1492203503786825,
          0.1648812699189124,
          0.16185096688860937,
          0.16795325965756877,
          0.17998391099856495,
          0.18970613322078717,
          0.19559663911129305,
          0.19559663911129305,
          0.20908870260335657,
          0.23686648038113434,
          0.23706255881250687,
          0.248173669923618,
          0.2520252105398645,
          0.26865052071356177,
          0.26148206193219975,
          0.27338682383696167,
          0.2762789261728905,
          0.27090258208686896,
          0.264189619123906,
          0.24271927660093193,
          0.2343859432675986,
          0.21864520252685782,
          0.2165939204755758,
          0.22507876896042425,
          0.23496180989609675,
          0.24784425756115314,
          0.24588347324742765,
          0.23780893908593695,
          0.2240268878038857,
          0.2431379989149968,
          0.2294342952112931,
          0.23398942505377926,
          0.23196922303357723,
          0.21969409075844495,
          0.2130274240917783,
          0.21073984239243188,
          0.20892988764130066,
          0.22847011752635815,
          0.22939246844870906,
          0.24284276084636988,
          0.23499962359146792,
          0.23499962359146792,
          0.22519570202284048,
          0.21137803820517664,
          0.20346713190717358,
          0.19268281818168337,
          0.20217621962910784,
          0.2023912733925487,
          0.1961412733925487,
          0.21836349561477092,
          0.22947460672588202,
          0.2305688828201581,
          0.22484238709366236,
          0.2203575386088139,
          0.19517235342362868,
          0.1902671137357803,
          0.1939822840144181,
          0.2048949824271165,
          0.2172881448202789,
          0.21837905391118798,
          0.22306314977175445,
          0.2036804337223717,
          0.19761982766176567,
          0.19299019803213605,
          0.18622691300798142,
          0.17207005026288338,
          0.1841364152704249,
          0.16459618538536744,
          0.14383256462174668,
          0.11927116111297471,
          0.10596583898412318,
          0.10206720350654033,
          0.11083913333110175,
          0.10515130264327105,
          0.1130084455004139,
          0.12045942589257078,
          0.10363843823824978,
          0.09030510490491644,
          0.10535886834577667,
          0.10571160203184367,
          0.09460049092073257,
          0.1012404196194848,
          0.10372407975020374,
          0.11527963530575931,
          0.1328319702493986,
          0.12614300703869627,
          0.12705528774045063,
          0.13733306551822844,
          0.1302219544071173,
          0.11636914055430346,
          0.1244796574883498,
          0.1307115415463208,
          0.1395238020827193,
          0.1469312094901267,
          0.1413013321211189,
          0.14885688767667443,
          0.12138436020414696,
          0.1335055723253591,
          0.1576325564523432,
          0.15418428059027425,
          0.15303789611055643,
          0.1595291241807319,
          0.15242386102283714,
          0.15163021022918638,
          0.14774132134029747,
          0.13123338483236094,
          0.12459758236322514,
          0.13271352439221065,
          0.12182642761801711,
          0.10956893202718819,
          0.12068004313829929,
          0.10527388067331331,
          0.11279022054259434,
          0.08766944759573445,
          0.10044118672616922,
          0.09430963711635874,
          0.09640487521159685,
          0.09473820854493017,
          0.0990715418782635,
          0.11077789108461271,
          0.10292154989493821,
          0.10954680869411003,
          0.10784565926882267,
          0.11754351501931,
          0.11049223296802796,
          0.10160334407913907,
          0.11216882026961526,
          0.08099998910078408,
          0.06167182372610709,
          0.06512009958817605,
          0.06983791263932244,
          0.053171245972655774,
          0.04039346819487799,
          0.03267741881216194,
          0.03650883643668302,
          0.03898899516684174,
          0.04360866860371949,
          0.05268570903087433,
          0.06685237569754099,
          0.08256666141182671,
          0.08291388363404893
         ]
        },
        {
         "line": {
          "color": "cornflowerblue",
          "dash": "dash"
         },
         "mode": "lines",
         "showlegend": false,
         "type": "scatter",
         "x": [
          "2023-01-01",
          "2024-09-16"
         ],
         "y": [
          0.15888903619249636,
          0.15888903619249636
         ]
        },
        {
         "line": {
          "color": "darkmagenta"
         },
         "mode": "lines",
         "name": "Governance",
         "type": "scatter",
         "x": [
          "2023-01-01T00:00:00",
          "2023-01-02T00:00:00",
          "2023-01-03T00:00:00",
          "2023-01-04T00:00:00",
          "2023-01-05T00:00:00",
          "2023-01-06T00:00:00",
          "2023-01-07T00:00:00",
          "2023-01-08T00:00:00",
          "2023-01-09T00:00:00",
          "2023-01-10T00:00:00",
          "2023-01-11T00:00:00",
          "2023-01-12T00:00:00",
          "2023-01-13T00:00:00",
          "2023-01-14T00:00:00",
          "2023-01-15T00:00:00",
          "2023-01-16T00:00:00",
          "2023-01-17T00:00:00",
          "2023-01-18T00:00:00",
          "2023-01-19T00:00:00",
          "2023-01-20T00:00:00",
          "2023-01-21T00:00:00",
          "2023-01-22T00:00:00",
          "2023-01-23T00:00:00",
          "2023-01-24T00:00:00",
          "2023-01-25T00:00:00",
          "2023-01-26T00:00:00",
          "2023-01-27T00:00:00",
          "2023-01-28T00:00:00",
          "2023-01-29T00:00:00",
          "2023-01-30T00:00:00",
          "2023-01-31T00:00:00",
          "2023-02-01T00:00:00",
          "2023-02-02T00:00:00",
          "2023-02-03T00:00:00",
          "2023-02-04T00:00:00",
          "2023-02-05T00:00:00",
          "2023-02-06T00:00:00",
          "2023-02-07T00:00:00",
          "2023-02-08T00:00:00",
          "2023-02-09T00:00:00",
          "2023-02-10T00:00:00",
          "2023-02-11T00:00:00",
          "2023-02-12T00:00:00",
          "2023-02-13T00:00:00",
          "2023-02-14T00:00:00",
          "2023-02-15T00:00:00",
          "2023-02-16T00:00:00",
          "2023-02-17T00:00:00",
          "2023-02-18T00:00:00",
          "2023-02-19T00:00:00",
          "2023-02-20T00:00:00",
          "2023-02-21T00:00:00",
          "2023-02-22T00:00:00",
          "2023-02-23T00:00:00",
          "2023-02-24T00:00:00",
          "2023-02-25T00:00:00",
          "2023-02-26T00:00:00",
          "2023-02-27T00:00:00",
          "2023-02-28T00:00:00",
          "2023-03-01T00:00:00",
          "2023-03-02T00:00:00",
          "2023-03-03T00:00:00",
          "2023-03-04T00:00:00",
          "2023-03-05T00:00:00",
          "2023-03-06T00:00:00",
          "2023-03-07T00:00:00",
          "2023-03-08T00:00:00",
          "2023-03-09T00:00:00",
          "2023-03-10T00:00:00",
          "2023-03-11T00:00:00",
          "2023-03-12T00:00:00",
          "2023-03-13T00:00:00",
          "2023-03-14T00:00:00",
          "2023-03-15T00:00:00",
          "2023-03-16T00:00:00",
          "2023-03-17T00:00:00",
          "2023-03-18T00:00:00",
          "2023-03-19T00:00:00",
          "2023-03-20T00:00:00",
          "2023-03-21T00:00:00",
          "2023-03-22T00:00:00",
          "2023-03-23T00:00:00",
          "2023-03-24T00:00:00",
          "2023-03-25T00:00:00",
          "2023-03-26T00:00:00",
          "2023-03-27T00:00:00",
          "2023-03-28T00:00:00",
          "2023-03-29T00:00:00",
          "2023-03-30T00:00:00",
          "2023-03-31T00:00:00",
          "2023-04-01T00:00:00",
          "2023-04-02T00:00:00",
          "2023-04-03T00:00:00",
          "2023-04-04T00:00:00",
          "2023-04-05T00:00:00",
          "2023-04-06T00:00:00",
          "2023-04-07T00:00:00",
          "2023-04-08T00:00:00",
          "2023-04-09T00:00:00",
          "2023-04-10T00:00:00",
          "2023-04-11T00:00:00",
          "2023-04-12T00:00:00",
          "2023-04-13T00:00:00",
          "2023-04-14T00:00:00",
          "2023-04-15T00:00:00",
          "2023-04-16T00:00:00",
          "2023-04-17T00:00:00",
          "2023-04-18T00:00:00",
          "2023-04-19T00:00:00",
          "2023-04-20T00:00:00",
          "2023-04-21T00:00:00",
          "2023-04-22T00:00:00",
          "2023-04-23T00:00:00",
          "2023-04-24T00:00:00",
          "2023-04-25T00:00:00",
          "2023-04-26T00:00:00",
          "2023-04-27T00:00:00",
          "2023-04-28T00:00:00",
          "2023-04-29T00:00:00",
          "2023-04-30T00:00:00",
          "2023-05-01T00:00:00",
          "2023-05-02T00:00:00",
          "2023-05-03T00:00:00",
          "2023-05-04T00:00:00",
          "2023-05-05T00:00:00",
          "2023-05-06T00:00:00",
          "2023-05-07T00:00:00",
          "2023-05-08T00:00:00",
          "2023-05-09T00:00:00",
          "2023-05-10T00:00:00",
          "2023-05-11T00:00:00",
          "2023-05-12T00:00:00",
          "2023-05-13T00:00:00",
          "2023-05-14T00:00:00",
          "2023-05-15T00:00:00",
          "2023-05-16T00:00:00",
          "2023-05-17T00:00:00",
          "2023-05-18T00:00:00",
          "2023-05-19T00:00:00",
          "2023-05-20T00:00:00",
          "2023-05-21T00:00:00",
          "2023-05-22T00:00:00",
          "2023-05-23T00:00:00",
          "2023-05-24T00:00:00",
          "2023-05-25T00:00:00",
          "2023-05-26T00:00:00",
          "2023-05-27T00:00:00",
          "2023-05-28T00:00:00",
          "2023-05-29T00:00:00",
          "2023-05-30T00:00:00",
          "2023-05-31T00:00:00",
          "2023-06-01T00:00:00",
          "2023-06-02T00:00:00",
          "2023-06-03T00:00:00",
          "2023-06-04T00:00:00",
          "2023-06-05T00:00:00",
          "2023-06-06T00:00:00",
          "2023-06-07T00:00:00",
          "2023-06-08T00:00:00",
          "2023-06-09T00:00:00",
          "2023-06-10T00:00:00",
          "2023-06-11T00:00:00",
          "2023-06-12T00:00:00",
          "2023-06-13T00:00:00",
          "2023-06-14T00:00:00",
          "2023-06-15T00:00:00",
          "2023-06-16T00:00:00",
          "2023-06-17T00:00:00",
          "2023-06-18T00:00:00",
          "2023-06-19T00:00:00",
          "2023-06-20T00:00:00",
          "2023-06-21T00:00:00",
          "2023-06-22T00:00:00",
          "2023-06-23T00:00:00",
          "2023-06-24T00:00:00",
          "2023-06-25T00:00:00",
          "2023-06-26T00:00:00",
          "2023-06-27T00:00:00",
          "2023-06-28T00:00:00",
          "2023-06-29T00:00:00",
          "2023-06-30T00:00:00",
          "2023-07-01T00:00:00",
          "2023-07-02T00:00:00",
          "2023-07-03T00:00:00",
          "2023-07-04T00:00:00",
          "2023-07-05T00:00:00",
          "2023-07-06T00:00:00",
          "2023-07-07T00:00:00",
          "2023-07-08T00:00:00",
          "2023-07-09T00:00:00",
          "2023-07-10T00:00:00",
          "2023-07-11T00:00:00",
          "2023-07-12T00:00:00",
          "2023-07-13T00:00:00",
          "2023-07-14T00:00:00",
          "2023-07-15T00:00:00",
          "2023-07-16T00:00:00",
          "2023-07-17T00:00:00",
          "2023-07-18T00:00:00",
          "2023-07-19T00:00:00",
          "2023-07-20T00:00:00",
          "2023-07-21T00:00:00",
          "2023-07-22T00:00:00",
          "2023-07-23T00:00:00",
          "2023-07-24T00:00:00",
          "2023-07-25T00:00:00",
          "2023-07-26T00:00:00",
          "2023-07-27T00:00:00",
          "2023-07-28T00:00:00",
          "2023-07-29T00:00:00",
          "2023-07-30T00:00:00",
          "2023-07-31T00:00:00",
          "2023-08-01T00:00:00",
          "2023-08-02T00:00:00",
          "2023-08-03T00:00:00",
          "2023-08-04T00:00:00",
          "2023-08-05T00:00:00",
          "2023-08-06T00:00:00",
          "2023-08-07T00:00:00",
          "2023-08-08T00:00:00",
          "2023-08-09T00:00:00",
          "2023-08-10T00:00:00",
          "2023-08-11T00:00:00",
          "2023-08-12T00:00:00",
          "2023-08-13T00:00:00",
          "2023-08-14T00:00:00",
          "2023-08-15T00:00:00",
          "2023-08-16T00:00:00",
          "2023-08-17T00:00:00",
          "2023-08-18T00:00:00",
          "2023-08-19T00:00:00",
          "2023-08-20T00:00:00",
          "2023-08-21T00:00:00",
          "2023-08-22T00:00:00",
          "2023-08-23T00:00:00",
          "2023-08-24T00:00:00",
          "2023-08-25T00:00:00",
          "2023-08-26T00:00:00",
          "2023-08-27T00:00:00",
          "2023-08-28T00:00:00",
          "2023-08-29T00:00:00",
          "2023-08-30T00:00:00",
          "2023-08-31T00:00:00",
          "2023-09-01T00:00:00",
          "2023-09-02T00:00:00",
          "2023-09-03T00:00:00",
          "2023-09-04T00:00:00",
          "2023-09-05T00:00:00",
          "2023-09-06T00:00:00",
          "2023-09-07T00:00:00",
          "2023-09-08T00:00:00",
          "2023-09-09T00:00:00",
          "2023-09-10T00:00:00",
          "2023-09-11T00:00:00",
          "2023-09-12T00:00:00",
          "2023-09-13T00:00:00",
          "2023-09-14T00:00:00",
          "2023-09-15T00:00:00",
          "2023-09-16T00:00:00",
          "2023-09-17T00:00:00",
          "2023-09-18T00:00:00",
          "2023-09-19T00:00:00",
          "2023-09-20T00:00:00",
          "2023-09-21T00:00:00",
          "2023-09-22T00:00:00",
          "2023-09-23T00:00:00",
          "2023-09-24T00:00:00",
          "2023-09-25T00:00:00",
          "2023-09-26T00:00:00",
          "2023-09-27T00:00:00",
          "2023-09-28T00:00:00",
          "2023-09-29T00:00:00",
          "2023-09-30T00:00:00",
          "2023-10-01T00:00:00",
          "2023-10-02T00:00:00",
          "2023-10-03T00:00:00",
          "2023-10-04T00:00:00",
          "2023-10-05T00:00:00",
          "2023-10-06T00:00:00",
          "2023-10-07T00:00:00",
          "2023-10-08T00:00:00",
          "2023-10-09T00:00:00",
          "2023-10-10T00:00:00",
          "2023-10-11T00:00:00",
          "2023-10-12T00:00:00",
          "2023-10-13T00:00:00",
          "2023-10-14T00:00:00",
          "2023-10-15T00:00:00",
          "2023-10-16T00:00:00",
          "2023-10-17T00:00:00",
          "2023-10-18T00:00:00",
          "2023-10-19T00:00:00",
          "2023-10-20T00:00:00",
          "2023-10-21T00:00:00",
          "2023-10-22T00:00:00",
          "2023-10-23T00:00:00",
          "2023-10-24T00:00:00",
          "2023-10-25T00:00:00",
          "2023-10-26T00:00:00",
          "2023-10-27T00:00:00",
          "2023-10-28T00:00:00",
          "2023-10-29T00:00:00",
          "2023-10-30T00:00:00",
          "2023-10-31T00:00:00",
          "2023-11-01T00:00:00",
          "2023-11-02T00:00:00",
          "2023-11-03T00:00:00",
          "2023-11-04T00:00:00",
          "2023-11-05T00:00:00",
          "2023-11-06T00:00:00",
          "2023-11-07T00:00:00",
          "2023-11-08T00:00:00",
          "2023-11-09T00:00:00",
          "2023-11-10T00:00:00",
          "2023-11-11T00:00:00",
          "2023-11-12T00:00:00",
          "2023-11-13T00:00:00",
          "2023-11-14T00:00:00",
          "2023-11-15T00:00:00",
          "2023-11-16T00:00:00",
          "2023-11-17T00:00:00",
          "2023-11-18T00:00:00",
          "2023-11-19T00:00:00",
          "2023-11-20T00:00:00",
          "2023-11-21T00:00:00",
          "2023-11-22T00:00:00",
          "2023-11-23T00:00:00",
          "2023-11-24T00:00:00",
          "2023-11-25T00:00:00",
          "2023-11-26T00:00:00",
          "2023-11-27T00:00:00",
          "2023-11-28T00:00:00",
          "2023-11-29T00:00:00",
          "2023-11-30T00:00:00",
          "2023-12-01T00:00:00",
          "2023-12-02T00:00:00",
          "2023-12-03T00:00:00",
          "2023-12-04T00:00:00",
          "2023-12-05T00:00:00",
          "2023-12-06T00:00:00",
          "2023-12-07T00:00:00",
          "2023-12-08T00:00:00",
          "2023-12-09T00:00:00",
          "2023-12-10T00:00:00",
          "2023-12-11T00:00:00",
          "2023-12-12T00:00:00",
          "2023-12-13T00:00:00",
          "2023-12-14T00:00:00",
          "2023-12-15T00:00:00",
          "2023-12-16T00:00:00",
          "2023-12-17T00:00:00",
          "2023-12-18T00:00:00",
          "2023-12-19T00:00:00",
          "2023-12-20T00:00:00",
          "2023-12-21T00:00:00",
          "2023-12-22T00:00:00",
          "2023-12-23T00:00:00",
          "2023-12-24T00:00:00",
          "2023-12-25T00:00:00",
          "2023-12-26T00:00:00",
          "2023-12-27T00:00:00",
          "2023-12-28T00:00:00",
          "2023-12-29T00:00:00",
          "2023-12-30T00:00:00",
          "2023-12-31T00:00:00",
          "2024-01-01T00:00:00",
          "2024-01-02T00:00:00",
          "2024-01-03T00:00:00",
          "2024-01-04T00:00:00",
          "2024-01-05T00:00:00",
          "2024-01-06T00:00:00",
          "2024-01-07T00:00:00",
          "2024-01-08T00:00:00",
          "2024-01-09T00:00:00",
          "2024-01-10T00:00:00",
          "2024-01-11T00:00:00",
          "2024-01-12T00:00:00",
          "2024-01-13T00:00:00",
          "2024-01-14T00:00:00",
          "2024-01-15T00:00:00",
          "2024-01-16T00:00:00",
          "2024-01-17T00:00:00",
          "2024-01-18T00:00:00",
          "2024-01-19T00:00:00",
          "2024-01-20T00:00:00",
          "2024-01-21T00:00:00",
          "2024-01-22T00:00:00",
          "2024-01-23T00:00:00",
          "2024-01-24T00:00:00",
          "2024-01-25T00:00:00",
          "2024-01-26T00:00:00",
          "2024-01-27T00:00:00",
          "2024-01-28T00:00:00",
          "2024-01-29T00:00:00",
          "2024-01-30T00:00:00",
          "2024-01-31T00:00:00",
          "2024-02-01T00:00:00",
          "2024-02-02T00:00:00",
          "2024-02-03T00:00:00",
          "2024-02-04T00:00:00",
          "2024-02-05T00:00:00",
          "2024-02-06T00:00:00",
          "2024-02-07T00:00:00",
          "2024-02-08T00:00:00",
          "2024-02-09T00:00:00",
          "2024-02-10T00:00:00",
          "2024-02-11T00:00:00",
          "2024-02-12T00:00:00",
          "2024-02-13T00:00:00",
          "2024-02-14T00:00:00",
          "2024-02-15T00:00:00",
          "2024-02-16T00:00:00",
          "2024-02-17T00:00:00",
          "2024-02-18T00:00:00",
          "2024-02-19T00:00:00",
          "2024-02-20T00:00:00",
          "2024-02-21T00:00:00",
          "2024-02-22T00:00:00",
          "2024-02-23T00:00:00",
          "2024-02-24T00:00:00",
          "2024-02-25T00:00:00",
          "2024-02-26T00:00:00",
          "2024-02-27T00:00:00",
          "2024-02-28T00:00:00",
          "2024-02-29T00:00:00",
          "2024-03-01T00:00:00",
          "2024-03-02T00:00:00",
          "2024-03-03T00:00:00",
          "2024-03-04T00:00:00",
          "2024-03-05T00:00:00",
          "2024-03-06T00:00:00",
          "2024-03-07T00:00:00",
          "2024-03-08T00:00:00",
          "2024-03-09T00:00:00",
          "2024-03-10T00:00:00",
          "2024-03-11T00:00:00",
          "2024-03-12T00:00:00",
          "2024-03-13T00:00:00",
          "2024-03-14T00:00:00",
          "2024-03-15T00:00:00",
          "2024-03-16T00:00:00",
          "2024-03-17T00:00:00",
          "2024-03-18T00:00:00",
          "2024-03-19T00:00:00",
          "2024-03-20T00:00:00",
          "2024-03-21T00:00:00",
          "2024-03-22T00:00:00",
          "2024-03-23T00:00:00",
          "2024-03-24T00:00:00",
          "2024-03-25T00:00:00",
          "2024-03-26T00:00:00",
          "2024-03-27T00:00:00",
          "2024-03-28T00:00:00",
          "2024-03-29T00:00:00",
          "2024-03-30T00:00:00",
          "2024-03-31T00:00:00",
          "2024-04-01T00:00:00",
          "2024-04-02T00:00:00",
          "2024-04-03T00:00:00",
          "2024-04-04T00:00:00",
          "2024-04-05T00:00:00",
          "2024-04-06T00:00:00",
          "2024-04-07T00:00:00",
          "2024-04-08T00:00:00",
          "2024-04-09T00:00:00",
          "2024-04-10T00:00:00",
          "2024-04-11T00:00:00",
          "2024-04-12T00:00:00",
          "2024-04-13T00:00:00",
          "2024-04-14T00:00:00",
          "2024-04-15T00:00:00",
          "2024-04-16T00:00:00",
          "2024-04-17T00:00:00",
          "2024-04-18T00:00:00",
          "2024-04-19T00:00:00",
          "2024-04-20T00:00:00",
          "2024-04-21T00:00:00",
          "2024-04-22T00:00:00",
          "2024-04-23T00:00:00",
          "2024-04-24T00:00:00",
          "2024-04-25T00:00:00",
          "2024-04-26T00:00:00",
          "2024-04-27T00:00:00",
          "2024-04-28T00:00:00",
          "2024-04-29T00:00:00",
          "2024-04-30T00:00:00",
          "2024-05-01T00:00:00",
          "2024-05-02T00:00:00",
          "2024-05-03T00:00:00",
          "2024-05-04T00:00:00",
          "2024-05-05T00:00:00",
          "2024-05-06T00:00:00",
          "2024-05-07T00:00:00",
          "2024-05-08T00:00:00",
          "2024-05-09T00:00:00",
          "2024-05-10T00:00:00",
          "2024-05-11T00:00:00",
          "2024-05-12T00:00:00",
          "2024-05-13T00:00:00",
          "2024-05-14T00:00:00",
          "2024-05-15T00:00:00",
          "2024-05-16T00:00:00",
          "2024-05-17T00:00:00",
          "2024-05-18T00:00:00",
          "2024-05-19T00:00:00",
          "2024-05-20T00:00:00",
          "2024-05-21T00:00:00",
          "2024-05-22T00:00:00",
          "2024-05-23T00:00:00",
          "2024-05-24T00:00:00",
          "2024-05-25T00:00:00",
          "2024-05-26T00:00:00",
          "2024-05-27T00:00:00",
          "2024-05-28T00:00:00",
          "2024-05-29T00:00:00",
          "2024-05-30T00:00:00",
          "2024-05-31T00:00:00",
          "2024-06-01T00:00:00",
          "2024-06-02T00:00:00",
          "2024-06-03T00:00:00",
          "2024-06-04T00:00:00",
          "2024-06-05T00:00:00",
          "2024-06-06T00:00:00",
          "2024-06-07T00:00:00",
          "2024-06-08T00:00:00",
          "2024-06-09T00:00:00",
          "2024-06-10T00:00:00",
          "2024-06-11T00:00:00",
          "2024-06-12T00:00:00",
          "2024-06-13T00:00:00",
          "2024-06-14T00:00:00",
          "2024-06-15T00:00:00",
          "2024-06-16T00:00:00",
          "2024-06-17T00:00:00",
          "2024-06-18T00:00:00",
          "2024-06-19T00:00:00",
          "2024-06-20T00:00:00",
          "2024-06-21T00:00:00",
          "2024-06-22T00:00:00",
          "2024-06-23T00:00:00",
          "2024-06-24T00:00:00",
          "2024-06-25T00:00:00",
          "2024-06-26T00:00:00",
          "2024-06-27T00:00:00",
          "2024-06-28T00:00:00",
          "2024-06-29T00:00:00",
          "2024-06-30T00:00:00",
          "2024-07-01T00:00:00",
          "2024-07-02T00:00:00",
          "2024-07-03T00:00:00",
          "2024-07-04T00:00:00",
          "2024-07-05T00:00:00",
          "2024-07-06T00:00:00",
          "2024-07-07T00:00:00",
          "2024-07-08T00:00:00",
          "2024-07-09T00:00:00",
          "2024-07-10T00:00:00",
          "2024-07-11T00:00:00",
          "2024-07-12T00:00:00",
          "2024-07-13T00:00:00",
          "2024-07-14T00:00:00",
          "2024-07-15T00:00:00",
          "2024-07-16T00:00:00",
          "2024-07-17T00:00:00",
          "2024-07-18T00:00:00",
          "2024-07-19T00:00:00",
          "2024-07-20T00:00:00",
          "2024-07-21T00:00:00",
          "2024-07-22T00:00:00",
          "2024-07-23T00:00:00",
          "2024-07-24T00:00:00",
          "2024-07-25T00:00:00",
          "2024-07-26T00:00:00",
          "2024-07-27T00:00:00",
          "2024-07-28T00:00:00",
          "2024-07-29T00:00:00",
          "2024-07-30T00:00:00",
          "2024-07-31T00:00:00",
          "2024-08-01T00:00:00",
          "2024-08-02T00:00:00",
          "2024-08-03T00:00:00",
          "2024-08-04T00:00:00",
          "2024-08-05T00:00:00",
          "2024-08-06T00:00:00",
          "2024-08-07T00:00:00",
          "2024-08-08T00:00:00",
          "2024-08-09T00:00:00",
          "2024-08-10T00:00:00",
          "2024-08-11T00:00:00",
          "2024-08-12T00:00:00",
          "2024-08-13T00:00:00",
          "2024-08-14T00:00:00",
          "2024-08-15T00:00:00",
          "2024-08-16T00:00:00",
          "2024-08-17T00:00:00",
          "2024-08-18T00:00:00",
          "2024-08-19T00:00:00",
          "2024-08-20T00:00:00",
          "2024-08-21T00:00:00",
          "2024-08-22T00:00:00",
          "2024-08-23T00:00:00",
          "2024-08-24T00:00:00",
          "2024-08-25T00:00:00",
          "2024-08-26T00:00:00",
          "2024-08-27T00:00:00",
          "2024-08-28T00:00:00",
          "2024-08-29T00:00:00",
          "2024-08-30T00:00:00",
          "2024-08-31T00:00:00",
          "2024-09-01T00:00:00",
          "2024-09-02T00:00:00",
          "2024-09-03T00:00:00",
          "2024-09-04T00:00:00",
          "2024-09-05T00:00:00",
          "2024-09-06T00:00:00",
          "2024-09-07T00:00:00",
          "2024-09-08T00:00:00",
          "2024-09-09T00:00:00",
          "2024-09-10T00:00:00",
          "2024-09-11T00:00:00",
          "2024-09-12T00:00:00",
          "2024-09-13T00:00:00",
          "2024-09-14T00:00:00",
          "2024-09-15T00:00:00",
          "2024-09-16T00:00:00"
         ],
         "y": [
          null,
          0.06568627450980391,
          0.08545751633986927,
          -0.1263830532212885,
          -0.13666199813258637,
          -0.23153205726735138,
          -0.2098846205148726,
          -0.18364904295051354,
          -0.15398433447453055,
          -0.13555559799677447,
          -0.1595959981788859,
          -0.19962966499731208,
          -0.2270085796556385,
          -0.19293653825166432,
          -0.20864553093964858,
          -0.21227185192258724,
          -0.22652324031216764,
          -0.24317838193225189,
          -0.25230934428669477,
          -0.26555594603787724,
          -0.2592596311471847,
          -0.2448013056672325,
          -0.24658013088666958,
          -0.2331008305612635,
          -0.22862528218729777,
          -0.23001299757828406,
          -0.23538288655686615,
          -0.24483349775126378,
          -0.22345992886328916,
          -0.21767793123451284,
          -0.23676289855477428,
          -0.245586427966539,
          -0.24867782581600137,
          -0.23716988930806485,
          -0.24235507449325006,
          -0.2271589960618775,
          -0.23598658226877406,
          -0.24709769337988516,
          -0.2487260458703066,
          -0.2562578860108424,
          -0.24482931458227097,
          -0.23682931458227097,
          -0.22740170515466154,
          -0.2512905940435504,
          -0.2399034304824738,
          -0.24414585472489805,
          -0.23925074982979316,
          -0.23281800129178148,
          -0.2300402235140037,
          -0.22946551087032555,
          -0.24368773309254774,
          -0.24436646612422194,
          -0.23282245458021042,
          -0.23788655714431298,
          -0.252893772151528,
          -0.25962579829531884,
          -0.25962579829531884,
          -0.246768655438176,
          -0.27482421099373155,
          -0.2706884085245957,
          -0.2702772763297823,
          -0.2623825394876771,
          -0.24493928978636284,
          -0.2393837342308073,
          -0.22160595645302952,
          -0.22835198819906127,
          -0.2355244019921647,
          -0.23774662421438694,
          -0.2524762964153235,
          -0.2650021763325078,
          -0.26309741442774587,
          -0.25701045790600674,
          -0.26125288214843095,
          -0.25630338719893603,
          -0.260071503140965,
          -0.2654587085281704,
          -0.25520229827176016,
          -0.25318209625155813,
          -0.25873765180711367,
          -0.260019703089165,
          -0.2593017543712162,
          -0.2579171389866009,
          -0.26527067434013624,
          -0.27758548915495107,
          -0.2733526849221468,
          -0.2623425839120458,
          -0.25287288694234883,
          -0.2594081907190319,
          -0.25496374627458745,
          -0.27017798011627225,
          -0.2896522931389724,
          -0.2875470299810777,
          -0.3105099929440406,
          -0.3013433262773739,
          -0.31396237389642156,
          -0.3207220892768266,
          -0.3103887559434933,
          -0.3303887559434932,
          -0.30569739791880196,
          -0.27924237146377545,
          -0.3048833971048011,
          -0.3090655917217784,
          -0.31694437960056626,
          -0.3123989250551117,
          -0.31313966579585245,
          -0.305732258388445,
          -0.3083989250551117,
          -0.31397468263086925,
          -0.29849849215467883,
          -0.28562223797407676,
          -0.28076875812059693,
          -0.2959354247872636,
          -0.3128243136761525,
          -0.30594600679784556,
          -0.2844645253163641,
          -0.2981986406633827,
          -0.30920342535237794,
          -0.31663637554394874,
          -0.32496970887728216,
          -0.317780166393622,
          -0.2946320182454738,
          -0.29734035157880717,
          -0.3077107219491776,
          -0.3140996108380664,
          -0.301202785441241,
          -0.29603037164813756,
          -0.31825259387035987,
          -0.2987123639853024,
          -0.3077401417630801,
          -0.33083382368029146,
          -0.3137949485769002,
          -0.3156997104816621,
          -0.28198758926954093,
          -0.2825936498756015,
          -0.28629735357930525,
          -0.2801245140731323,
          -0.2791245140731323,
          -0.2792726622212805,
          -0.2932337011823194,
          -0.3159390151919813,
          -0.33617711043007653,
          -0.3367205886909461,
          -0.32475477672513414,
          -0.3114849354552929,
          -0.3282965296581914,
          -0.3100169597657183,
          -0.3093152053797534,
          -0.3026485387130868,
          -0.2725980336625817,
          -0.27007278113732913,
          -0.2770172255817736,
          -0.28542000335955137,
          -0.26782741076695876,
          -0.2889385218780699,
          -0.3149305853701334,
          -0.30467417511372313,
          -0.2845352862248342,
          -0.2691548811892568,
          -0.2532894965738722,
          -0.2459365553974016,
          -0.2706677381931005,
          -0.24900107152643386,
          -0.2632554574913461,
          -0.2688110130469017,
          -0.27128014884937085,
          -0.27018803109058637,
          -0.2659572618598172,
          -0.23780911371166902,
          -0.24487982078237608,
          -0.2131020430045983,
          -0.18781468668275922,
          -0.18396661072074022,
          -0.182405852638243,
          -0.20895130718369756,
          -0.20833018917127522,
          -0.24166352250460854,
          -0.2426159034569895,
          -0.24003192412882413,
          -0.26071550411472966,
          -0.27273896452528684,
          -0.27560933489565725,
          -0.27449822378454614,
          -0.28333660762293,
          -0.2654418707808247,
          -0.2604968158357698,
          -0.2526372840631945,
          -0.25650633168224213,
          -0.272379347555258,
          -0.29032806550397594,
          -0.2875502877261982,
          -0.2669153670912775,
          -0.28422305939896986,
          -0.2965037611533558,
          -0.29053153893113354,
          -0.27372548556594045,
          -0.3001823620228169,
          -0.3319131312535861,
          -0.3611194804599353,
          -0.35000836934882423,
          -0.3700577520648736,
          -0.36677367981528414,
          -0.3720710311396219,
          -0.3871849027752327,
          -0.37430611489644483,
          -0.356448972039302,
          -0.3254144892806813,
          -0.3234744540073127,
          -0.3192483974931841,
          -0.32946073318580293,
          -0.3310736364116094,
          -0.3184810438190168,
          -0.30403659937457234,
          -0.309642659980633,
          -0.31321640916841725,
          -0.3016779476299557,
          -0.310071667436719,
          -0.31245261981767136,
          -0.32316690553195715,
          -0.3422145245795762,
          -0.3449923023573539,
          -0.32939533893430356,
          -0.3310270405660052,
          -0.3447697306244847,
          -0.34804354014829425,
          -0.3512693465999071,
          -0.33160461416921727,
          -0.3257712808358839,
          -0.31923159829620135,
          -0.312882391946995,
          -0.3079441203420567,
          -0.328182215580152,
          -0.3248005730680747,
          -0.29940374767124933,
          -0.3132926365601382,
          -0.3170805153480169,
          -0.32906737905901856,
          -0.32126715459212746,
          -0.3502994126566436,
          -0.3366762242508465,
          -0.3155651131397354,
          -0.31657521414983647,
          -0.31713076970539195,
          -0.318162515737138,
          -0.322483503391459,
          -0.3465860674940231,
          -0.3563082897162453,
          -0.34797495638291204,
          -0.31603051193846754,
          -0.31002637115171805,
          -0.3116930378183847,
          -0.3233635183675838,
          -0.336566981571047,
          -0.32878920379326926,
          -0.332598727602793,
          -0.34828500211259694,
          -0.34181337090692315,
          -0.33060124969480204,
          -0.32990989167011064,
          -0.3441956059558249,
          -0.32702388878410776,
          -0.2991253380594701,
          -0.2838475602816923,
          -0.29876819520232717,
          -0.2752126396467717,
          -0.29898886342299547,
          -0.30803648247061444,
          -0.31460213903627104,
          -0.2917951214924114,
          -0.29377043013438675,
          -0.31440535076930737,
          -0.3204127936188554,
          -0.32369562190168377,
          -0.33321943142549326,
          -0.31911686732292915,
          -0.30991051811657994,
          -0.30862846683452866,
          -0.3102951335011953,
          -0.32993799064405244,
          -0.31689451238318284,
          -0.3402278457165162,
          -0.3581225825586215,
          -0.3432019476379866,
          -0.32796385239989134,
          -0.3307921352281742,
          -0.3251058607183703,
          -0.3414520145645241,
          -0.32933080244331203,
          -0.35402216046800333,
          -0.358784065229908,
          -0.38706689351273643,
          -0.40134755805851224,
          -0.4129216321325863,
          -0.4156376815153024,
          -0.4369710148486357,
          -0.4288513567289776,
          -0.425214993092614,
          -0.4283895962672171,
          -0.4280484656629287,
          -0.4379250088728052,
          -0.44067392662172294,
          -0.46282304942874053,
          -0.49009577670146776,
          -0.4783998702687192,
          -0.5015933434621924,
          -0.5091330260018749,
          -0.48749841061725957,
          -0.48324553705404116,
          -0.46221379102229515,
          -0.46776934657785074,
          -0.4344360132445174,
          -0.41989055869906283,
          -0.42077178475270266,
          -0.4326765466574646,
          -0.40984826382918177,
          -0.41413397811489605,
          -0.41213967612059405,
          -0.40658412056503845,
          -0.37229840627932415,
          -0.3555595895405075,
          -0.34691761423186546,
          -0.3302021670773939,
          -0.33612809300331986,
          -0.3200787102872705,
          -0.32612037695393714,
          -0.32639137966396425,
          -0.3268698485634857,
          -0.31628783798147525,
          -0.31670871340235063,
          -0.3077140044076416,
          -0.322107943801581,
          -0.3085662771349143,
          -0.2807884993571365,
          -0.2795955169009962,
          -0.27178665909213845,
          -0.24863851094399028,
          -0.26599962205510136,
          -0.25191916228498645,
          -0.2676599030257272,
          -0.2629173556002529,
          -0.2744558171387145,
          -0.2516679383508357,
          -0.2505397987169489,
          -0.22720646538361555,
          -0.24387313205028224,
          -0.2316707510979013,
          -0.23061255003970024,
          -0.23961638145732472,
          -0.250886222727166,
          -0.2507599601009034,
          -0.23717971318732314,
          -0.24621675022436015,
          -0.23160136560897554,
          -0.23335575157388783,
          -0.21034438793752422,
          -0.20597981797603512,
          -0.19506363863880313,
          -0.2046932682684328,
          -0.22742054099570552,
          -0.18456339813856265,
          -0.15956339813856263,
          -0.14260506480522933,
          -0.15450982670999122,
          -0.14517649337665792,
          -0.1338944420946066,
          -0.1403759235760881,
          -0.16259814579831033,
          -0.17093147913164367,
          -0.17304788124804577,
          -0.17501265089574225,
          -0.16347418935728072,
          -0.17414085602394735,
          -0.17216554738197207,
          -0.18275378267608972,
          -0.1727537826760897,
          -0.1891889678612749,
          -0.18672865040095743,
          -0.1851851364436504,
          -0.19986767612619005,
          -0.20807474683326077,
          -0.22288956164807558,
          -0.23433737309588704,
          -0.2356194243779383,
          -0.2405317050796927,
          -0.2545954191434067,
          -0.28091120861709096,
          -0.2772075049133873,
          -0.274985282691165,
          -0.23559134329722567,
          -0.2732257518993762,
          -0.27600352967715397,
          -0.294003529677154,
          -0.24320987888350318,
          -0.2390432122168365,
          -0.25545346862709295,
          -0.26934235751598185,
          -0.23890757490728615,
          -0.24261127861098986,
          -0.23933746908718032,
          -0.24767080242051367,
          -0.281004135753847,
          -0.281004135753847,
          -0.2787819135316248,
          -0.2875040230650933,
          -0.29040257378973094,
          -0.2733333306335313,
          -0.2711538434540442,
          -0.28591574821594895,
          -0.2692490815492823,
          -0.242986455286656,
          -0.2433231556233563,
          -0.23928275158295229,
          -0.2526160849162856,
          -0.2592827515829523,
          -0.2532998456000463,
          -0.24496651226671295,
          -0.24274429004449075,
          -0.2482998456000463,
          -0.25580972702297117,
          -0.2626197628652651,
          -0.251508651754154,
          -0.22650865175415402,
          -0.26817531842082065,
          -0.29798301072851296,
          -0.2749060876515899,
          -0.2549060876515899,
          -0.26412874904816436,
          -0.2659806009000162,
          -0.27973060090001617,
          -0.26558918675860205,
          -0.2467486070484571,
          -0.25201176494319394,
          -0.2509006538320829,
          -0.23569287310706075,
          -0.24529432238242305,
          -0.2724164755915328,
          -0.2551515183265755,
          -0.24454545772051492,
          -0.23303752121257842,
          -0.25402517553356607,
          -0.2519171386429205,
          -0.27413936086514273,
          -0.2816393608651427,
          -0.2633677559268711,
          -0.25725664481576,
          -0.22969254225165744,
          -0.22774809780721297,
          -0.22774809780721297,
          -0.2374099335560053,
          -0.24852104466711636,
          -0.25477104466711636,
          -0.25959560607062515,
          -0.2546810761560952,
          -0.22770671718173624,
          -0.24770671718173626,
          -0.25659560607062515,
          -0.26114106061607967,
          -0.2500299495049686,
          -0.23479185426687332,
          -0.2378221572971764,
          -0.223329403673988,
          -0.22997100768401302,
          -0.259971007684013,
          -0.2792017769147822,
          -0.27439408460708997,
          -0.24582265603566136,
          -0.25795940817241353,
          -0.2648020279182591,
          -0.2742266310928622,
          -0.2710167545496524,
          -0.26908438739989393,
          -0.2369415302570368,
          -0.22777486359037008,
          -0.2444778410776613,
          -0.24662069822051844,
          -0.2580736896735099,
          -0.29001813411795435,
          -0.296684800784621,
          -0.2839863880862083,
          -0.2595419436417639,
          -0.2647861965153271,
          -0.26288956303974625,
          -0.26780409295427615,
          -0.2858040929542761,
          -0.27135964850983174,
          -0.26580409295427615,
          -0.24762227477245796,
          -0.26032068747087067,
          -0.2542254493756326,
          -0.2715093999929165,
          -0.28817606665958323,
          -0.2725676010511176,
          -0.24812315660667314,
          -0.2259009343844509,
          -0.22320862669214322,
          -0.23431973780325432,
          -0.23773854122205776,
          -0.2581686487489395,
          -0.24080753763782836,
          -0.22937896620925696,
          -0.2110606478909386,
          -0.22555644621026633,
          -0.22369370111222714,
          -0.21495929826017726,
          -0.2278164411173201,
          -0.24114977445065341,
          -0.23698310778398674,
          -0.22158628238716135,
          -0.22595136175224073,
          -0.2424592982601772,
          -0.23096504538661397,
          -0.25303711745868607,
          -0.27137045079201944,
          -0.26720378412535273,
          -0.2616482285697972,
          -0.26720378412535273,
          -0.28300464992621854,
          -0.2974304202343418,
          -0.2987637535676751,
          -0.29259091406150234,
          -0.26481313628372455,
          -0.26700168847227673,
          -0.25811279958338784,
          -0.24938264085322906,
          -0.24771597418656244,
          -0.24569577216636038,
          -0.26514021661080484,
          -0.24078124225183045,
          -0.24487480950329246,
          -0.2520176666461496,
          -0.2608121754406584,
          -0.2701259009308545,
          -0.27513679417704184,
          -0.3054398244800722,
          -0.2997255387657864,
          -0.28226522130546894,
          -0.2650033165435642,
          -0.2691880207282684,
          -0.2841880207282684,
          -0.29212452866477634,
          -0.3069393434795912,
          -0.28325513295327537,
          -0.25787051756866,
          -0.2497183436556165,
          -0.2567358875152656,
          -0.24966518044455857,
          -0.2437127994921776,
          -0.23166798156500673,
          -0.22500131489834005,
          -0.1990753889724141,
          -0.2165357064327316,
          -0.22519371509074027,
          -0.23428462418164933,
          -0.25690367180069695,
          -0.27208885698588214,
          -0.26670165159867676,
          -0.24566990556693072,
          -0.24294554659257175,
          -0.25440753489666534,
          -0.2686932491823796,
          -0.2956773761665066,
          -0.28001107879293785,
          -0.27207457085642994,
          -0.2577067547644759,
          -0.238002321266939,
          -0.24686931634083056,
          -0.26041611437038725,
          -0.26703401754001455,
          -0.22565470719518696,
          -0.21559723593081917,
          -0.20934597559607424,
          -0.2097089520026078,
          -0.22275050814761221,
          -0.23204586047145032,
          -0.2543429825870842,
          -0.2846460128901145,
          -0.2800041030757909,
          -0.27704843805116036,
          -0.28394498977529825,
          -0.32286412669806497,
          -0.3409265240708072,
          -0.34503161438279406,
          -0.35631688084047436,
          -0.37355826015081917,
          -0.3831368042121218,
          -0.3713478269059032,
          -0.36945316983883225,
          -0.3733324801836599,
          -0.36873477903423457,
          -0.3185098914780127,
          -0.28895324123170724,
          -0.29360718080969794,
          -0.30551194271445986,
          -0.295591307793825,
          -0.29201987922239636,
          -0.2675754347779519,
          -0.2592421014446186,
          -0.24841589061840777,
          -0.2618661830160686,
          -0.25353284968273526,
          -0.24627607137332538,
          -0.26405384915110314,
          -0.2834982935955476,
          -0.2951649602622143,
          -0.2591861242833783,
          -0.2386733037705578,
          -0.2473271499244039,
          -0.2499197425169965,
          -0.2702901128873669,
          -0.2771127249731368,
          -0.2866365344969464,
          -0.2838587567191686,
          -0.29113148399189587,
          -0.2820044998649118,
          -0.254226722087134,
          -0.27419973153382765,
          -0.28872964606374213,
          -0.3120629793970755,
          -0.3120629793970755,
          -0.3550581484792011,
          -0.36258503019963123,
          -0.35323758751885515,
          -0.3601158943971621,
          -0.3839254182066859,
          -0.3867031959844637,
          -0.39596245524372287
         ]
        },
        {
         "line": {
          "color": "darkmagenta",
          "dash": "dash"
         },
         "mode": "lines",
         "showlegend": false,
         "type": "scatter",
         "x": [
          "2023-01-01",
          "2024-09-16"
         ],
         "y": [
          -0.25325185508511566,
          -0.25325185508511566
         ]
        }
       ],
       "layout": {
        "annotations": [
         {
          "font": {
           "color": "forestgreen",
           "size": 16
          },
          "showarrow": false,
          "text": "<b>0.41</b>",
          "x": "2024-09-16",
          "xanchor": "left",
          "y": 0.4131019310681985,
          "yanchor": "middle"
         },
         {
          "font": {
           "color": "cornflowerblue",
           "size": 16
          },
          "showarrow": false,
          "text": "<b>0.16</b>",
          "x": "2024-09-16",
          "xanchor": "left",
          "y": 0.15888903619249636,
          "yanchor": "middle"
         },
         {
          "font": {
           "color": "darkmagenta",
           "size": 16
          },
          "showarrow": false,
          "text": "<b>-0.25</b>",
          "x": "2024-09-16",
          "xanchor": "left",
          "y": -0.25325185508511566,
          "yanchor": "middle"
         }
        ],
        "font": {
         "size": 20
        },
        "height": 800,
        "legend": {
         "bgcolor": "rgba(255, 255, 255, 0.8)",
         "bordercolor": "black",
         "borderwidth": 1,
         "font": {
          "size": 17
         },
         "x": 0.285,
         "xanchor": "right",
         "y": 0.01,
         "yanchor": "bottom"
        },
        "template": {
         "data": {
          "bar": [
           {
            "error_x": {
             "color": "#2a3f5f"
            },
            "error_y": {
             "color": "#2a3f5f"
            },
            "marker": {
             "line": {
              "color": "#E5ECF6",
              "width": 0.5
             },
             "pattern": {
              "fillmode": "overlay",
              "size": 10,
              "solidity": 0.2
             }
            },
            "type": "bar"
           }
          ],
          "barpolar": [
           {
            "marker": {
             "line": {
              "color": "#E5ECF6",
              "width": 0.5
             },
             "pattern": {
              "fillmode": "overlay",
              "size": 10,
              "solidity": 0.2
             }
            },
            "type": "barpolar"
           }
          ],
          "carpet": [
           {
            "aaxis": {
             "endlinecolor": "#2a3f5f",
             "gridcolor": "white",
             "linecolor": "white",
             "minorgridcolor": "white",
             "startlinecolor": "#2a3f5f"
            },
            "baxis": {
             "endlinecolor": "#2a3f5f",
             "gridcolor": "white",
             "linecolor": "white",
             "minorgridcolor": "white",
             "startlinecolor": "#2a3f5f"
            },
            "type": "carpet"
           }
          ],
          "choropleth": [
           {
            "colorbar": {
             "outlinewidth": 0,
             "ticks": ""
            },
            "type": "choropleth"
           }
          ],
          "contour": [
           {
            "colorbar": {
             "outlinewidth": 0,
             "ticks": ""
            },
            "colorscale": [
             [
              0,
              "#0d0887"
             ],
             [
              0.1111111111111111,
              "#46039f"
             ],
             [
              0.2222222222222222,
              "#7201a8"
             ],
             [
              0.3333333333333333,
              "#9c179e"
             ],
             [
              0.4444444444444444,
              "#bd3786"
             ],
             [
              0.5555555555555556,
              "#d8576b"
             ],
             [
              0.6666666666666666,
              "#ed7953"
             ],
             [
              0.7777777777777778,
              "#fb9f3a"
             ],
             [
              0.8888888888888888,
              "#fdca26"
             ],
             [
              1,
              "#f0f921"
             ]
            ],
            "type": "contour"
           }
          ],
          "contourcarpet": [
           {
            "colorbar": {
             "outlinewidth": 0,
             "ticks": ""
            },
            "type": "contourcarpet"
           }
          ],
          "heatmap": [
           {
            "colorbar": {
             "outlinewidth": 0,
             "ticks": ""
            },
            "colorscale": [
             [
              0,
              "#0d0887"
             ],
             [
              0.1111111111111111,
              "#46039f"
             ],
             [
              0.2222222222222222,
              "#7201a8"
             ],
             [
              0.3333333333333333,
              "#9c179e"
             ],
             [
              0.4444444444444444,
              "#bd3786"
             ],
             [
              0.5555555555555556,
              "#d8576b"
             ],
             [
              0.6666666666666666,
              "#ed7953"
             ],
             [
              0.7777777777777778,
              "#fb9f3a"
             ],
             [
              0.8888888888888888,
              "#fdca26"
             ],
             [
              1,
              "#f0f921"
             ]
            ],
            "type": "heatmap"
           }
          ],
          "heatmapgl": [
           {
            "colorbar": {
             "outlinewidth": 0,
             "ticks": ""
            },
            "colorscale": [
             [
              0,
              "#0d0887"
             ],
             [
              0.1111111111111111,
              "#46039f"
             ],
             [
              0.2222222222222222,
              "#7201a8"
             ],
             [
              0.3333333333333333,
              "#9c179e"
             ],
             [
              0.4444444444444444,
              "#bd3786"
             ],
             [
              0.5555555555555556,
              "#d8576b"
             ],
             [
              0.6666666666666666,
              "#ed7953"
             ],
             [
              0.7777777777777778,
              "#fb9f3a"
             ],
             [
              0.8888888888888888,
              "#fdca26"
             ],
             [
              1,
              "#f0f921"
             ]
            ],
            "type": "heatmapgl"
           }
          ],
          "histogram": [
           {
            "marker": {
             "pattern": {
              "fillmode": "overlay",
              "size": 10,
              "solidity": 0.2
             }
            },
            "type": "histogram"
           }
          ],
          "histogram2d": [
           {
            "colorbar": {
             "outlinewidth": 0,
             "ticks": ""
            },
            "colorscale": [
             [
              0,
              "#0d0887"
             ],
             [
              0.1111111111111111,
              "#46039f"
             ],
             [
              0.2222222222222222,
              "#7201a8"
             ],
             [
              0.3333333333333333,
              "#9c179e"
             ],
             [
              0.4444444444444444,
              "#bd3786"
             ],
             [
              0.5555555555555556,
              "#d8576b"
             ],
             [
              0.6666666666666666,
              "#ed7953"
             ],
             [
              0.7777777777777778,
              "#fb9f3a"
             ],
             [
              0.8888888888888888,
              "#fdca26"
             ],
             [
              1,
              "#f0f921"
             ]
            ],
            "type": "histogram2d"
           }
          ],
          "histogram2dcontour": [
           {
            "colorbar": {
             "outlinewidth": 0,
             "ticks": ""
            },
            "colorscale": [
             [
              0,
              "#0d0887"
             ],
             [
              0.1111111111111111,
              "#46039f"
             ],
             [
              0.2222222222222222,
              "#7201a8"
             ],
             [
              0.3333333333333333,
              "#9c179e"
             ],
             [
              0.4444444444444444,
              "#bd3786"
             ],
             [
              0.5555555555555556,
              "#d8576b"
             ],
             [
              0.6666666666666666,
              "#ed7953"
             ],
             [
              0.7777777777777778,
              "#fb9f3a"
             ],
             [
              0.8888888888888888,
              "#fdca26"
             ],
             [
              1,
              "#f0f921"
             ]
            ],
            "type": "histogram2dcontour"
           }
          ],
          "mesh3d": [
           {
            "colorbar": {
             "outlinewidth": 0,
             "ticks": ""
            },
            "type": "mesh3d"
           }
          ],
          "parcoords": [
           {
            "line": {
             "colorbar": {
              "outlinewidth": 0,
              "ticks": ""
             }
            },
            "type": "parcoords"
           }
          ],
          "pie": [
           {
            "automargin": true,
            "type": "pie"
           }
          ],
          "scatter": [
           {
            "fillpattern": {
             "fillmode": "overlay",
             "size": 10,
             "solidity": 0.2
            },
            "type": "scatter"
           }
          ],
          "scatter3d": [
           {
            "line": {
             "colorbar": {
              "outlinewidth": 0,
              "ticks": ""
             }
            },
            "marker": {
             "colorbar": {
              "outlinewidth": 0,
              "ticks": ""
             }
            },
            "type": "scatter3d"
           }
          ],
          "scattercarpet": [
           {
            "marker": {
             "colorbar": {
              "outlinewidth": 0,
              "ticks": ""
             }
            },
            "type": "scattercarpet"
           }
          ],
          "scattergeo": [
           {
            "marker": {
             "colorbar": {
              "outlinewidth": 0,
              "ticks": ""
             }
            },
            "type": "scattergeo"
           }
          ],
          "scattergl": [
           {
            "marker": {
             "colorbar": {
              "outlinewidth": 0,
              "ticks": ""
             }
            },
            "type": "scattergl"
           }
          ],
          "scattermapbox": [
           {
            "marker": {
             "colorbar": {
              "outlinewidth": 0,
              "ticks": ""
             }
            },
            "type": "scattermapbox"
           }
          ],
          "scatterpolar": [
           {
            "marker": {
             "colorbar": {
              "outlinewidth": 0,
              "ticks": ""
             }
            },
            "type": "scatterpolar"
           }
          ],
          "scatterpolargl": [
           {
            "marker": {
             "colorbar": {
              "outlinewidth": 0,
              "ticks": ""
             }
            },
            "type": "scatterpolargl"
           }
          ],
          "scatterternary": [
           {
            "marker": {
             "colorbar": {
              "outlinewidth": 0,
              "ticks": ""
             }
            },
            "type": "scatterternary"
           }
          ],
          "surface": [
           {
            "colorbar": {
             "outlinewidth": 0,
             "ticks": ""
            },
            "colorscale": [
             [
              0,
              "#0d0887"
             ],
             [
              0.1111111111111111,
              "#46039f"
             ],
             [
              0.2222222222222222,
              "#7201a8"
             ],
             [
              0.3333333333333333,
              "#9c179e"
             ],
             [
              0.4444444444444444,
              "#bd3786"
             ],
             [
              0.5555555555555556,
              "#d8576b"
             ],
             [
              0.6666666666666666,
              "#ed7953"
             ],
             [
              0.7777777777777778,
              "#fb9f3a"
             ],
             [
              0.8888888888888888,
              "#fdca26"
             ],
             [
              1,
              "#f0f921"
             ]
            ],
            "type": "surface"
           }
          ],
          "table": [
           {
            "cells": {
             "fill": {
              "color": "#EBF0F8"
             },
             "line": {
              "color": "white"
             }
            },
            "header": {
             "fill": {
              "color": "#C8D4E3"
             },
             "line": {
              "color": "white"
             }
            },
            "type": "table"
           }
          ]
         },
         "layout": {
          "annotationdefaults": {
           "arrowcolor": "#2a3f5f",
           "arrowhead": 0,
           "arrowwidth": 1
          },
          "autotypenumbers": "strict",
          "coloraxis": {
           "colorbar": {
            "outlinewidth": 0,
            "ticks": ""
           }
          },
          "colorscale": {
           "diverging": [
            [
             0,
             "#8e0152"
            ],
            [
             0.1,
             "#c51b7d"
            ],
            [
             0.2,
             "#de77ae"
            ],
            [
             0.3,
             "#f1b6da"
            ],
            [
             0.4,
             "#fde0ef"
            ],
            [
             0.5,
             "#f7f7f7"
            ],
            [
             0.6,
             "#e6f5d0"
            ],
            [
             0.7,
             "#b8e186"
            ],
            [
             0.8,
             "#7fbc41"
            ],
            [
             0.9,
             "#4d9221"
            ],
            [
             1,
             "#276419"
            ]
           ],
           "sequential": [
            [
             0,
             "#0d0887"
            ],
            [
             0.1111111111111111,
             "#46039f"
            ],
            [
             0.2222222222222222,
             "#7201a8"
            ],
            [
             0.3333333333333333,
             "#9c179e"
            ],
            [
             0.4444444444444444,
             "#bd3786"
            ],
            [
             0.5555555555555556,
             "#d8576b"
            ],
            [
             0.6666666666666666,
             "#ed7953"
            ],
            [
             0.7777777777777778,
             "#fb9f3a"
            ],
            [
             0.8888888888888888,
             "#fdca26"
            ],
            [
             1,
             "#f0f921"
            ]
           ],
           "sequentialminus": [
            [
             0,
             "#0d0887"
            ],
            [
             0.1111111111111111,
             "#46039f"
            ],
            [
             0.2222222222222222,
             "#7201a8"
            ],
            [
             0.3333333333333333,
             "#9c179e"
            ],
            [
             0.4444444444444444,
             "#bd3786"
            ],
            [
             0.5555555555555556,
             "#d8576b"
            ],
            [
             0.6666666666666666,
             "#ed7953"
            ],
            [
             0.7777777777777778,
             "#fb9f3a"
            ],
            [
             0.8888888888888888,
             "#fdca26"
            ],
            [
             1,
             "#f0f921"
            ]
           ]
          },
          "colorway": [
           "#636efa",
           "#EF553B",
           "#00cc96",
           "#ab63fa",
           "#FFA15A",
           "#19d3f3",
           "#FF6692",
           "#B6E880",
           "#FF97FF",
           "#FECB52"
          ],
          "font": {
           "color": "#2a3f5f"
          },
          "geo": {
           "bgcolor": "white",
           "lakecolor": "white",
           "landcolor": "#E5ECF6",
           "showlakes": true,
           "showland": true,
           "subunitcolor": "white"
          },
          "hoverlabel": {
           "align": "left"
          },
          "hovermode": "closest",
          "mapbox": {
           "style": "light"
          },
          "paper_bgcolor": "white",
          "plot_bgcolor": "#E5ECF6",
          "polar": {
           "angularaxis": {
            "gridcolor": "white",
            "linecolor": "white",
            "ticks": ""
           },
           "bgcolor": "#E5ECF6",
           "radialaxis": {
            "gridcolor": "white",
            "linecolor": "white",
            "ticks": ""
           }
          },
          "scene": {
           "xaxis": {
            "backgroundcolor": "#E5ECF6",
            "gridcolor": "white",
            "gridwidth": 2,
            "linecolor": "white",
            "showbackground": true,
            "ticks": "",
            "zerolinecolor": "white"
           },
           "yaxis": {
            "backgroundcolor": "#E5ECF6",
            "gridcolor": "white",
            "gridwidth": 2,
            "linecolor": "white",
            "showbackground": true,
            "ticks": "",
            "zerolinecolor": "white"
           },
           "zaxis": {
            "backgroundcolor": "#E5ECF6",
            "gridcolor": "white",
            "gridwidth": 2,
            "linecolor": "white",
            "showbackground": true,
            "ticks": "",
            "zerolinecolor": "white"
           }
          },
          "shapedefaults": {
           "line": {
            "color": "#2a3f5f"
           }
          },
          "ternary": {
           "aaxis": {
            "gridcolor": "white",
            "linecolor": "white",
            "ticks": ""
           },
           "baxis": {
            "gridcolor": "white",
            "linecolor": "white",
            "ticks": ""
           },
           "bgcolor": "#E5ECF6",
           "caxis": {
            "gridcolor": "white",
            "linecolor": "white",
            "ticks": ""
           }
          },
          "title": {
           "x": 0.05
          },
          "xaxis": {
           "automargin": true,
           "gridcolor": "white",
           "linecolor": "white",
           "ticks": "",
           "title": {
            "standoff": 15
           },
           "zerolinecolor": "white",
           "zerolinewidth": 2
          },
          "yaxis": {
           "automargin": true,
           "gridcolor": "white",
           "linecolor": "white",
           "ticks": "",
           "title": {
            "standoff": 15
           },
           "zerolinecolor": "white",
           "zerolinewidth": 2
          }
         }
        },
        "title": {
         "text": "Moving Average of Sentiment"
        },
        "width": 800,
        "xaxis": {
         "linecolor": "black",
         "linewidth": 1,
         "mirror": true,
         "showline": true,
         "tickformat": "%Y-%m-%d",
         "title": {
          "text": "Date"
         }
        },
        "yaxis": {
         "linecolor": "black",
         "linewidth": 1,
         "mirror": true,
         "showline": true,
         "title": {
          "text": "Sentiment"
         }
        }
       }
      }
     },
     "metadata": {},
     "output_type": "display_data"
    }
   ],
   "source": [
    "### Sentiment over Time per Aspect\n",
    "# Create a figure\n",
    "fig = go.Figure()\n",
    "\n",
    "for aspect_filter in aspect_filters:\n",
    "    if aspect_filter:\n",
    "\n",
    "        # Add rolling mean line\n",
    "        fig.add_trace(go.Scatter(\n",
    "            x=daily_data_asp[aspect_filter].index,  # X-axis will be the index (dates or similar)\n",
    "            y=daily_data_asp[aspect_filter]['sentiment_int'].rolling(30, min_periods=2).mean(),\n",
    "            mode='lines',\n",
    "            name=aspect_filter.title(),\n",
    "            line=dict(color=aspect_colors[aspect_filter])\n",
    "        ))\n",
    "\n",
    "        # Compute mean relevance score\n",
    "        avg_score = data_all_asp[aspect_filter]['sentiment_int'].mean()\n",
    "\n",
    "        # Add horizontal dashed line for the average relevance score\n",
    "        fig.add_trace(go.Scatter(\n",
    "            x=[start_date, end_date],  # Start and end date for the horizontal line\n",
    "            y=[avg_score] * 2,  # From start to end point - constant value\n",
    "            mode='lines',\n",
    "            line=dict(color=aspect_colors[aspect_filter], dash='dash'),\n",
    "            showlegend=False\n",
    "        ))\n",
    "\n",
    "        # Add annotation to write y-value at the end of the horizontal line\n",
    "        fig.add_annotation(\n",
    "            x=end_date,  # Position at the right end of the line\n",
    "            y=avg_score,  # At the level of the horizontal line\n",
    "            text=f'<b>{avg_score:.2f}</b>',  # Display value rounded to 2 decimals\n",
    "            showarrow=False,\n",
    "            xanchor='left',  # Text anchored to the left of the point\n",
    "            yanchor='middle',\n",
    "            font=dict(color=aspect_colors[aspect_filter], size=16)  # Color matches the line\n",
    "        )\n",
    "\n",
    "# Update layout with legend\n",
    "fig.update_layout(\n",
    "    title='Moving Average of Sentiment',\n",
    "    width=800,\n",
    "    height=800,\n",
    "    xaxis_tickformat='%Y-%m-%d',\n",
    "    xaxis_title='Date',\n",
    "    yaxis_title='Sentiment',\n",
    "    font=dict(size=textfont_size),\n",
    "    xaxis=dict(showline=True, linewidth=1, linecolor='black', mirror=True),  # Black line on x-axis\n",
    "    yaxis=dict(showline=True, linewidth=1, linecolor='black', mirror=True),  # Black line on y-axis\n",
    "    legend=dict(\n",
    "        x=0.285,\n",
    "        y=0.01,\n",
    "        xanchor='right',\n",
    "        yanchor='bottom',\n",
    "        bgcolor='rgba(255, 255, 255, 0.8)',  # Set a background color for better visibility\n",
    "        bordercolor='black',  # Set border color\n",
    "        borderwidth=1,  # Set border width\n",
    "        font = dict(size = textfont_size-3),\n",
    "    ),\n",
    ")\n",
    "\n",
    "\n",
    "# Show the plot\n",
    "fig.show()"
   ]
  }
 ],
 "metadata": {
  "kernelspec": {
   "display_name": "test_env",
   "language": "python",
   "name": "python3"
  },
  "language_info": {
   "codemirror_mode": {
    "name": "ipython",
    "version": 3
   },
   "file_extension": ".py",
   "mimetype": "text/x-python",
   "name": "python",
   "nbconvert_exporter": "python",
   "pygments_lexer": "ipython3",
   "version": "3.10.15"
  }
 },
 "nbformat": 4,
 "nbformat_minor": 2
}
