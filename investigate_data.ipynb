{
 "cells": [
  {
   "cell_type": "code",
   "execution_count": null,
   "metadata": {},
   "outputs": [],
   "source": [
    "%load_ext autoreload\n",
    "%autoreload 2\n",
    "\n",
    "import numpy as np\n",
    "import pandas as pd\n",
    "\n",
    "import plotly.graph_objects as go\n",
    "from plotly.subplots import make_subplots\n",
    "\n",
    "\n",
    "from helper_functions import filter_data, calculate_daily_data\n",
    "\n",
    "# Variable used in plots later\n",
    "textfont_size = 20"
   ]
  },
  {
   "cell_type": "code",
   "execution_count": null,
   "metadata": {},
   "outputs": [],
   "source": [
    "# LOAD DATA\n",
    "data = pd.read_json('data/full_data/nano_esg.json', lines=True)\n",
    "\n",
    "start_date = '2023-01-01'\n",
    "end_date = '2024-09-16'\n",
    "\n",
    "companies = list(data['company'].unique())\n",
    "\n",
    "sent_dict = {'positive': 1, 'negative': -1, 'neutral': 0}\n",
    "aspect_filters = ['environmental', 'social', 'governance']\n",
    "\n",
    "data['sentiment_int'] = data['sentiment'].apply(lambda x: sent_dict[x])\n",
    "\n",
    "#For plots\n",
    "aspect_colors = {'environmental': 'forestgreen', 'social': 'cornflowerblue', 'governance': 'darkmagenta'}"
   ]
  },
  {
   "cell_type": "code",
   "execution_count": null,
   "metadata": {},
   "outputs": [],
   "source": [
    "#Over whole dataset\n",
    "data_all_asp = {}\n",
    "daily_data_asp = {}\n",
    "for aspect_filter in aspect_filters:\n",
    "    all_data = filter_data(data, None, aspect_filter)\n",
    "    daily_data = calculate_daily_data(all_data.copy(), start_date, end_date, fill_edges=False)\n",
    "    daily_data_asp[aspect_filter] = daily_data\n",
    "    data_all_asp[aspect_filter] = all_data\n",
    "\n",
    "data_all_graph = data.set_index('date')"
   ]
  },
  {
   "cell_type": "markdown",
   "metadata": {},
   "source": [
    "## Section 4"
   ]
  },
  {
   "cell_type": "markdown",
   "metadata": {},
   "source": [
    "### Fig. 2: Amount of Articles per Company"
   ]
  },
  {
   "cell_type": "code",
   "execution_count": null,
   "metadata": {},
   "outputs": [],
   "source": [
    "asp_count_per_comp = {}\n",
    "for company in companies:\n",
    "    asp_count_per_comp[company] = {}\n",
    "    for aspect_filter in aspect_filters:\n",
    "        asp_count_per_comp[company][aspect_filter] = len(data_all_asp[aspect_filter][data_all_asp[aspect_filter]['company'] == company])\n",
    "\n",
    "asp_ratio_per_comp = {}\n",
    "for company in companies:\n",
    "    asp_ratio_per_comp[company] = {i: asp_count_per_comp[company][i]/np.sum(list(asp_count_per_comp[company].values())) for i in asp_count_per_comp[company]}"
   ]
  },
  {
   "cell_type": "code",
   "execution_count": null,
   "metadata": {},
   "outputs": [],
   "source": [
    "#sort pos dict\n",
    "asp_count_per_comp = dict(sorted(asp_count_per_comp.items(), key=lambda x: sum(x[1].values()), reverse=True))\n",
    "\n",
    "# Create traces for each category (positive and negative stacked bars)\n",
    "fig = make_subplots(\n",
    "    rows=2, cols=1, \n",
    "    shared_xaxes=True, \n",
    "    row_heights=[0.67, 0.33],  # The ratio for subplot heights\n",
    "    vertical_spacing=0.02      # Adjust space between the plots\n",
    ")\n",
    "\n",
    "# Adding bars for each category\n",
    "for aspect_filter in aspect_filters:\n",
    "    fig.add_trace(go.Bar(\n",
    "        x=list(asp_count_per_comp.keys()),\n",
    "        y=[asp_count_per_comp[company][aspect_filter] for company in asp_count_per_comp],\n",
    "        name=aspect_filter.title(),\n",
    "        # offsetgroup=1,\n",
    "        # legendgroup=f'{category}',\n",
    "        marker_color=aspect_colors[aspect_filter],\n",
    "        # hovertemplate=f'{aspect_filter} Positive: %{{y}}<extra></extra>',\n",
    "    ), row=1, col=1)\n",
    "\n",
    "    fig.add_trace(go.Bar(\n",
    "        x=list(asp_count_per_comp.keys()),\n",
    "        y=[asp_ratio_per_comp[company][aspect_filter] for company in asp_count_per_comp],\n",
    "        name=aspect_filter.title(),\n",
    "        marker_color=aspect_colors[aspect_filter],\n",
    "        showlegend=False,\n",
    "    ), row=2, col=1)\n",
    "\n",
    "# Update layout for visual styling\n",
    "fig.update_layout(\n",
    "    barmode='relative',\n",
    "    title='Amount of Articles per Company',\n",
    "    bargap=0.2,\n",
    "    # plot_bgcolor='rgba(0,0,0,0)',\n",
    "    height=1000,\n",
    "    width=1500,\n",
    "    font=dict(size=textfont_size),\n",
    "    # xaxis=dict(showline=True, linewidth=1, linecolor='black', mirror=True, tickangle=45),  # Black line on x-axis\n",
    "    xaxis2=dict(tickangle=45),  # Black line on x-axis\n",
    "    yaxis1=dict(title='Number of Articles'),  # Black line on y-axis\n",
    "    yaxis2=dict(title='Ratio of Aspects'),  # Black line on y-axis\n",
    "    legend=dict(\n",
    "        x=0.98,  # Position it 10% from the left side of the first subplot\n",
    "        y=0.8,  # Position it vertically centered\n",
    "        xanchor='right',  # Anchor the legend to the left\n",
    "        yanchor='bottom',  # Anchor the legend to the middle\n",
    "        bgcolor='rgba(255, 255, 255, 0.8)',  # Optional: set a background color for better visibility\n",
    "        bordercolor='black',  # Optional: set border color\n",
    "        borderwidth=1,  # Optional: set border width\n",
    "        font = dict(size = textfont_size),\n",
    "    ),\n",
    ")\n",
    "\n",
    "# Show the plot\n",
    "fig.show()"
   ]
  },
  {
   "cell_type": "markdown",
   "metadata": {},
   "source": [
    "### Table 1: Number & Ratio of Articles"
   ]
  },
  {
   "cell_type": "code",
   "execution_count": null,
   "metadata": {},
   "outputs": [],
   "source": [
    "sent_count_per_comp = {}\n",
    "sent_ratio_per_comp = {}\n",
    "for company in companies:\n",
    "    sent_count_per_comp[company] = {\n",
    "        'positive': len(data_all_graph[(data_all_graph['company'] == company) & (data_all_graph['sentiment'] == 'positive')]),\n",
    "        'negative': len(data_all_graph[(data_all_graph['company'] == company) & (data_all_graph['sentiment'] == 'negative')]),\n",
    "        'neutral': len(data_all_graph[(data_all_graph['company'] == company) & (data_all_graph['sentiment'] == 'neutral')]),\n",
    "    }\n",
    "for company in companies:\n",
    "    sent_ratio_per_comp[company] = {\n",
    "        'positive': sent_count_per_comp[company]['positive']/np.sum(list(sent_count_per_comp[company].values())),\n",
    "        'negative': sent_count_per_comp[company]['negative']/np.sum(list(sent_count_per_comp[company].values())),\n",
    "        'neutral': sent_count_per_comp[company]['neutral']/np.sum(list(sent_count_per_comp[company].values())),\n",
    "    }"
   ]
  },
  {
   "cell_type": "code",
   "execution_count": null,
   "metadata": {},
   "outputs": [],
   "source": [
    "# Total number of articles per ESG-sentiment\n",
    "pd.DataFrame(sent_count_per_comp).sum(axis=1)"
   ]
  },
  {
   "cell_type": "code",
   "execution_count": null,
   "metadata": {},
   "outputs": [],
   "source": [
    "# Company-Average ratio of articles per ESG-sentiment\n",
    "pd.DataFrame(sent_ratio_per_comp).mean(axis=1)"
   ]
  },
  {
   "cell_type": "code",
   "execution_count": null,
   "metadata": {},
   "outputs": [],
   "source": [
    "# Total number of articles per ESG-aspect\n",
    "pd.DataFrame(asp_count_per_comp).sum(axis=1)"
   ]
  },
  {
   "cell_type": "code",
   "execution_count": null,
   "metadata": {},
   "outputs": [],
   "source": [
    "# Company-Average ratio of articles per ESG-aspect\n",
    "pd.DataFrame(asp_ratio_per_comp).mean(axis=1)"
   ]
  },
  {
   "cell_type": "markdown",
   "metadata": {},
   "source": [
    "## Section 6.1"
   ]
  },
  {
   "cell_type": "markdown",
   "metadata": {},
   "source": [
    "### Table 2: Distribution of relevance scores"
   ]
  },
  {
   "cell_type": "code",
   "execution_count": null,
   "metadata": {},
   "outputs": [],
   "source": [
    "data['relevance_score'].value_counts().sort_index()"
   ]
  },
  {
   "cell_type": "markdown",
   "metadata": {},
   "source": [
    "### Fig 3 - left: Weekly Count of Articles per Aspect and in Total"
   ]
  },
  {
   "cell_type": "code",
   "execution_count": null,
   "metadata": {},
   "outputs": [],
   "source": [
    "counts = data_all_graph.groupby('aspect').resample('W').size().unstack(fill_value=0).T#.rolling(60, min_periods=1).mean()\n",
    "\n",
    "# Create the figure\n",
    "fig = go.Figure()\n",
    "\n",
    "# Add a line for each aspect\n",
    "for aspect in counts.columns:\n",
    "    fig.add_trace(go.Scatter(\n",
    "        x=counts.index, \n",
    "        y=counts[aspect], \n",
    "        mode='lines+markers',\n",
    "        name=aspect.title(),\n",
    "        line=dict(color=aspect_colors[aspect]),\n",
    "    ))\n",
    "\n",
    "fig.add_trace(go.Scatter(\n",
    "    x=counts.index, \n",
    "    y=counts.sum(axis=1), \n",
    "    mode='lines+markers',\n",
    "    name='Total'\n",
    "))\n",
    "\n",
    "# Update layout with titles\n",
    "fig.update_layout(\n",
    "    title='Weekly Number of Articles',\n",
    "    xaxis_title='Week',\n",
    "    yaxis_title='Count',\n",
    "    xaxis_tickformat='%Y-%m-%d',\n",
    "    width=800,\n",
    "    height=800,\n",
    "    font=dict(size=textfont_size),\n",
    "    xaxis=dict(showline=True, linewidth=1, linecolor='black', mirror=True),  # Black line on x-axis\n",
    "    yaxis=dict(showline=True, linewidth=1, linecolor='black', mirror=True),  # Black line on y-axis\n",
    "    legend=dict(\n",
    "        x=0.98,  # Position it 10% from the left side of the first subplot\n",
    "        y=0.78,  # Position it vertically centered\n",
    "        xanchor='right',  # Anchor the legend to the left\n",
    "        yanchor='bottom',  # Anchor the legend to the middle\n",
    "        bgcolor='rgba(255, 255, 255, 0.8)',  # Optional: set a background color for better visibility\n",
    "        bordercolor='black',  # Optional: set border color\n",
    "        borderwidth=1,  # Optional: set border width\n",
    "        font = dict(size = textfont_size-3),\n",
    "    ),\n",
    ")\n",
    "\n",
    "# Show the plot\n",
    "fig.show()"
   ]
  },
  {
   "cell_type": "markdown",
   "metadata": {},
   "source": [
    "### Fig. 3 - right: Moving Average of the Daily Sentiment"
   ]
  },
  {
   "cell_type": "code",
   "execution_count": null,
   "metadata": {},
   "outputs": [],
   "source": [
    "### Sentiment over Time per Aspect\n",
    "# Create a figure\n",
    "fig = go.Figure()\n",
    "\n",
    "for aspect_filter in aspect_filters:\n",
    "    if aspect_filter:\n",
    "\n",
    "        # Add rolling mean line\n",
    "        fig.add_trace(go.Scatter(\n",
    "            x=daily_data_asp[aspect_filter].index,  # X-axis will be the index (dates or similar)\n",
    "            y=daily_data_asp[aspect_filter]['sentiment_int'].rolling(30, min_periods=2).mean(),\n",
    "            mode='lines',\n",
    "            name=aspect_filter.title(),\n",
    "            line=dict(color=aspect_colors[aspect_filter])\n",
    "        ))\n",
    "\n",
    "        # Compute mean relevance score\n",
    "        avg_score = data_all_asp[aspect_filter]['sentiment_int'].mean()\n",
    "\n",
    "        # Add horizontal dashed line for the average relevance score\n",
    "        fig.add_trace(go.Scatter(\n",
    "            x=[start_date, end_date],  # Start and end date for the horizontal line\n",
    "            y=[avg_score] * 2,  # From start to end point - constant value\n",
    "            mode='lines',\n",
    "            line=dict(color=aspect_colors[aspect_filter], dash='dash'),\n",
    "            showlegend=False\n",
    "        ))\n",
    "\n",
    "        # Add annotation to write y-value at the end of the horizontal line\n",
    "        fig.add_annotation(\n",
    "            x=end_date,  # Position at the right end of the line\n",
    "            y=avg_score,  # At the level of the horizontal line\n",
    "            text=f'<b>{avg_score:.2f}</b>',  # Display value rounded to 2 decimals\n",
    "            showarrow=False,\n",
    "            xanchor='left',  # Text anchored to the left of the point\n",
    "            yanchor='middle',\n",
    "            font=dict(color=aspect_colors[aspect_filter], size=16)  # Color matches the line\n",
    "        )\n",
    "\n",
    "# Update layout with legend\n",
    "fig.update_layout(\n",
    "    title='Moving Average of Sentiment',\n",
    "    width=800,\n",
    "    height=800,\n",
    "    xaxis_tickformat='%Y-%m-%d',\n",
    "    xaxis_title='Date',\n",
    "    yaxis_title='Sentiment',\n",
    "    font=dict(size=textfont_size),\n",
    "    xaxis=dict(showline=True, linewidth=1, linecolor='black', mirror=True),  # Black line on x-axis\n",
    "    yaxis=dict(showline=True, linewidth=1, linecolor='black', mirror=True),  # Black line on y-axis\n",
    "    legend=dict(\n",
    "        x=0.285,\n",
    "        y=0.01,\n",
    "        xanchor='right',\n",
    "        yanchor='bottom',\n",
    "        bgcolor='rgba(255, 255, 255, 0.8)',  # Set a background color for better visibility\n",
    "        bordercolor='black',  # Set border color\n",
    "        borderwidth=1,  # Set border width\n",
    "        font = dict(size = textfont_size-3),\n",
    "    ),\n",
    ")\n",
    "\n",
    "\n",
    "# Show the plot\n",
    "fig.show()"
   ]
  }
 ],
 "metadata": {
  "kernelspec": {
   "display_name": "test_env",
   "language": "python",
   "name": "python3"
  },
  "language_info": {
   "codemirror_mode": {
    "name": "ipython",
    "version": 3
   },
   "file_extension": ".py",
   "mimetype": "text/x-python",
   "name": "python",
   "nbconvert_exporter": "python",
   "pygments_lexer": "ipython3",
   "version": "3.10.15"
  }
 },
 "nbformat": 4,
 "nbformat_minor": 2
}
